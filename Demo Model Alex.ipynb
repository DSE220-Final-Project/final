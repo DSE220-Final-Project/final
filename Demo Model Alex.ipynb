{
 "cells": [
  {
   "cell_type": "code",
   "execution_count": 1,
   "metadata": {
    "collapsed": false
   },
   "outputs": [
    {
     "name": "stdout",
     "output_type": "stream",
     "text": [
      "Populating the interactive namespace from numpy and matplotlib\n"
     ]
    }
   ],
   "source": [
    "from xgboost import XGBClassifier\n",
    "from xgboost import DMatrix\n",
    "from sklearn.tree import DecisionTreeClassifier\n",
    "from sklearn.ensemble import RandomForestClassifier\n",
    "from sklearn.cross_validation import train_test_split\n",
    "from sklearn.preprocessing import scale\n",
    "from sklearn import datasets\n",
    "from sklearn import decomposition\n",
    "from sklearn.feature_selection import SelectKBest\n",
    "from sklearn.feature_selection import chi2\n",
    "from sklearn.svm import SVC\n",
    "import pandas as pd\n",
    "from sklearn.feature_selection import SelectKBest\n",
    "from sklearn.feature_selection import chi2\n",
    "from sklearn import preprocessing\n",
    "%pylab inline\n",
    "from pandas.tools.plotting import scatter_matrix"
   ]
  },
  {
   "cell_type": "code",
   "execution_count": 2,
   "metadata": {
    "collapsed": false
   },
   "outputs": [
    {
     "name": "stderr",
     "output_type": "stream",
     "text": [
      "/usr/local/lib/python2.7/site-packages/IPython/core/interactiveshell.py:2902: DtypeWarning: Columns (8,10) have mixed types. Specify dtype option on import or set low_memory=False.\n",
      "  interactivity=interactivity, compiler=compiler, result=result)\n"
     ]
    }
   ],
   "source": [
    "result = pd.read_csv(\"/Users/alexegg/Downloads/panel_stores_products_demos_8_11.csv\")"
   ]
  },
  {
   "cell_type": "code",
   "execution_count": 3,
   "metadata": {
    "collapsed": false
   },
   "outputs": [
    {
     "data": {
      "text/html": [
       "<div>\n",
       "<table border=\"1\" class=\"dataframe\">\n",
       "  <thead>\n",
       "    <tr style=\"text-align: right;\">\n",
       "      <th></th>\n",
       "      <th>panid</th>\n",
       "      <th>week</th>\n",
       "      <th>minute</th>\n",
       "      <th>units</th>\n",
       "      <th>outlet</th>\n",
       "      <th>dollars</th>\n",
       "      <th>iri_key</th>\n",
       "      <th>colupc</th>\n",
       "      <th>ou</th>\n",
       "      <th>est_acv</th>\n",
       "      <th>...</th>\n",
       "      <th>race2</th>\n",
       "      <th>race3</th>\n",
       "      <th>microwave</th>\n",
       "      <th>device_type</th>\n",
       "      <th>zipcode</th>\n",
       "      <th>fipscode</th>\n",
       "      <th>market_based_upon_zipcode</th>\n",
       "      <th>iri_geography_number</th>\n",
       "      <th>ext_fact</th>\n",
       "      <th>cnt</th>\n",
       "    </tr>\n",
       "  </thead>\n",
       "  <tbody>\n",
       "    <tr>\n",
       "      <th>0</th>\n",
       "      <td>1116608</td>\n",
       "      <td>1607</td>\n",
       "      <td>9587</td>\n",
       "      <td>2</td>\n",
       "      <td>DK</td>\n",
       "      <td>4.38</td>\n",
       "      <td>642166</td>\n",
       "      <td>11600014690</td>\n",
       "      <td>DR</td>\n",
       "      <td>1.674999</td>\n",
       "      <td>...</td>\n",
       "      <td>1</td>\n",
       "      <td>1</td>\n",
       "      <td>1</td>\n",
       "      <td>0</td>\n",
       "      <td>1201</td>\n",
       "      <td>25003</td>\n",
       "      <td>204</td>\n",
       "      <td>1</td>\n",
       "      <td>1</td>\n",
       "      <td>4</td>\n",
       "    </tr>\n",
       "    <tr>\n",
       "      <th>1</th>\n",
       "      <td>1408492</td>\n",
       "      <td>1632</td>\n",
       "      <td>8079</td>\n",
       "      <td>1</td>\n",
       "      <td>DK</td>\n",
       "      <td>1.12</td>\n",
       "      <td>642166</td>\n",
       "      <td>11600015840</td>\n",
       "      <td>DR</td>\n",
       "      <td>1.674999</td>\n",
       "      <td>...</td>\n",
       "      <td>1</td>\n",
       "      <td>1</td>\n",
       "      <td>1</td>\n",
       "      <td>0</td>\n",
       "      <td>1201</td>\n",
       "      <td>25003</td>\n",
       "      <td>204</td>\n",
       "      <td>1</td>\n",
       "      <td>1</td>\n",
       "      <td>4</td>\n",
       "    </tr>\n",
       "    <tr>\n",
       "      <th>2</th>\n",
       "      <td>1809632</td>\n",
       "      <td>1584</td>\n",
       "      <td>6998</td>\n",
       "      <td>2</td>\n",
       "      <td>DK</td>\n",
       "      <td>2.72</td>\n",
       "      <td>642166</td>\n",
       "      <td>11600015840</td>\n",
       "      <td>DR</td>\n",
       "      <td>1.674999</td>\n",
       "      <td>...</td>\n",
       "      <td>1</td>\n",
       "      <td>1</td>\n",
       "      <td>1</td>\n",
       "      <td>0</td>\n",
       "      <td>1201</td>\n",
       "      <td>25003</td>\n",
       "      <td>204</td>\n",
       "      <td>1</td>\n",
       "      <td>1</td>\n",
       "      <td>4</td>\n",
       "    </tr>\n",
       "    <tr>\n",
       "      <th>3</th>\n",
       "      <td>1809632</td>\n",
       "      <td>1604</td>\n",
       "      <td>6626</td>\n",
       "      <td>4</td>\n",
       "      <td>DK</td>\n",
       "      <td>5.32</td>\n",
       "      <td>642166</td>\n",
       "      <td>11600015990</td>\n",
       "      <td>DR</td>\n",
       "      <td>1.674999</td>\n",
       "      <td>...</td>\n",
       "      <td>1</td>\n",
       "      <td>1</td>\n",
       "      <td>1</td>\n",
       "      <td>0</td>\n",
       "      <td>1201</td>\n",
       "      <td>25003</td>\n",
       "      <td>204</td>\n",
       "      <td>1</td>\n",
       "      <td>1</td>\n",
       "      <td>4</td>\n",
       "    </tr>\n",
       "    <tr>\n",
       "      <th>4</th>\n",
       "      <td>1163584</td>\n",
       "      <td>1615</td>\n",
       "      <td>651</td>\n",
       "      <td>2</td>\n",
       "      <td>DK</td>\n",
       "      <td>3.00</td>\n",
       "      <td>642166</td>\n",
       "      <td>11600016490</td>\n",
       "      <td>DR</td>\n",
       "      <td>1.674999</td>\n",
       "      <td>...</td>\n",
       "      <td>1</td>\n",
       "      <td>1</td>\n",
       "      <td>1</td>\n",
       "      <td>0</td>\n",
       "      <td>1201</td>\n",
       "      <td>25003</td>\n",
       "      <td>204</td>\n",
       "      <td>1</td>\n",
       "      <td>1</td>\n",
       "      <td>4</td>\n",
       "    </tr>\n",
       "  </tbody>\n",
       "</table>\n",
       "<p>5 rows × 70 columns</p>\n",
       "</div>"
      ],
      "text/plain": [
       "     panid  week  minute  units outlet  dollars  iri_key       colupc  ou  \\\n",
       "0  1116608  1607    9587      2     DK     4.38   642166  11600014690  DR   \n",
       "1  1408492  1632    8079      1     DK     1.12   642166  11600015840  DR   \n",
       "2  1809632  1584    6998      2     DK     2.72   642166  11600015840  DR   \n",
       "3  1809632  1604    6626      4     DK     5.32   642166  11600015990  DR   \n",
       "4  1163584  1615     651      2     DK     3.00   642166  11600016490  DR   \n",
       "\n",
       "    est_acv ...  race2  race3  microwave  device_type zipcode fipscode  \\\n",
       "0  1.674999 ...      1      1          1            0    1201    25003   \n",
       "1  1.674999 ...      1      1          1            0    1201    25003   \n",
       "2  1.674999 ...      1      1          1            0    1201    25003   \n",
       "3  1.674999 ...      1      1          1            0    1201    25003   \n",
       "4  1.674999 ...      1      1          1            0    1201    25003   \n",
       "\n",
       "  market_based_upon_zipcode iri_geography_number ext_fact  cnt  \n",
       "0                       204                    1        1    4  \n",
       "1                       204                    1        1    4  \n",
       "2                       204                    1        1    4  \n",
       "3                       204                    1        1    4  \n",
       "4                       204                    1        1    4  \n",
       "\n",
       "[5 rows x 70 columns]"
      ]
     },
     "execution_count": 3,
     "metadata": {},
     "output_type": "execute_result"
    }
   ],
   "source": [
    "df=result\n",
    "df.shape\n",
    "df.head()"
   ]
  },
  {
   "cell_type": "code",
   "execution_count": 4,
   "metadata": {
    "collapsed": false
   },
   "outputs": [],
   "source": [
    "# df.set_index(\"panid\", inplace=True)\n",
    "df.fillna(method=\"ffill\", inplace=True)"
   ]
  },
  {
   "cell_type": "code",
   "execution_count": 5,
   "metadata": {
    "collapsed": false
   },
   "outputs": [
    {
     "data": {
      "text/html": [
       "<div>\n",
       "<table border=\"1\" class=\"dataframe\">\n",
       "  <thead>\n",
       "    <tr style=\"text-align: right;\">\n",
       "      <th></th>\n",
       "      <th>panid</th>\n",
       "      <th>week</th>\n",
       "      <th>minute</th>\n",
       "      <th>units</th>\n",
       "      <th>outlet</th>\n",
       "      <th>dollars</th>\n",
       "      <th>iri_key</th>\n",
       "      <th>colupc</th>\n",
       "      <th>ou</th>\n",
       "      <th>est_acv</th>\n",
       "      <th>...</th>\n",
       "      <th>race2</th>\n",
       "      <th>race3</th>\n",
       "      <th>microwave</th>\n",
       "      <th>device_type</th>\n",
       "      <th>zipcode</th>\n",
       "      <th>fipscode</th>\n",
       "      <th>market_based_upon_zipcode</th>\n",
       "      <th>iri_geography_number</th>\n",
       "      <th>ext_fact</th>\n",
       "      <th>cnt</th>\n",
       "    </tr>\n",
       "  </thead>\n",
       "  <tbody>\n",
       "    <tr>\n",
       "      <th>0</th>\n",
       "      <td>1116608</td>\n",
       "      <td>1607</td>\n",
       "      <td>9587</td>\n",
       "      <td>2</td>\n",
       "      <td>DK</td>\n",
       "      <td>4.38</td>\n",
       "      <td>642166</td>\n",
       "      <td>11600014690</td>\n",
       "      <td>DR</td>\n",
       "      <td>1.674999</td>\n",
       "      <td>...</td>\n",
       "      <td>1</td>\n",
       "      <td>1</td>\n",
       "      <td>1</td>\n",
       "      <td>0</td>\n",
       "      <td>1201</td>\n",
       "      <td>25003</td>\n",
       "      <td>204</td>\n",
       "      <td>1</td>\n",
       "      <td>1</td>\n",
       "      <td>4</td>\n",
       "    </tr>\n",
       "    <tr>\n",
       "      <th>1</th>\n",
       "      <td>1408492</td>\n",
       "      <td>1632</td>\n",
       "      <td>8079</td>\n",
       "      <td>1</td>\n",
       "      <td>DK</td>\n",
       "      <td>1.12</td>\n",
       "      <td>642166</td>\n",
       "      <td>11600015840</td>\n",
       "      <td>DR</td>\n",
       "      <td>1.674999</td>\n",
       "      <td>...</td>\n",
       "      <td>1</td>\n",
       "      <td>1</td>\n",
       "      <td>1</td>\n",
       "      <td>0</td>\n",
       "      <td>1201</td>\n",
       "      <td>25003</td>\n",
       "      <td>204</td>\n",
       "      <td>1</td>\n",
       "      <td>1</td>\n",
       "      <td>4</td>\n",
       "    </tr>\n",
       "    <tr>\n",
       "      <th>2</th>\n",
       "      <td>1809632</td>\n",
       "      <td>1584</td>\n",
       "      <td>6998</td>\n",
       "      <td>2</td>\n",
       "      <td>DK</td>\n",
       "      <td>2.72</td>\n",
       "      <td>642166</td>\n",
       "      <td>11600015840</td>\n",
       "      <td>DR</td>\n",
       "      <td>1.674999</td>\n",
       "      <td>...</td>\n",
       "      <td>1</td>\n",
       "      <td>1</td>\n",
       "      <td>1</td>\n",
       "      <td>0</td>\n",
       "      <td>1201</td>\n",
       "      <td>25003</td>\n",
       "      <td>204</td>\n",
       "      <td>1</td>\n",
       "      <td>1</td>\n",
       "      <td>4</td>\n",
       "    </tr>\n",
       "    <tr>\n",
       "      <th>3</th>\n",
       "      <td>1809632</td>\n",
       "      <td>1604</td>\n",
       "      <td>6626</td>\n",
       "      <td>4</td>\n",
       "      <td>DK</td>\n",
       "      <td>5.32</td>\n",
       "      <td>642166</td>\n",
       "      <td>11600015990</td>\n",
       "      <td>DR</td>\n",
       "      <td>1.674999</td>\n",
       "      <td>...</td>\n",
       "      <td>1</td>\n",
       "      <td>1</td>\n",
       "      <td>1</td>\n",
       "      <td>0</td>\n",
       "      <td>1201</td>\n",
       "      <td>25003</td>\n",
       "      <td>204</td>\n",
       "      <td>1</td>\n",
       "      <td>1</td>\n",
       "      <td>4</td>\n",
       "    </tr>\n",
       "    <tr>\n",
       "      <th>4</th>\n",
       "      <td>1163584</td>\n",
       "      <td>1615</td>\n",
       "      <td>651</td>\n",
       "      <td>2</td>\n",
       "      <td>DK</td>\n",
       "      <td>3.00</td>\n",
       "      <td>642166</td>\n",
       "      <td>11600016490</td>\n",
       "      <td>DR</td>\n",
       "      <td>1.674999</td>\n",
       "      <td>...</td>\n",
       "      <td>1</td>\n",
       "      <td>1</td>\n",
       "      <td>1</td>\n",
       "      <td>0</td>\n",
       "      <td>1201</td>\n",
       "      <td>25003</td>\n",
       "      <td>204</td>\n",
       "      <td>1</td>\n",
       "      <td>1</td>\n",
       "      <td>4</td>\n",
       "    </tr>\n",
       "  </tbody>\n",
       "</table>\n",
       "<p>5 rows × 70 columns</p>\n",
       "</div>"
      ],
      "text/plain": [
       "     panid  week  minute  units outlet  dollars  iri_key       colupc  ou  \\\n",
       "0  1116608  1607    9587      2     DK     4.38   642166  11600014690  DR   \n",
       "1  1408492  1632    8079      1     DK     1.12   642166  11600015840  DR   \n",
       "2  1809632  1584    6998      2     DK     2.72   642166  11600015840  DR   \n",
       "3  1809632  1604    6626      4     DK     5.32   642166  11600015990  DR   \n",
       "4  1163584  1615     651      2     DK     3.00   642166  11600016490  DR   \n",
       "\n",
       "    est_acv ...  race2  race3  microwave  device_type zipcode fipscode  \\\n",
       "0  1.674999 ...      1      1          1            0    1201    25003   \n",
       "1  1.674999 ...      1      1          1            0    1201    25003   \n",
       "2  1.674999 ...      1      1          1            0    1201    25003   \n",
       "3  1.674999 ...      1      1          1            0    1201    25003   \n",
       "4  1.674999 ...      1      1          1            0    1201    25003   \n",
       "\n",
       "  market_based_upon_zipcode iri_geography_number ext_fact  cnt  \n",
       "0                       204                    1        1    4  \n",
       "1                       204                    1        1    4  \n",
       "2                       204                    1        1    4  \n",
       "3                       204                    1        1    4  \n",
       "4                       204                    1        1    4  \n",
       "\n",
       "[5 rows x 70 columns]"
      ]
     },
     "execution_count": 5,
     "metadata": {},
     "output_type": "execute_result"
    }
   ],
   "source": [
    "df.head()"
   ]
  },
  {
   "cell_type": "code",
   "execution_count": 6,
   "metadata": {
    "collapsed": false
   },
   "outputs": [
    {
     "name": "stdout",
     "output_type": "stream",
     "text": [
      "GK    452594\n",
      "DK      5871\n",
      "MK      2560\n",
      "Name: outlet, dtype: int64\n",
      "['panid', 'week', 'minute', 'units', 'outlet', 'dollars', 'iri_key', 'colupc', 'ou', 'est_acv', 'marketname', 'open', 'clsd', 'upc2', 'l1', 'l2', 'l3', 'l4', 'l5', 'vol_eq', 'product_type', 'events', 'year', 'week_number', 'quarter', 'day_of_week', 'minute_by_day', 'hour', 'time_of_day', 'time_of_day_2', 'weekday_weekend', 'panelist_id', 'panelist_type', 'combined_pre_tax_income_of_hh', 'family_size', 'household_head_race', 'type_of_residential_possession', 'county', 'age_group_applied_to_household_head', 'education_level_reached_by_household_head', 'occupation_code_of_household_head', 'age_group_applied_to_male_hh', 'education_level_reached_by_male_hh', 'occupation_code_of_male_hh', 'male_working_hour_code', 'male_smoke', 'age_group_applied_to_female_hh', 'education_level_reached_by_female_hh', 'occupation_code_of_female_hh', 'female_working_hour_code', 'fem_smoke', 'number_of_dogs', 'number_of_cats', 'children_group_code', 'marital_status', 'hh_lang', 'all_tvs', 'cabl_tvs', 'hispanic_flag', 'hisp_cat', 'race2', 'race3', 'microwave', 'device_type', 'zipcode', 'fipscode', 'market_based_upon_zipcode', 'iri_geography_number', 'ext_fact', 'cnt']\n"
     ]
    }
   ],
   "source": [
    "print df.outlet.value_counts()\n",
    "outlets=pd.get_dummies(df.l2)\n",
    "print list(df.columns)"
   ]
  },
  {
   "cell_type": "markdown",
   "metadata": {},
   "source": [
    "If I'm a male of this demographic `D` and i'm in store `iri_key` on `day_of_week` at `time_of_day`, I will probably by `l2`\n",
    "\n",
    "* If I remove `year` I drop 6% in accuracy. However, i think I should remove this from the training set b/c I will never test against previous years...\n",
    "* if I remove `HISP_CAT` I drop 4%, but I have to b/c it's all nill\n",
    "* `vol_eq` contributres about 38% accuracy"
   ]
  },
  {
   "cell_type": "code",
   "execution_count": 82,
   "metadata": {
    "collapsed": false
   },
   "outputs": [],
   "source": [
    "feature_list=[ 'iri_key', \n",
    "               'year', 'week_number', 'quarter', 'day_of_week', \n",
    "               'minute_by_day', 'hour', 'time_of_day', 'time_of_day_2', 'weekday_weekend', \n",
    "               'panelist_type', \n",
    "               'combined_pre_tax_income_of_hh', 'family_size', 'household_head_race', \n",
    "               'type_of_residential_possession', 'age_group_applied_to_household_head', \n",
    "               'education_level_reached_by_household_head',\n",
    "               'occupation_code_of_household_head', 'age_group_applied_to_male_hh', \n",
    "               'education_level_reached_by_male_hh', 'occupation_code_of_male_hh', \n",
    "               'male_working_hour_code', 'male_smoke', 'age_group_applied_to_female_hh', \n",
    "               'education_level_reached_by_female_hh', 'occupation_code_of_female_hh',\n",
    "               'female_working_hour_code', 'fem_smoke', 'number_of_dogs',\n",
    "               'number_of_cats', 'children_group_code', 'marital_status', \n",
    "               'hh_lang', 'all_tvs', 'cabl_tvs',\n",
    "               'race3', 'zipcode']\n",
    "features = df[feature_list]\n",
    "\n",
    "#target encoder\n",
    "target_column_name=\"l2\"\n",
    "target_column = df[target_column_name]\n",
    "le = preprocessing.LabelEncoder()\n",
    "le.fit(list(set(target_column.values)))\n",
    "target = le.transform(target_column.values)\n"
   ]
  },
  {
   "cell_type": "code",
   "execution_count": 83,
   "metadata": {
    "collapsed": false
   },
   "outputs": [],
   "source": [
    "features2=features.fillna(method=\"bfill\")\n",
    "oh=pd.get_dummies(features2)\n",
    "\n",
    "\n",
    "features_3 = oh"
   ]
  },
  {
   "cell_type": "code",
   "execution_count": 84,
   "metadata": {
    "collapsed": false
   },
   "outputs": [],
   "source": [
    "scaled = scale(features_3)\n",
    "# X_new = SelectKBest(chi2, k=2).fit_transform(scaled, target)\n",
    "# X_new.shape\n"
   ]
  },
  {
   "cell_type": "code",
   "execution_count": 85,
   "metadata": {
    "collapsed": false
   },
   "outputs": [
    {
     "name": "stdout",
     "output_type": "stream",
     "text": [
      "(345768, 53)\n"
     ]
    }
   ],
   "source": [
    "X_train, X_test, Y_train, Y_test = train_test_split(scaled, target, test_size=0.25, random_state=4)\n",
    "print (X_train.shape)"
   ]
  },
  {
   "cell_type": "markdown",
   "metadata": {},
   "source": [
    "so now I can predict what somebody will buy if they if they walk into "
   ]
  },
  {
   "cell_type": "code",
   "execution_count": 86,
   "metadata": {
    "collapsed": false
   },
   "outputs": [
    {
     "name": "stdout",
     "output_type": "stream",
     "text": [
      "0.385737959517\n"
     ]
    }
   ],
   "source": [
    "dtree = DecisionTreeClassifier()\n",
    "dtree.fit(X_train, Y_train)\n",
    "# print dtree.score(X_train, Y_train)\n",
    "print dtree.score(X_test, Y_test)\n",
    "#.377"
   ]
  },
  {
   "cell_type": "code",
   "execution_count": 87,
   "metadata": {
    "collapsed": false
   },
   "outputs": [
    {
     "data": {
      "text/plain": [
       "0.42446011955889879"
      ]
     },
     "execution_count": 87,
     "metadata": {},
     "output_type": "execute_result"
    }
   ],
   "source": [
    "rf = RandomForestClassifier()\n",
    "rf.fit(X_train, Y_train)\n",
    "rf.score(X_test, np.ravel(Y_test))\n",
    "#.415"
   ]
  },
  {
   "cell_type": "code",
   "execution_count": 14,
   "metadata": {
    "collapsed": false
   },
   "outputs": [],
   "source": [
    "# from sklearn.neighbors import KNeighborsClassifier\n",
    "# neigh = KNeighborsClassifier(n_neighbors=3)\n",
    "# neigh.fit(X_train, Y_train)\n",
    "# dtree.score(X_test, Y_test)"
   ]
  },
  {
   "cell_type": "code",
   "execution_count": 15,
   "metadata": {
    "collapsed": false
   },
   "outputs": [],
   "source": [
    "# from sklearn import svm\n",
    "# clf = svm.LinearSVC()\n",
    "# clf.fit(X_train, Y_train)"
   ]
  },
  {
   "cell_type": "code",
   "execution_count": null,
   "metadata": {
    "collapsed": true
   },
   "outputs": [],
   "source": []
  }
 ],
 "metadata": {
  "kernelspec": {
   "display_name": "Python 2",
   "language": "python",
   "name": "python2"
  },
  "language_info": {
   "codemirror_mode": {
    "name": "ipython",
    "version": 2
   },
   "file_extension": ".py",
   "mimetype": "text/x-python",
   "name": "python",
   "nbconvert_exporter": "python",
   "pygments_lexer": "ipython2",
   "version": "2.7.11"
  }
 },
 "nbformat": 4,
 "nbformat_minor": 0
}
