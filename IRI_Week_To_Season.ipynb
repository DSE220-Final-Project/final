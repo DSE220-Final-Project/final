{
 "cells": [
  {
   "cell_type": "code",
   "execution_count": 1,
   "metadata": {
    "collapsed": false
   },
   "outputs": [
    {
     "name": "stdout",
     "output_type": "stream",
     "text": [
      "Populating the interactive namespace from numpy and matplotlib\n"
     ]
    }
   ],
   "source": [
    "import warnings\n",
    "warnings.filterwarnings('ignore')\n",
    "import pandas as pd\n",
    "from sklearn import preprocessing\n",
    "from pandas.tools.plotting import scatter_matrix\n",
    "%pylab inline"
   ]
  },
  {
   "cell_type": "markdown",
   "metadata": {},
   "source": [
    "### Translate week number to season and add  a new column for season"
   ]
  },
  {
   "cell_type": "code",
   "execution_count": 2,
   "metadata": {
    "collapsed": true
   },
   "outputs": [],
   "source": [
    "dir_path = \"/media/mqh001/Data/DSE220_Project_Iris_dataset/IRITest/\"\n",
    "file1 = dir_path + \"Year11/saltsnck/IRI_week_translation_2008_2017.xls\""
   ]
  },
  {
   "cell_type": "code",
   "execution_count": 3,
   "metadata": {
    "collapsed": false
   },
   "outputs": [
    {
     "data": {
      "text/html": [
       "<div>\n",
       "<table border=\"1\" class=\"dataframe\">\n",
       "  <thead>\n",
       "    <tr style=\"text-align: right;\">\n",
       "      <th></th>\n",
       "      <th>IRI Week</th>\n",
       "      <th>Calendar week starting on</th>\n",
       "      <th>Calendar week ending on</th>\n",
       "    </tr>\n",
       "  </thead>\n",
       "  <tbody>\n",
       "    <tr>\n",
       "      <th>0</th>\n",
       "      <td>1479</td>\n",
       "      <td>2007-12-31</td>\n",
       "      <td>2008-01-06</td>\n",
       "    </tr>\n",
       "    <tr>\n",
       "      <th>1</th>\n",
       "      <td>1480</td>\n",
       "      <td>2008-01-07</td>\n",
       "      <td>2008-01-13</td>\n",
       "    </tr>\n",
       "    <tr>\n",
       "      <th>2</th>\n",
       "      <td>1481</td>\n",
       "      <td>2008-01-14</td>\n",
       "      <td>2008-01-20</td>\n",
       "    </tr>\n",
       "    <tr>\n",
       "      <th>3</th>\n",
       "      <td>1482</td>\n",
       "      <td>2008-01-21</td>\n",
       "      <td>2008-01-27</td>\n",
       "    </tr>\n",
       "    <tr>\n",
       "      <th>4</th>\n",
       "      <td>1483</td>\n",
       "      <td>2008-01-28</td>\n",
       "      <td>2008-02-03</td>\n",
       "    </tr>\n",
       "  </tbody>\n",
       "</table>\n",
       "</div>"
      ],
      "text/plain": [
       "   IRI Week Calendar week starting on Calendar week ending on\n",
       "0      1479                2007-12-31              2008-01-06\n",
       "1      1480                2008-01-07              2008-01-13\n",
       "2      1481                2008-01-14              2008-01-20\n",
       "3      1482                2008-01-21              2008-01-27\n",
       "4      1483                2008-01-28              2008-02-03"
      ]
     },
     "execution_count": 3,
     "metadata": {},
     "output_type": "execute_result"
    }
   ],
   "source": [
    "week_season_translation = pd.read_excel(file1)\n",
    "week_season_translation = week_season_translation[\\\n",
    "    ['IRI Week', u'Calendar week starting on',u'Calendar week ending on']]\n",
    "week_season_translation.head()"
   ]
  },
  {
   "cell_type": "code",
   "execution_count": 4,
   "metadata": {
    "collapsed": false
   },
   "outputs": [],
   "source": [
    "#!/usr/bin/env python\n",
    "from datetime import date, datetime\n",
    "\n",
    "# if the date falls between March 21 and June 20, it is spring. Regardless of the year. \n",
    "Y = 2000 # dummy leap year to allow input X-02-29 (leap day)\n",
    "seasons = [('winter', (date(Y,  1,  1),  date(Y,  3, 20))),\n",
    "           ('spring', (date(Y,  3, 21),  date(Y,  6, 20))),\n",
    "           ('summer', (date(Y,  6, 21),  date(Y,  9, 22))),\n",
    "           ('fall', (date(Y,  9, 23),  date(Y, 12, 20))),\n",
    "           ('winter', (date(Y, 12, 21),  date(Y, 12, 31)))]\n",
    "    \n",
    "def get_season(rawDate):\n",
    "    aDate = rawDate\n",
    "    #datetime.strptime(rawDate, '%Y-%m-%d')\n",
    "    if isinstance(aDate, datetime):\n",
    "        aDate = aDate.date()\n",
    "    aDate = aDate.replace(year=Y)\n",
    "    \n",
    "    return next(season for season, (start, end) in seasons\n",
    "                if start <= aDate <= end)"
   ]
  },
  {
   "cell_type": "code",
   "execution_count": 5,
   "metadata": {
    "collapsed": false
   },
   "outputs": [
    {
     "name": "stdout",
     "output_type": "stream",
     "text": [
      "week_season_translation.shape = (522, 4)\n"
     ]
    },
    {
     "data": {
      "text/html": [
       "<div>\n",
       "<table border=\"1\" class=\"dataframe\">\n",
       "  <thead>\n",
       "    <tr style=\"text-align: right;\">\n",
       "      <th></th>\n",
       "      <th>IRI Week</th>\n",
       "      <th>Calendar week starting on</th>\n",
       "      <th>Calendar week ending on</th>\n",
       "      <th>season</th>\n",
       "    </tr>\n",
       "  </thead>\n",
       "  <tbody>\n",
       "    <tr>\n",
       "      <th>0</th>\n",
       "      <td>1479</td>\n",
       "      <td>2007-12-31</td>\n",
       "      <td>2008-01-06</td>\n",
       "      <td>winter</td>\n",
       "    </tr>\n",
       "    <tr>\n",
       "      <th>1</th>\n",
       "      <td>1480</td>\n",
       "      <td>2008-01-07</td>\n",
       "      <td>2008-01-13</td>\n",
       "      <td>winter</td>\n",
       "    </tr>\n",
       "    <tr>\n",
       "      <th>2</th>\n",
       "      <td>1481</td>\n",
       "      <td>2008-01-14</td>\n",
       "      <td>2008-01-20</td>\n",
       "      <td>winter</td>\n",
       "    </tr>\n",
       "    <tr>\n",
       "      <th>3</th>\n",
       "      <td>1482</td>\n",
       "      <td>2008-01-21</td>\n",
       "      <td>2008-01-27</td>\n",
       "      <td>winter</td>\n",
       "    </tr>\n",
       "    <tr>\n",
       "      <th>4</th>\n",
       "      <td>1483</td>\n",
       "      <td>2008-01-28</td>\n",
       "      <td>2008-02-03</td>\n",
       "      <td>winter</td>\n",
       "    </tr>\n",
       "  </tbody>\n",
       "</table>\n",
       "</div>"
      ],
      "text/plain": [
       "   IRI Week Calendar week starting on Calendar week ending on  season\n",
       "0      1479                2007-12-31              2008-01-06  winter\n",
       "1      1480                2008-01-07              2008-01-13  winter\n",
       "2      1481                2008-01-14              2008-01-20  winter\n",
       "3      1482                2008-01-21              2008-01-27  winter\n",
       "4      1483                2008-01-28              2008-02-03  winter"
      ]
     },
     "execution_count": 5,
     "metadata": {},
     "output_type": "execute_result"
    }
   ],
   "source": [
    "week_season_translation['season'] = week_season_translation['Calendar week starting on']\n",
    "week_season_translation['season'] = week_season_translation['season'].apply(get_season)\n",
    "print \"week_season_translation.shape =\", week_season_translation.shape\n",
    "week_season_translation.head()"
   ]
  },
  {
   "cell_type": "code",
   "execution_count": 6,
   "metadata": {
    "collapsed": true
   },
   "outputs": [],
   "source": [
    "#week_season_translation.to_csv('week_season_translation.csv', encoding='utf-8')"
   ]
  },
  {
   "cell_type": "code",
   "execution_count": 7,
   "metadata": {
    "collapsed": false
   },
   "outputs": [
    {
     "data": {
      "text/html": [
       "<div>\n",
       "<table border=\"1\" class=\"dataframe\">\n",
       "  <thead>\n",
       "    <tr style=\"text-align: right;\">\n",
       "      <th></th>\n",
       "      <th>IRI Week</th>\n",
       "      <th>Calendar week starting on</th>\n",
       "      <th>Calendar week ending on</th>\n",
       "      <th>season</th>\n",
       "      <th>season numeric</th>\n",
       "    </tr>\n",
       "  </thead>\n",
       "  <tbody>\n",
       "    <tr>\n",
       "      <th>0</th>\n",
       "      <td>1479</td>\n",
       "      <td>2007-12-31</td>\n",
       "      <td>2008-01-06</td>\n",
       "      <td>winter</td>\n",
       "      <td>4</td>\n",
       "    </tr>\n",
       "    <tr>\n",
       "      <th>1</th>\n",
       "      <td>1480</td>\n",
       "      <td>2008-01-07</td>\n",
       "      <td>2008-01-13</td>\n",
       "      <td>winter</td>\n",
       "      <td>4</td>\n",
       "    </tr>\n",
       "    <tr>\n",
       "      <th>2</th>\n",
       "      <td>1481</td>\n",
       "      <td>2008-01-14</td>\n",
       "      <td>2008-01-20</td>\n",
       "      <td>winter</td>\n",
       "      <td>4</td>\n",
       "    </tr>\n",
       "    <tr>\n",
       "      <th>3</th>\n",
       "      <td>1482</td>\n",
       "      <td>2008-01-21</td>\n",
       "      <td>2008-01-27</td>\n",
       "      <td>winter</td>\n",
       "      <td>4</td>\n",
       "    </tr>\n",
       "    <tr>\n",
       "      <th>4</th>\n",
       "      <td>1483</td>\n",
       "      <td>2008-01-28</td>\n",
       "      <td>2008-02-03</td>\n",
       "      <td>winter</td>\n",
       "      <td>4</td>\n",
       "    </tr>\n",
       "  </tbody>\n",
       "</table>\n",
       "</div>"
      ],
      "text/plain": [
       "   IRI Week Calendar week starting on Calendar week ending on  season  \\\n",
       "0      1479                2007-12-31              2008-01-06  winter   \n",
       "1      1480                2008-01-07              2008-01-13  winter   \n",
       "2      1481                2008-01-14              2008-01-20  winter   \n",
       "3      1482                2008-01-21              2008-01-27  winter   \n",
       "4      1483                2008-01-28              2008-02-03  winter   \n",
       "\n",
       "   season numeric  \n",
       "0               4  \n",
       "1               4  \n",
       "2               4  \n",
       "3               4  \n",
       "4               4  "
      ]
     },
     "execution_count": 7,
     "metadata": {},
     "output_type": "execute_result"
    }
   ],
   "source": [
    "def get_season_numeric(x):\n",
    "    season_type = ['spring', 'summer', 'fall', 'winter']\n",
    "    \n",
    "    for idx, val in enumerate(season_type):\n",
    "        if x==val:\n",
    "            return idx + 1\n",
    "        \n",
    "    if type(x) == int:\n",
    "        return x\n",
    "    \n",
    "week_season_translation['season numeric'] = week_season_translation['season'].apply(get_season_numeric)\n",
    "week_season_translation.head()"
   ]
  }
 ],
 "metadata": {
  "kernelspec": {
   "display_name": "Python 2",
   "language": "python",
   "name": "python2"
  },
  "language_info": {
   "codemirror_mode": {
    "name": "ipython",
    "version": 2
   },
   "file_extension": ".py",
   "mimetype": "text/x-python",
   "name": "python",
   "nbconvert_exporter": "python",
   "pygments_lexer": "ipython2",
   "version": "2.7.11"
  }
 },
 "nbformat": 4,
 "nbformat_minor": 0
}
