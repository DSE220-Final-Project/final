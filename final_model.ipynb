{
 "cells": [
  {
   "cell_type": "markdown",
   "metadata": {},
   "source": [
    "# Hypothesis\n",
    "\n",
    "Given a users past shopping activity, we can accurately predict future purchases.\n",
    "\n",
    "Initially, the model is based on:\n",
    "\n",
    "* part of day (morning, eventing, afternoon, night)\n",
    "* day (mon, tues...)\n",
    "* amount spent\n",
    "* market (Eua Claire, or Pittsville)\n",
    "* Type of store (drug or supermarket)\n",
    "* UPC (target, what product the user purchases)\n",
    "\n",
    "Moving foward we can introduce demographic information into our model to improve accuracy."
   ]
  },
  {
   "cell_type": "code",
   "execution_count": 1,
   "metadata": {
    "collapsed": false
   },
   "outputs": [
    {
     "name": "stdout",
     "output_type": "stream",
     "text": [
      "Populating the interactive namespace from numpy and matplotlib\n"
     ]
    }
   ],
   "source": [
    "from sklearn.tree import DecisionTreeClassifier, DecisionTreeRegressor\n",
    "from sklearn.ensemble import RandomForestClassifier, RandomForestRegressor, AdaBoostClassifier, BaggingClassifier\n",
    "from sklearn.cross_validation import train_test_split\n",
    "from sklearn.preprocessing import scale\n",
    "from sklearn import datasets\n",
    "import pandas as pd\n",
    "from sklearn import preprocessing, cross_validation\n",
    "from pandas.tools.plotting import scatter_matrix\n",
    "from sklearn import grid_search\n",
    "from sklearn import linear_model\n",
    "from sklearn.neighbors import KNeighborsClassifier\n",
    "from sklearn.tree import DecisionTreeRegressor, ExtraTreeRegressor, DecisionTreeClassifier, ExtraTreeClassifier\n",
    "from itertools import combinations\n",
    "from sklearn import decomposition\n",
    "from sklearn.metrics import mean_squared_error\n",
    "from collections import Counter\n",
    "from datetime import date, datetime\n",
    "\n",
    "%pylab inline\n",
    "pd.set_option('display.max_columns', 500)"
   ]
  },
  {
   "cell_type": "code",
   "execution_count": 3,
   "metadata": {
    "collapsed": true
   },
   "outputs": [],
   "source": [
    "dr_sampling_rate=0.3\n",
    "gr_sampling_rate=0.05"
   ]
  },
  {
   "cell_type": "code",
   "execution_count": 4,
   "metadata": {
    "collapsed": false
   },
   "outputs": [],
   "source": [
    "# local\n",
    "saltsnck_dr_8=pd.read_fwf('saltsnck_drug_1479_1530').sample(frac=dr_sampling_rate)\n",
    "saltsnck_dr_9=pd.read_fwf('saltsnck_drug_1531_1582').sample(frac=dr_sampling_rate)\n",
    "saltsnck_dr_10=pd.read_fwf('saltsnck_drug_1583_1634').sample(frac=dr_sampling_rate)\n",
    "saltsnck_dr_11=pd.read_fwf('saltsnck_drug_1635_1686').sample(frac=dr_sampling_rate)\n",
    "saltsnck_dr_8_11=pd.concat([saltsnck_dr_8,saltsnck_dr_9,saltsnck_dr_10,saltsnck_dr_11]).reset_index(drop=True)\n",
    "saltsnck_dr_8_11['OUTLET']='dr'"
   ]
  },
  {
   "cell_type": "code",
   "execution_count": 2,
   "metadata": {
    "collapsed": true
   },
   "outputs": [],
   "source": [
    "# local\n",
    "sugarsub_dr_8=pd.read_fwf('sugarsub_drug_1479_1530')\n",
    "sugarsub_dr_9=pd.read_fwf('sugarsub_drug_1531_1582')\n",
    "sugarsub_dr_10=pd.read_fwf('sugarsub_drug_1583_1634')\n",
    "sugarsub_dr_11=pd.read_fwf('sugarsub_drug_1635_1686')\n",
    "sugarsub_dr_8_11=pd.concat([sugarsub_dr_8,sugarsub_dr_9,sugarsub_dr_10,sugarsub_dr_11]).reset_index(drop=True)\n",
    "sugarsub_dr_8_11['OUTLET']='dr'"
   ]
  },
  {
   "cell_type": "code",
   "execution_count": 122,
   "metadata": {
    "collapsed": true
   },
   "outputs": [],
   "source": [
    "# local\n",
    "coffee_dr_8=pd.read_fwf('coffee_drug_1479_1530')\n",
    "coffee_dr_9=pd.read_fwf('coffee_drug_1531_1582')\n",
    "coffee_dr_10=pd.read_fwf('coffee_drug_1583_1634')\n",
    "coffee_dr_11=pd.read_fwf('coffee_drug_1635_1686')\n",
    "coffee_dr_8_11=pd.concat([coffee_dr_8,coffee_dr_9,coffee_dr_10,coffee_dr_11]).reset_index(drop=True)\n",
    "coffee_dr_8_11['OUTLET']='dr'"
   ]
  },
  {
   "cell_type": "code",
   "execution_count": 5,
   "metadata": {
    "collapsed": false
   },
   "outputs": [],
   "source": [
    "saltsnck_gr_8=pd.read_fwf('saltsnck_groc_1479_1530').sample(frac=gr_sampling_rate)\n",
    "saltsnck_gr_9=pd.read_fwf('saltsnck_groc_1531_1582').sample(frac=gr_sampling_rate)\n",
    "saltsnck_gr_10=pd.read_fwf('saltsnck_groc_1583_1634').sample(frac=gr_sampling_rate)\n",
    "saltsnck_gr_11=pd.read_fwf('saltsnck_groc_1635_1686').sample(frac=gr_sampling_rate)\n",
    "saltsnck_gr_8_11=pd.concat([saltsnck_gr_8,saltsnck_gr_9,saltsnck_gr_10,saltsnck_gr_11]).reset_index(drop=True)\n",
    "saltsnck_gr_8_11['OUTLET']='gr'"
   ]
  },
  {
   "cell_type": "code",
   "execution_count": 123,
   "metadata": {
    "collapsed": true
   },
   "outputs": [],
   "source": [
    "saltsnck_prod = pd.read_excel('prod11_saltsnck.xlsx')[['SY','GE','VEND','ITEM','L1','L2']]\n",
    "sugarsub_prod = pd.read_excel('prod11_sugarsub.xlsx')[['SY','GE','VEND','ITEM','L1','L2']]\n",
    "coffee_prod = pd.read_excel('prod11_coffee.xlsx')[['SY','GE','VEND','ITEM','L1','L2']]"
   ]
  },
  {
   "cell_type": "code",
   "execution_count": 152,
   "metadata": {
    "collapsed": true
   },
   "outputs": [],
   "source": [
    "trans_list = [saltsnck_dr_8_11,sugarsub_dr_8_11, coffee_dr_8_11]\n",
    "prod_list = [saltsnck_prod,sugarsub_prod, coffee_prod]"
   ]
  },
  {
   "cell_type": "code",
   "execution_count": 153,
   "metadata": {
    "collapsed": false
   },
   "outputs": [],
   "source": [
    "from datetime import date, datetime\n",
    "week_season_translation=pd.read_excel('IRI week translation_2008_2017.xls')\n",
    "week_season_translation = week_season_translation[\\\n",
    "    ['IRI Week', u'Calendar week starting on',u'Calendar week ending on']]\n",
    "# if the date falls between March 21 and June 20, it is spring. Regardless of the year. \n",
    "Y = 2000 # dummy leap year to allow input X-02-29 (leap day)\n",
    "seasons = [('winter', (date(Y,  1,  1),  date(Y,  3, 20))),\n",
    "           ('spring', (date(Y,  3, 21),  date(Y,  6, 20))),\n",
    "           ('summer', (date(Y,  6, 21),  date(Y,  9, 22))),\n",
    "           ('fall', (date(Y,  9, 23),  date(Y, 12, 20))),\n",
    "           ('winter', (date(Y, 12, 21),  date(Y, 12, 31)))]\n",
    "    \n",
    "def get_season(rawDate):\n",
    "    aDate = rawDate\n",
    "    if isinstance(aDate, datetime):\n",
    "        aDate = aDate.date()\n",
    "    aDate = aDate.replace(year=Y)\n",
    "    \n",
    "    return next(season for season, (start, end) in seasons\n",
    "                if start <= aDate <= end)\n",
    "\n",
    "week_season_translation['season'] = week_season_translation['Calendar week starting on']\n",
    "week_season_translation['season'] = week_season_translation['season'].apply(get_season)\n",
    "week_season_translation.rename(columns={'IRI Week':'WEEK'}, inplace=True)\n",
    "week_season_translation['YEAR']=week_season_translation['Calendar week starting on'].apply(lambda x:x.year)\n",
    "week_season_translation['MONTH']=week_season_translation['Calendar week starting on'].apply(lambda x:x.month)\n",
    "week_season_translation.drop(['Calendar week starting on','Calendar week ending on'], axis=1, inplace=True)"
   ]
  },
  {
   "cell_type": "code",
   "execution_count": 154,
   "metadata": {
    "collapsed": true
   },
   "outputs": [],
   "source": [
    "def data_agg(trans_list, prod_list,week_season_translation):\n",
    "    agg_trans=pd.concat(trans_list)\n",
    "    agg_prod=pd.concat(prod_list)\n",
    "    agg_df = pd.merge(agg_trans, agg_prod, on=['SY', 'GE','VEND','ITEM']).drop(['SY', 'GE','VEND','ITEM'],axis=1)\n",
    "    final_df = pd.merge(agg_df,week_season_translation,on='WEEK')\n",
    "    return final_df"
   ]
  },
  {
   "cell_type": "code",
   "execution_count": 155,
   "metadata": {
    "collapsed": false
   },
   "outputs": [
    {
     "data": {
      "text/html": [
       "<div>\n",
       "<table border=\"1\" class=\"dataframe\">\n",
       "  <thead>\n",
       "    <tr style=\"text-align: right;\">\n",
       "      <th></th>\n",
       "      <th>IRI_KEY</th>\n",
       "      <th>WEEK</th>\n",
       "      <th>UNITS</th>\n",
       "      <th>DOLLARS</th>\n",
       "      <th>F</th>\n",
       "      <th>D</th>\n",
       "      <th>PR</th>\n",
       "      <th>OUTLET</th>\n",
       "      <th>L1</th>\n",
       "      <th>L2</th>\n",
       "      <th>season</th>\n",
       "      <th>YEAR</th>\n",
       "      <th>MONTH</th>\n",
       "    </tr>\n",
       "  </thead>\n",
       "  <tbody>\n",
       "    <tr>\n",
       "      <th>0</th>\n",
       "      <td>8002426</td>\n",
       "      <td>1530</td>\n",
       "      <td>1</td>\n",
       "      <td>1.29</td>\n",
       "      <td>NONE</td>\n",
       "      <td>0</td>\n",
       "      <td>0</td>\n",
       "      <td>dr</td>\n",
       "      <td>CATEGORY - SALTY SNACKS</td>\n",
       "      <td>POTATO CHIPS</td>\n",
       "      <td>winter</td>\n",
       "      <td>2008</td>\n",
       "      <td>12</td>\n",
       "    </tr>\n",
       "    <tr>\n",
       "      <th>1</th>\n",
       "      <td>8016830</td>\n",
       "      <td>1530</td>\n",
       "      <td>1</td>\n",
       "      <td>1.29</td>\n",
       "      <td>NONE</td>\n",
       "      <td>1</td>\n",
       "      <td>1</td>\n",
       "      <td>dr</td>\n",
       "      <td>CATEGORY - SALTY SNACKS</td>\n",
       "      <td>POTATO CHIPS</td>\n",
       "      <td>winter</td>\n",
       "      <td>2008</td>\n",
       "      <td>12</td>\n",
       "    </tr>\n",
       "    <tr>\n",
       "      <th>2</th>\n",
       "      <td>931511</td>\n",
       "      <td>1530</td>\n",
       "      <td>3</td>\n",
       "      <td>3.87</td>\n",
       "      <td>NONE</td>\n",
       "      <td>2</td>\n",
       "      <td>0</td>\n",
       "      <td>dr</td>\n",
       "      <td>CATEGORY - SALTY SNACKS</td>\n",
       "      <td>POTATO CHIPS</td>\n",
       "      <td>winter</td>\n",
       "      <td>2008</td>\n",
       "      <td>12</td>\n",
       "    </tr>\n",
       "    <tr>\n",
       "      <th>3</th>\n",
       "      <td>8009679</td>\n",
       "      <td>1530</td>\n",
       "      <td>2</td>\n",
       "      <td>2.58</td>\n",
       "      <td>NONE</td>\n",
       "      <td>2</td>\n",
       "      <td>0</td>\n",
       "      <td>dr</td>\n",
       "      <td>CATEGORY - SALTY SNACKS</td>\n",
       "      <td>POTATO CHIPS</td>\n",
       "      <td>winter</td>\n",
       "      <td>2008</td>\n",
       "      <td>12</td>\n",
       "    </tr>\n",
       "    <tr>\n",
       "      <th>4</th>\n",
       "      <td>652759</td>\n",
       "      <td>1530</td>\n",
       "      <td>1</td>\n",
       "      <td>1.29</td>\n",
       "      <td>NONE</td>\n",
       "      <td>0</td>\n",
       "      <td>0</td>\n",
       "      <td>dr</td>\n",
       "      <td>CATEGORY - SALTY SNACKS</td>\n",
       "      <td>POTATO CHIPS</td>\n",
       "      <td>winter</td>\n",
       "      <td>2008</td>\n",
       "      <td>12</td>\n",
       "    </tr>\n",
       "  </tbody>\n",
       "</table>\n",
       "</div>"
      ],
      "text/plain": [
       "   IRI_KEY  WEEK  UNITS  DOLLARS     F  D  PR OUTLET  \\\n",
       "0  8002426  1530      1     1.29  NONE  0   0     dr   \n",
       "1  8016830  1530      1     1.29  NONE  1   1     dr   \n",
       "2   931511  1530      3     3.87  NONE  2   0     dr   \n",
       "3  8009679  1530      2     2.58  NONE  2   0     dr   \n",
       "4   652759  1530      1     1.29  NONE  0   0     dr   \n",
       "\n",
       "                                  L1            L2  season  YEAR  MONTH  \n",
       "0  CATEGORY - SALTY SNACKS            POTATO CHIPS  winter  2008     12  \n",
       "1  CATEGORY - SALTY SNACKS            POTATO CHIPS  winter  2008     12  \n",
       "2  CATEGORY - SALTY SNACKS            POTATO CHIPS  winter  2008     12  \n",
       "3  CATEGORY - SALTY SNACKS            POTATO CHIPS  winter  2008     12  \n",
       "4  CATEGORY - SALTY SNACKS            POTATO CHIPS  winter  2008     12  "
      ]
     },
     "execution_count": 155,
     "metadata": {},
     "output_type": "execute_result"
    }
   ],
   "source": [
    "data_df=data_agg(trans_list, prod_list,week_season_translation)\n",
    "data_df.head()"
   ]
  },
  {
   "cell_type": "markdown",
   "metadata": {},
   "source": [
    "# Data Cleaning"
   ]
  },
  {
   "cell_type": "markdown",
   "metadata": {},
   "source": [
    "## Handling NaNs"
   ]
  },
  {
   "cell_type": "code",
   "execution_count": 156,
   "metadata": {
    "collapsed": false
   },
   "outputs": [
    {
     "data": {
      "text/plain": [
       "IRI_KEY    0\n",
       "WEEK       0\n",
       "UNITS      0\n",
       "DOLLARS    0\n",
       "F          0\n",
       "D          0\n",
       "PR         0\n",
       "OUTLET     0\n",
       "L1         0\n",
       "L2         0\n",
       "season     0\n",
       "YEAR       0\n",
       "MONTH      0\n",
       "dtype: int64"
      ]
     },
     "execution_count": 156,
     "metadata": {},
     "output_type": "execute_result"
    }
   ],
   "source": [
    "# looking at the number of NaNs for each column #\n",
    "data_df.isnull().sum()"
   ]
  },
  {
   "cell_type": "code",
   "execution_count": 157,
   "metadata": {
    "collapsed": false
   },
   "outputs": [],
   "source": [
    "def data_prep (data):\n",
    "    # explicit mapping of F feature to reflect the ad size/importance\n",
    "    data=data.copy()\n",
    "    data.ix[data.F=='NONE', 'F'] = 1\n",
    "    data.ix[data.F=='C', 'F'] = 2\n",
    "    data.ix[data.F=='B', 'F'] = 3\n",
    "    data.ix[data.F=='A', 'F'] = 4\n",
    "    data.ix[data.F=='A+', 'F'] = 5\n",
    "    # determining the non-numeric columns and transforming them into numeric using LabelEncoder() method\n",
    "    real_or_str=data.applymap(np.isreal).all(0)\n",
    "    non_num_feature=real_or_str[~real_or_str].keys()\n",
    "    print \"Non-numeric features are: \", non_num_feature\n",
    "    le = preprocessing.LabelEncoder()\n",
    "    for col in non_num_feature:\n",
    "        #fill the NaN in non-numeric columns with the most used element#\n",
    "        data.ix[:,col]=data.ix[:,col].fillna(data[col].describe().top)\n",
    "        #transform the non-numeric columns to numeric values using \n",
    "        #LabelEncoder method from SKLearn#\n",
    "        data.ix[:,col]=le.fit_transform(data.ix[:,col])\n",
    "    #Filling in NaN values of numeric features with the mean value of the feature\n",
    "    data=data.fillna(data.mean())\n",
    "    return data"
   ]
  },
  {
   "cell_type": "code",
   "execution_count": 158,
   "metadata": {
    "collapsed": false,
    "scrolled": false
   },
   "outputs": [
    {
     "name": "stdout",
     "output_type": "stream",
     "text": [
      "Non-numeric features are:  Index([u'OUTLET', u'L1', u'L2', u'season'], dtype='object')\n"
     ]
    },
    {
     "data": {
      "text/html": [
       "<div>\n",
       "<table border=\"1\" class=\"dataframe\">\n",
       "  <thead>\n",
       "    <tr style=\"text-align: right;\">\n",
       "      <th></th>\n",
       "      <th>IRI_KEY</th>\n",
       "      <th>WEEK</th>\n",
       "      <th>UNITS</th>\n",
       "      <th>DOLLARS</th>\n",
       "      <th>F</th>\n",
       "      <th>D</th>\n",
       "      <th>PR</th>\n",
       "      <th>OUTLET</th>\n",
       "      <th>L1</th>\n",
       "      <th>L2</th>\n",
       "      <th>season</th>\n",
       "      <th>YEAR</th>\n",
       "      <th>MONTH</th>\n",
       "    </tr>\n",
       "  </thead>\n",
       "  <tbody>\n",
       "    <tr>\n",
       "      <th>0</th>\n",
       "      <td>8002426</td>\n",
       "      <td>1530</td>\n",
       "      <td>1</td>\n",
       "      <td>1.29</td>\n",
       "      <td>1</td>\n",
       "      <td>0</td>\n",
       "      <td>0</td>\n",
       "      <td>0</td>\n",
       "      <td>1</td>\n",
       "      <td>10</td>\n",
       "      <td>3</td>\n",
       "      <td>2008</td>\n",
       "      <td>12</td>\n",
       "    </tr>\n",
       "    <tr>\n",
       "      <th>1</th>\n",
       "      <td>8016830</td>\n",
       "      <td>1530</td>\n",
       "      <td>1</td>\n",
       "      <td>1.29</td>\n",
       "      <td>1</td>\n",
       "      <td>1</td>\n",
       "      <td>1</td>\n",
       "      <td>0</td>\n",
       "      <td>1</td>\n",
       "      <td>10</td>\n",
       "      <td>3</td>\n",
       "      <td>2008</td>\n",
       "      <td>12</td>\n",
       "    </tr>\n",
       "    <tr>\n",
       "      <th>2</th>\n",
       "      <td>931511</td>\n",
       "      <td>1530</td>\n",
       "      <td>3</td>\n",
       "      <td>3.87</td>\n",
       "      <td>1</td>\n",
       "      <td>2</td>\n",
       "      <td>0</td>\n",
       "      <td>0</td>\n",
       "      <td>1</td>\n",
       "      <td>10</td>\n",
       "      <td>3</td>\n",
       "      <td>2008</td>\n",
       "      <td>12</td>\n",
       "    </tr>\n",
       "    <tr>\n",
       "      <th>3</th>\n",
       "      <td>8009679</td>\n",
       "      <td>1530</td>\n",
       "      <td>2</td>\n",
       "      <td>2.58</td>\n",
       "      <td>1</td>\n",
       "      <td>2</td>\n",
       "      <td>0</td>\n",
       "      <td>0</td>\n",
       "      <td>1</td>\n",
       "      <td>10</td>\n",
       "      <td>3</td>\n",
       "      <td>2008</td>\n",
       "      <td>12</td>\n",
       "    </tr>\n",
       "    <tr>\n",
       "      <th>4</th>\n",
       "      <td>652759</td>\n",
       "      <td>1530</td>\n",
       "      <td>1</td>\n",
       "      <td>1.29</td>\n",
       "      <td>1</td>\n",
       "      <td>0</td>\n",
       "      <td>0</td>\n",
       "      <td>0</td>\n",
       "      <td>1</td>\n",
       "      <td>10</td>\n",
       "      <td>3</td>\n",
       "      <td>2008</td>\n",
       "      <td>12</td>\n",
       "    </tr>\n",
       "  </tbody>\n",
       "</table>\n",
       "</div>"
      ],
      "text/plain": [
       "   IRI_KEY  WEEK  UNITS  DOLLARS  F  D  PR  OUTLET  L1  L2  season  YEAR  \\\n",
       "0  8002426  1530      1     1.29  1  0   0       0   1  10       3  2008   \n",
       "1  8016830  1530      1     1.29  1  1   1       0   1  10       3  2008   \n",
       "2   931511  1530      3     3.87  1  2   0       0   1  10       3  2008   \n",
       "3  8009679  1530      2     2.58  1  2   0       0   1  10       3  2008   \n",
       "4   652759  1530      1     1.29  1  0   0       0   1  10       3  2008   \n",
       "\n",
       "   MONTH  \n",
       "0     12  \n",
       "1     12  \n",
       "2     12  \n",
       "3     12  \n",
       "4     12  "
      ]
     },
     "execution_count": 158,
     "metadata": {},
     "output_type": "execute_result"
    }
   ],
   "source": [
    "data_preped=data_prep(data_df)\n",
    "data_preped.head()"
   ]
  },
  {
   "cell_type": "code",
   "execution_count": 159,
   "metadata": {
    "collapsed": false
   },
   "outputs": [],
   "source": [
    "def data_group(data_preped,outlet,method):\n",
    "    if method=='yearly':\n",
    "        data_preped_grp=data_preped.groupby(['IRI_KEY','YEAR','L1']).agg({'L2': lambda x:Counter(x).most_common()[0][0],\\\n",
    "                                             'OUTLET': lambda x:Counter(x).most_common()[0][0],\\\n",
    "                                            'F':'sum', 'D':'sum', 'PR':'sum', 'UNITS':'sum','DOLLARS':'sum'})\\\n",
    "                                            .reset_index(level=1).reset_index(level=1).reset_index(drop=True)\n",
    "    elif method=='monthly':\n",
    "        data_preped_grp=data_preped.groupby(['IRI_KEY','YEAR','MONTH','L1']).agg({'L2': lambda x:Counter(x).most_common()[0][0],\\\n",
    "                                             'OUTLET': lambda x:Counter(x).most_common()[0][0],\\\n",
    "                                            'F':'sum', 'D':'sum', 'PR':'sum', 'UNITS':'sum','DOLLARS':'sum'})\\\n",
    "                                            .reset_index(level=1).reset_index(level=1).reset_index(level=1).reset_index(drop=True)\n",
    "    elif method=='seasonal':\n",
    "        data_preped_grp=data_preped.groupby(['IRI_KEY','YEAR','season','L1']).agg({'L2': lambda x:Counter(x).most_common()[0][0],\\\n",
    "                                             'OUTLET': lambda x:Counter(x).most_common()[0][0],\\\n",
    "                                            'F':'sum', 'D':'sum', 'PR':'sum', 'UNITS':'sum','DOLLARS':'sum'})\\\n",
    "                                            .reset_index(level=1).reset_index(level=1).reset_index(level=1).reset_index(drop=True)\n",
    "    if outlet=='dr':                                        \n",
    "        data_preped_grp=data_preped_grp.ix[data_preped_grp['OUTLET']==0]\n",
    "    elif outlet=='gr':                                        \n",
    "        data_preped_grp=data_preped_grp.ix[data_preped_grp['OUTLET']==1]\n",
    "    elif outlet=='all':                                        \n",
    "        data_preped_grp=data_preped_grp\n",
    "    return data_preped_grp"
   ]
  },
  {
   "cell_type": "code",
   "execution_count": 184,
   "metadata": {
    "collapsed": false
   },
   "outputs": [
    {
     "data": {
      "text/html": [
       "<div>\n",
       "<table border=\"1\" class=\"dataframe\">\n",
       "  <thead>\n",
       "    <tr style=\"text-align: right;\">\n",
       "      <th></th>\n",
       "      <th>L1</th>\n",
       "      <th>YEAR</th>\n",
       "      <th>PR</th>\n",
       "      <th>D</th>\n",
       "      <th>F</th>\n",
       "      <th>DOLLARS</th>\n",
       "      <th>L2</th>\n",
       "      <th>OUTLET</th>\n",
       "      <th>UNITS</th>\n",
       "    </tr>\n",
       "  </thead>\n",
       "  <tbody>\n",
       "    <tr>\n",
       "      <th>0</th>\n",
       "      <td>0</td>\n",
       "      <td>2008</td>\n",
       "      <td>209</td>\n",
       "      <td>11</td>\n",
       "      <td>931</td>\n",
       "      <td>7096.06</td>\n",
       "      <td>4</td>\n",
       "      <td>0</td>\n",
       "      <td>1728</td>\n",
       "    </tr>\n",
       "    <tr>\n",
       "      <th>1</th>\n",
       "      <td>1</td>\n",
       "      <td>2008</td>\n",
       "      <td>262</td>\n",
       "      <td>95</td>\n",
       "      <td>1448</td>\n",
       "      <td>6263.88</td>\n",
       "      <td>10</td>\n",
       "      <td>0</td>\n",
       "      <td>4362</td>\n",
       "    </tr>\n",
       "    <tr>\n",
       "      <th>2</th>\n",
       "      <td>2</td>\n",
       "      <td>2008</td>\n",
       "      <td>39</td>\n",
       "      <td>0</td>\n",
       "      <td>208</td>\n",
       "      <td>1120.32</td>\n",
       "      <td>14</td>\n",
       "      <td>0</td>\n",
       "      <td>430</td>\n",
       "    </tr>\n",
       "    <tr>\n",
       "      <th>3</th>\n",
       "      <td>0</td>\n",
       "      <td>2009</td>\n",
       "      <td>290</td>\n",
       "      <td>44</td>\n",
       "      <td>1150</td>\n",
       "      <td>7665.73</td>\n",
       "      <td>4</td>\n",
       "      <td>0</td>\n",
       "      <td>1632</td>\n",
       "    </tr>\n",
       "    <tr>\n",
       "      <th>4</th>\n",
       "      <td>1</td>\n",
       "      <td>2009</td>\n",
       "      <td>324</td>\n",
       "      <td>258</td>\n",
       "      <td>1686</td>\n",
       "      <td>7898.74</td>\n",
       "      <td>10</td>\n",
       "      <td>0</td>\n",
       "      <td>5051</td>\n",
       "    </tr>\n",
       "  </tbody>\n",
       "</table>\n",
       "</div>"
      ],
      "text/plain": [
       "   L1  YEAR   PR    D     F  DOLLARS  L2  OUTLET  UNITS\n",
       "0   0  2008  209   11   931  7096.06   4       0   1728\n",
       "1   1  2008  262   95  1448  6263.88  10       0   4362\n",
       "2   2  2008   39    0   208  1120.32  14       0    430\n",
       "3   0  2009  290   44  1150  7665.73   4       0   1632\n",
       "4   1  2009  324  258  1686  7898.74  10       0   5051"
      ]
     },
     "execution_count": 184,
     "metadata": {},
     "output_type": "execute_result"
    }
   ],
   "source": [
    "data_preped_grp=data_group(data_preped,'dr','yearly')\n",
    "data_preped_grp.head()"
   ]
  },
  {
   "cell_type": "code",
   "execution_count": 185,
   "metadata": {
    "collapsed": false,
    "scrolled": true
   },
   "outputs": [
    {
     "data": {
      "text/html": [
       "<div>\n",
       "<table border=\"1\" class=\"dataframe\">\n",
       "  <thead>\n",
       "    <tr style=\"text-align: right;\">\n",
       "      <th></th>\n",
       "      <th>L1</th>\n",
       "      <th>YEAR</th>\n",
       "      <th>PR</th>\n",
       "      <th>D</th>\n",
       "      <th>F</th>\n",
       "      <th>DOLLARS</th>\n",
       "      <th>L2</th>\n",
       "      <th>OUTLET</th>\n",
       "      <th>UNITS</th>\n",
       "    </tr>\n",
       "  </thead>\n",
       "  <tbody>\n",
       "    <tr>\n",
       "      <th>count</th>\n",
       "      <td>7101.000000</td>\n",
       "      <td>7101.000000</td>\n",
       "      <td>7101.000000</td>\n",
       "      <td>7101.000000</td>\n",
       "      <td>7101.000000</td>\n",
       "      <td>7101.000000</td>\n",
       "      <td>7101.000000</td>\n",
       "      <td>7101.0</td>\n",
       "      <td>7101.000000</td>\n",
       "    </tr>\n",
       "    <tr>\n",
       "      <th>mean</th>\n",
       "      <td>0.999859</td>\n",
       "      <td>2008.992395</td>\n",
       "      <td>139.172511</td>\n",
       "      <td>113.093085</td>\n",
       "      <td>612.329109</td>\n",
       "      <td>4215.106117</td>\n",
       "      <td>9.335305</td>\n",
       "      <td>0.0</td>\n",
       "      <td>1614.841290</td>\n",
       "    </tr>\n",
       "    <tr>\n",
       "      <th>std</th>\n",
       "      <td>0.810060</td>\n",
       "      <td>1.388260</td>\n",
       "      <td>151.305288</td>\n",
       "      <td>205.950451</td>\n",
       "      <td>657.214081</td>\n",
       "      <td>5986.237935</td>\n",
       "      <td>4.123048</td>\n",
       "      <td>0.0</td>\n",
       "      <td>2678.508739</td>\n",
       "    </tr>\n",
       "    <tr>\n",
       "      <th>min</th>\n",
       "      <td>0.000000</td>\n",
       "      <td>2007.000000</td>\n",
       "      <td>0.000000</td>\n",
       "      <td>0.000000</td>\n",
       "      <td>1.000000</td>\n",
       "      <td>0.750000</td>\n",
       "      <td>0.000000</td>\n",
       "      <td>0.0</td>\n",
       "      <td>1.000000</td>\n",
       "    </tr>\n",
       "    <tr>\n",
       "      <th>25%</th>\n",
       "      <td>0.000000</td>\n",
       "      <td>2008.000000</td>\n",
       "      <td>9.000000</td>\n",
       "      <td>0.000000</td>\n",
       "      <td>47.000000</td>\n",
       "      <td>231.230000</td>\n",
       "      <td>4.000000</td>\n",
       "      <td>0.0</td>\n",
       "      <td>78.000000</td>\n",
       "    </tr>\n",
       "    <tr>\n",
       "      <th>50%</th>\n",
       "      <td>1.000000</td>\n",
       "      <td>2009.000000</td>\n",
       "      <td>74.000000</td>\n",
       "      <td>11.000000</td>\n",
       "      <td>309.000000</td>\n",
       "      <td>1751.530000</td>\n",
       "      <td>10.000000</td>\n",
       "      <td>0.0</td>\n",
       "      <td>532.000000</td>\n",
       "    </tr>\n",
       "    <tr>\n",
       "      <th>75%</th>\n",
       "      <td>2.000000</td>\n",
       "      <td>2010.000000</td>\n",
       "      <td>244.000000</td>\n",
       "      <td>118.000000</td>\n",
       "      <td>1081.000000</td>\n",
       "      <td>6289.740000</td>\n",
       "      <td>14.000000</td>\n",
       "      <td>0.0</td>\n",
       "      <td>2077.000000</td>\n",
       "    </tr>\n",
       "    <tr>\n",
       "      <th>max</th>\n",
       "      <td>2.000000</td>\n",
       "      <td>2011.000000</td>\n",
       "      <td>1023.000000</td>\n",
       "      <td>1527.000000</td>\n",
       "      <td>3815.000000</td>\n",
       "      <td>75962.770000</td>\n",
       "      <td>16.000000</td>\n",
       "      <td>0.0</td>\n",
       "      <td>30984.000000</td>\n",
       "    </tr>\n",
       "  </tbody>\n",
       "</table>\n",
       "</div>"
      ],
      "text/plain": [
       "                L1         YEAR           PR            D            F  \\\n",
       "count  7101.000000  7101.000000  7101.000000  7101.000000  7101.000000   \n",
       "mean      0.999859  2008.992395   139.172511   113.093085   612.329109   \n",
       "std       0.810060     1.388260   151.305288   205.950451   657.214081   \n",
       "min       0.000000  2007.000000     0.000000     0.000000     1.000000   \n",
       "25%       0.000000  2008.000000     9.000000     0.000000    47.000000   \n",
       "50%       1.000000  2009.000000    74.000000    11.000000   309.000000   \n",
       "75%       2.000000  2010.000000   244.000000   118.000000  1081.000000   \n",
       "max       2.000000  2011.000000  1023.000000  1527.000000  3815.000000   \n",
       "\n",
       "            DOLLARS           L2  OUTLET         UNITS  \n",
       "count   7101.000000  7101.000000  7101.0   7101.000000  \n",
       "mean    4215.106117     9.335305     0.0   1614.841290  \n",
       "std     5986.237935     4.123048     0.0   2678.508739  \n",
       "min        0.750000     0.000000     0.0      1.000000  \n",
       "25%      231.230000     4.000000     0.0     78.000000  \n",
       "50%     1751.530000    10.000000     0.0    532.000000  \n",
       "75%     6289.740000    14.000000     0.0   2077.000000  \n",
       "max    75962.770000    16.000000     0.0  30984.000000  "
      ]
     },
     "execution_count": 185,
     "metadata": {},
     "output_type": "execute_result"
    },
    {
     "data": {
      "image/png": "[encoded data removed]",
      "text/plain": [
       "<matplotlib.figure.Figure at 0x1b7921160>"
      ]
     },
     "metadata": {},
     "output_type": "display_data"
    }
   ],
   "source": [
    "# looking at the histogram and statistics of the features to be able to omit features with not enough data #\n",
    "data_preped_grp.hist(figsize=(20,50), layout=(15,5))\n",
    "data_preped_grp.describe()"
   ]
  },
  {
   "cell_type": "markdown",
   "metadata": {},
   "source": [
    "# Outlier Detection and Removal\n",
    "\n",
    "**We assume that all features have Gaussian distribution and detect outliers based on the following rule:**\n",
    "\n",
    "Detect a column with extreme outlier if $max (col)> mean(col)+10*\\sigma $ "
   ]
  },
  {
   "cell_type": "code",
   "execution_count": 186,
   "metadata": {
    "collapsed": false
   },
   "outputs": [],
   "source": [
    "def outlier_detector(data):\n",
    "    out_col=[]\n",
    "    data=data.copy()\n",
    "    for col in data.describe().columns:\n",
    "        maxx = data.describe()[col]['max']\n",
    "        minn = data.describe()[col]['min']\n",
    "        mean = data.describe()[col]['mean']\n",
    "        std =  data.describe()[col]['std']\n",
    "\n",
    "        if maxx>(mean+10*std):\n",
    "            out_col.append(col)\n",
    "            print \"outliers for column\", col, \"are\",np.unique(data[col].ix[data[col]>(mean+10*std)].values)\n",
    "            data=data[data[col]<(mean+10*std)]\n",
    "        elif minn<(mean-10*std):\n",
    "            out_col.append(col)\n",
    "            print \"outliers for column\", col, \"are\",np.unique(saltsnck_preped[col].ix[saltsnck_preped[col]>(mean-10*std)].values)\n",
    "            data=data[data[col]>(mean-10*std)]\n",
    "    print \"columns containing outliers are: \",out_col\n",
    "    return data"
   ]
  },
  {
   "cell_type": "code",
   "execution_count": 187,
   "metadata": {
    "collapsed": false
   },
   "outputs": [
    {
     "name": "stdout",
     "output_type": "stream",
     "text": [
      "outliers for column DOLLARS are [ 65323.39  70254.79  71730.87  75962.77]\n",
      "outliers for column UNITS are [29390 30984]\n",
      "columns containing outliers are:  ['DOLLARS', 'UNITS']\n"
     ]
    }
   ],
   "source": [
    "data_preped_grp=outlier_detector(data_preped_grp)"
   ]
  },
  {
   "cell_type": "markdown",
   "metadata": {},
   "source": [
    "# Creating Model"
   ]
  },
  {
   "cell_type": "markdown",
   "metadata": {},
   "source": [
    "# Natutral growth analysis"
   ]
  },
  {
   "cell_type": "code",
   "execution_count": 188,
   "metadata": {
    "collapsed": false
   },
   "outputs": [
    {
     "name": "stdout",
     "output_type": "stream",
     "text": [
      "growth factor for 2011: DOLLARS    1.070066\n",
      "dtype: float64\n",
      "growth factor for 2010: DOLLARS    1.030598\n",
      "dtype: float64\n",
      "growth factor for 2009:: DOLLARS    0.978278\n",
      "dtype: float64\n",
      "growth factor for 2008: 1\n"
     ]
    }
   ],
   "source": [
    "print \"growth factor for 2011:\", data_preped_grp.ix[data_preped_grp['YEAR']==2011][['DOLLARS']].sum()/(data_preped_grp.ix[data_preped_grp['YEAR']==2008][['DOLLARS']].sum())\n",
    "print \"growth factor for 2010:\", data_preped_grp.ix[data_preped_grp['YEAR']==2010][['DOLLARS']].sum()/(data_preped_grp.ix[data_preped_grp['YEAR']==2008][['DOLLARS']].sum())\n",
    "print \"growth factor for 2009::\", data_preped_grp.ix[data_preped_grp['YEAR']==2009][['DOLLARS']].sum()/(data_preped_grp.ix[data_preped_grp['YEAR']==2008][['DOLLARS']].sum())\n",
    "print \"growth factor for 2008:\", 1"
   ]
  },
  {
   "cell_type": "markdown",
   "metadata": {},
   "source": [
    "# PCA Analysis"
   ]
  },
  {
   "cell_type": "code",
   "execution_count": 194,
   "metadata": {
    "collapsed": false
   },
   "outputs": [
    {
     "data": {
      "text/plain": [
       "array([  9.60415777e-01,   3.50907849e-02,   4.49229541e-03,\n",
       "         1.14320704e-06,   0.00000000e+00])"
      ]
     },
     "execution_count": 194,
     "metadata": {},
     "output_type": "execute_result"
    }
   ],
   "source": [
    "pca = decomposition.PCA()\n",
    "pca.fit(X_train)\n",
    "features = pca.transform(X_train)\n",
    "pca.explained_variance_ratio_"
   ]
  },
  {
   "cell_type": "markdown",
   "metadata": {},
   "source": [
    "# classifying the product category"
   ]
  },
  {
   "cell_type": "markdown",
   "metadata": {},
   "source": [
    "### Decision Tree"
   ]
  },
  {
   "cell_type": "code",
   "execution_count": 189,
   "metadata": {
    "collapsed": false
   },
   "outputs": [
    {
     "name": "stdout",
     "output_type": "stream",
     "text": [
      "score on train set: 0.992330486317\n",
      "score on test set: 0.983063328424\n"
     ]
    }
   ],
   "source": [
    "X_train = data_preped_grp.ix[data_preped_grp['YEAR']!=2011][['PR','D','F','OUTLET','L1']]\n",
    "y_train = data_preped_grp.ix[data_preped_grp['YEAR']!=2011][['L2']]\n",
    "X_test = data_preped_grp.ix[data_preped_grp['YEAR']==2011][['PR','D','F','OUTLET','L1']]\n",
    "y_test = data_preped_grp.ix[data_preped_grp['YEAR']==2011][['L2']]\n",
    "dtree = DecisionTreeClassifier()\n",
    "dtree.fit(X_train, y_train)\n",
    "print \"score on train set:\", dtree.score(X_train, y_train)\n",
    "print \"score on test set:\", dtree.score(X_test, y_test)"
   ]
  },
  {
   "cell_type": "markdown",
   "metadata": {},
   "source": [
    "# predicting the dollar amount"
   ]
  },
  {
   "cell_type": "markdown",
   "metadata": {},
   "source": [
    "### Random Forest"
   ]
  },
  {
   "cell_type": "code",
   "execution_count": 230,
   "metadata": {
    "collapsed": false,
    "scrolled": true
   },
   "outputs": [
    {
     "name": "stdout",
     "output_type": "stream",
     "text": [
      "score on train set: 0.976247488597\n",
      "score on test set: 0.880851140514\n"
     ]
    }
   ],
   "source": [
    "X_train = data_preped_grp.ix[data_preped_grp['YEAR']!=2011][['PR','D','F','OUTLET','L1']]\n",
    "y_train = data_preped_grp.ix[data_preped_grp['YEAR']!=2011]['DOLLARS']\n",
    "X_test = data_preped_grp.ix[data_preped_grp['YEAR']==2011][['PR','D','F','OUTLET','L1']]\n",
    "y_test = data_preped_grp.ix[data_preped_grp['YEAR']==2011]['DOLLARS']\n",
    "tree = RandomForestRegressor(random_state=0)\n",
    "tree.fit(X_train, y_train)\n",
    "print \"score on train set:\", tree.score(X_train, y_train)\n",
    "print \"score on test set:\", tree.score(X_test, y_test)"
   ]
  },
  {
   "cell_type": "code",
   "execution_count": 192,
   "metadata": {
    "collapsed": false
   },
   "outputs": [
    {
     "name": "stdout",
     "output_type": "stream",
     "text": [
      "score on train set: 0.974298175253\n",
      "score on test set: 0.861411745343\n"
     ]
    }
   ],
   "source": [
    "X_train = data_preped_grp.ix[data_preped_grp['YEAR']!=2011][['PR','D','F','OUTLET','L1']]\n",
    "y_train = data_preped_grp.ix[data_preped_grp['YEAR']!=2011]['UNITS']\n",
    "X_test = data_preped_grp.ix[data_preped_grp['YEAR']==2011][['PR','D','F','OUTLET','L1']]\n",
    "y_test = data_preped_grp.ix[data_preped_grp['YEAR']==2011]['UNITS']\n",
    "tree = RandomForestRegressor(random_state=0)\n",
    "tree.fit(X_train, y_train)\n",
    "print \"score on train set:\", tree.score(X_train, y_train)\n",
    "print \"score on test set:\", tree.score(X_test, y_test)"
   ]
  },
  {
   "cell_type": "code",
   "execution_count": 234,
   "metadata": {
    "collapsed": false
   },
   "outputs": [
    {
     "name": "stdout",
     "output_type": "stream",
     "text": [
      "The best set of parameters are:  {'min_samples_split': 2, 'n_estimators': 40, 'max_depth': 6, 'min_samples_leaf': 1}\n",
      "The best score is:  0.870872358433\n"
     ]
    }
   ],
   "source": [
    "X_train = data_preped_grp.ix[data_preped_grp['YEAR']!=2011][['PR','D','F','OUTLET','L1']]\n",
    "y_train = data_preped_grp.ix[data_preped_grp['YEAR']!=2011]['DOLLARS']\n",
    "X_test = data_preped_grp.ix[data_preped_grp['YEAR']==2011][['PR','D','F','OUTLET','L1']]\n",
    "y_test = data_preped_grp.ix[data_preped_grp['YEAR']==2011]['DOLLARS']\n",
    "parameters = {'n_estimators':range(10,101,10),'max_depth':range(1,10,5),\\\n",
    "              'min_samples_split':range(2,10,5),'min_samples_leaf':range(1,10,5)}\n",
    "tree = RandomForestRegressor(warm_start=True)\n",
    "clf = grid_search.GridSearchCV(tree, parameters, cv=10)\n",
    "clf.fit(X_train, y_train)\n",
    "print \"The best set of parameters are: \", clf.best_params_\n",
    "print \"The best score is: \", clf.best_score_"
   ]
  },
  {
   "cell_type": "markdown",
   "metadata": {},
   "source": [
    "# Stacking"
   ]
  },
  {
   "cell_type": "code",
   "execution_count": 195,
   "metadata": {
    "collapsed": false
   },
   "outputs": [],
   "source": [
    "## writing a class with fit/predict/scoring method, to fit the sub-classifiers onto the data and fit\n",
    "# a meta classifier on top of the base classifier and evaluate the performance\n",
    "class stacked_classifier():\n",
    "    def __init__(self, base_classifiers=None, meta_classifier=None):\n",
    "        self.base_classifiers = base_classifiers\n",
    "        self.meta_classifier = meta_classifier\n",
    "\n",
    "\n",
    "    def fit(self, X, y):\n",
    "        for classifier in self.base_classifiers:\n",
    "            classifier.fit(X, y)\n",
    "        X_meta=self.predict_base(X)\n",
    "        self.meta_classifier.fit(X_meta, y)\n",
    "\n",
    "    def predict_base(self, X):\n",
    "        self.predictions = np.zeros(len(X))\n",
    "        for classifier in self.base_classifiers:\n",
    "            self.predictions=np.column_stack([self.predictions, classifier.predict(X)])\n",
    "        return self.predictions\n",
    "        \n",
    "    def scoring(self,X,y):\n",
    "        clf_score=[]\n",
    "        for classifier in self.base_classifiers:\n",
    "            clf_score.append(classifier.score(X, y))\n",
    "        clf_score.append(self.meta_classifier.score(self.predict_base(X),y))\n",
    "        return clf_score"
   ]
  },
  {
   "cell_type": "markdown",
   "metadata": {},
   "source": [
    "# Creating sub and meta classifiers"
   ]
  },
  {
   "cell_type": "code",
   "execution_count": 203,
   "metadata": {
    "collapsed": false
   },
   "outputs": [],
   "source": [
    "DTC = DecisionTreeClassifier(random_state=0)\n",
    "LR = linear_model.LogisticRegression()\n",
    "RC =  linear_model.RidgeClassifier(random_state=0)\n",
    "ETC = ExtraTreeClassifier(random_state=32)\n",
    "KNC = KNeighborsClassifier ()\n",
    "BC = BaggingClassifier()"
   ]
  },
  {
   "cell_type": "code",
   "execution_count": 225,
   "metadata": {
    "collapsed": false
   },
   "outputs": [],
   "source": [
    "DTR = DecisionTreeRegressor(random_state=0)\n",
    "RR =  linear_model.Ridge(random_state=0)\n",
    "BRR= linear_model.BayesianRidge()\n",
    "ETR = ExtraTreeRegressor(random_state=0)\n",
    "LR = linear_model.Lasso()\n",
    "RFR = RandomForestRegressor(random_state=0)"
   ]
  },
  {
   "cell_type": "markdown",
   "metadata": {},
   "source": [
    "# Importing the results of all possible combinations of base+meta classifier into a DataFrame"
   ]
  },
  {
   "cell_type": "code",
   "execution_count": 205,
   "metadata": {
    "collapsed": true
   },
   "outputs": [],
   "source": [
    "def stack_scoring(clf_dict, score_df, n, X_train, X_test, y_train, y_test):\n",
    "    l=0\n",
    "    for clf in combinations(clf_dict,n):\n",
    "        stacked_clf=stacked_classifier(base_classifiers=clf[0:n-1], meta_classifier=clf[n-1])\n",
    "        stacked_clf.fit(X_train,y_train)\n",
    "        clf_scores=[clf_dict.get(clf[i]) for i in range(n)]+stacked_clf.scoring(X_test,y_test)\n",
    "        score_df.loc[l]= clf_scores\n",
    "        l+=1\n",
    "    return score_df"
   ]
  },
  {
   "cell_type": "code",
   "execution_count": 206,
   "metadata": {
    "collapsed": false,
    "scrolled": false
   },
   "outputs": [
    {
     "name": "stdout",
     "output_type": "stream",
     "text": [
      "Best stacked classifier with 2 sub-classifier is: \n",
      "Base1          Logistic Regression\n",
      "Base2                Decision Tree\n",
      "Base3                        Ridge\n",
      "Meta                     KNeighbor\n",
      "Base1 Score               0.877911\n",
      "Base2 Score               0.983063\n",
      "Base3 Score               0.947717\n",
      "Meta Score                0.984536\n",
      "Name: 1, dtype: object\n"
     ]
    },
    {
     "data": {
      "text/html": [
       "<div>\n",
       "<table border=\"1\" class=\"dataframe\">\n",
       "  <thead>\n",
       "    <tr style=\"text-align: right;\">\n",
       "      <th></th>\n",
       "      <th>Base1</th>\n",
       "      <th>Base2</th>\n",
       "      <th>Base3</th>\n",
       "      <th>Meta</th>\n",
       "      <th>Base1 Score</th>\n",
       "      <th>Base2 Score</th>\n",
       "      <th>Base3 Score</th>\n",
       "      <th>Meta Score</th>\n",
       "    </tr>\n",
       "  </thead>\n",
       "  <tbody>\n",
       "    <tr>\n",
       "      <th>0</th>\n",
       "      <td>Logistic Regression</td>\n",
       "      <td>Decision Tree</td>\n",
       "      <td>Ridge</td>\n",
       "      <td>Extra Tree</td>\n",
       "      <td>0.877911</td>\n",
       "      <td>0.983063</td>\n",
       "      <td>0.947717</td>\n",
       "      <td>0.983063</td>\n",
       "    </tr>\n",
       "    <tr>\n",
       "      <th>1</th>\n",
       "      <td>Logistic Regression</td>\n",
       "      <td>Decision Tree</td>\n",
       "      <td>Ridge</td>\n",
       "      <td>KNeighbor</td>\n",
       "      <td>0.877911</td>\n",
       "      <td>0.983063</td>\n",
       "      <td>0.947717</td>\n",
       "      <td>0.984536</td>\n",
       "    </tr>\n",
       "    <tr>\n",
       "      <th>2</th>\n",
       "      <td>Logistic Regression</td>\n",
       "      <td>Decision Tree</td>\n",
       "      <td>Ridge</td>\n",
       "      <td>Bagging</td>\n",
       "      <td>0.877911</td>\n",
       "      <td>0.983063</td>\n",
       "      <td>0.947717</td>\n",
       "      <td>0.980854</td>\n",
       "    </tr>\n",
       "    <tr>\n",
       "      <th>3</th>\n",
       "      <td>Logistic Regression</td>\n",
       "      <td>Decision Tree</td>\n",
       "      <td>Extra Tree</td>\n",
       "      <td>KNeighbor</td>\n",
       "      <td>0.877911</td>\n",
       "      <td>0.983063</td>\n",
       "      <td>0.983800</td>\n",
       "      <td>0.983063</td>\n",
       "    </tr>\n",
       "    <tr>\n",
       "      <th>4</th>\n",
       "      <td>Logistic Regression</td>\n",
       "      <td>Decision Tree</td>\n",
       "      <td>Extra Tree</td>\n",
       "      <td>Bagging</td>\n",
       "      <td>0.877911</td>\n",
       "      <td>0.983063</td>\n",
       "      <td>0.983800</td>\n",
       "      <td>0.981591</td>\n",
       "    </tr>\n",
       "    <tr>\n",
       "      <th>5</th>\n",
       "      <td>Logistic Regression</td>\n",
       "      <td>Decision Tree</td>\n",
       "      <td>KNeighbor</td>\n",
       "      <td>Bagging</td>\n",
       "      <td>0.877911</td>\n",
       "      <td>0.983063</td>\n",
       "      <td>0.913108</td>\n",
       "      <td>0.979381</td>\n",
       "    </tr>\n",
       "    <tr>\n",
       "      <th>6</th>\n",
       "      <td>Logistic Regression</td>\n",
       "      <td>Ridge</td>\n",
       "      <td>Extra Tree</td>\n",
       "      <td>KNeighbor</td>\n",
       "      <td>0.877911</td>\n",
       "      <td>0.947717</td>\n",
       "      <td>0.983800</td>\n",
       "      <td>0.984536</td>\n",
       "    </tr>\n",
       "    <tr>\n",
       "      <th>7</th>\n",
       "      <td>Logistic Regression</td>\n",
       "      <td>Ridge</td>\n",
       "      <td>Extra Tree</td>\n",
       "      <td>Bagging</td>\n",
       "      <td>0.877911</td>\n",
       "      <td>0.947717</td>\n",
       "      <td>0.983800</td>\n",
       "      <td>0.981591</td>\n",
       "    </tr>\n",
       "    <tr>\n",
       "      <th>8</th>\n",
       "      <td>Logistic Regression</td>\n",
       "      <td>Ridge</td>\n",
       "      <td>KNeighbor</td>\n",
       "      <td>Bagging</td>\n",
       "      <td>0.877911</td>\n",
       "      <td>0.947717</td>\n",
       "      <td>0.913108</td>\n",
       "      <td>0.982327</td>\n",
       "    </tr>\n",
       "    <tr>\n",
       "      <th>9</th>\n",
       "      <td>Logistic Regression</td>\n",
       "      <td>Extra Tree</td>\n",
       "      <td>KNeighbor</td>\n",
       "      <td>Bagging</td>\n",
       "      <td>0.877911</td>\n",
       "      <td>0.983800</td>\n",
       "      <td>0.913108</td>\n",
       "      <td>0.980854</td>\n",
       "    </tr>\n",
       "    <tr>\n",
       "      <th>10</th>\n",
       "      <td>Decision Tree</td>\n",
       "      <td>Ridge</td>\n",
       "      <td>Extra Tree</td>\n",
       "      <td>KNeighbor</td>\n",
       "      <td>0.983063</td>\n",
       "      <td>0.947717</td>\n",
       "      <td>0.983800</td>\n",
       "      <td>0.983800</td>\n",
       "    </tr>\n",
       "    <tr>\n",
       "      <th>11</th>\n",
       "      <td>Decision Tree</td>\n",
       "      <td>Ridge</td>\n",
       "      <td>Extra Tree</td>\n",
       "      <td>Bagging</td>\n",
       "      <td>0.983063</td>\n",
       "      <td>0.947717</td>\n",
       "      <td>0.983800</td>\n",
       "      <td>0.983800</td>\n",
       "    </tr>\n",
       "    <tr>\n",
       "      <th>12</th>\n",
       "      <td>Decision Tree</td>\n",
       "      <td>Ridge</td>\n",
       "      <td>KNeighbor</td>\n",
       "      <td>Bagging</td>\n",
       "      <td>0.983063</td>\n",
       "      <td>0.947717</td>\n",
       "      <td>0.913108</td>\n",
       "      <td>0.983063</td>\n",
       "    </tr>\n",
       "    <tr>\n",
       "      <th>13</th>\n",
       "      <td>Decision Tree</td>\n",
       "      <td>Extra Tree</td>\n",
       "      <td>KNeighbor</td>\n",
       "      <td>Bagging</td>\n",
       "      <td>0.983063</td>\n",
       "      <td>0.983800</td>\n",
       "      <td>0.913108</td>\n",
       "      <td>0.983063</td>\n",
       "    </tr>\n",
       "    <tr>\n",
       "      <th>14</th>\n",
       "      <td>Ridge</td>\n",
       "      <td>Extra Tree</td>\n",
       "      <td>KNeighbor</td>\n",
       "      <td>Bagging</td>\n",
       "      <td>0.947717</td>\n",
       "      <td>0.983800</td>\n",
       "      <td>0.913108</td>\n",
       "      <td>0.983800</td>\n",
       "    </tr>\n",
       "  </tbody>\n",
       "</table>\n",
       "</div>"
      ],
      "text/plain": [
       "                  Base1          Base2       Base3        Meta  Base1 Score  \\\n",
       "0   Logistic Regression  Decision Tree       Ridge  Extra Tree     0.877911   \n",
       "1   Logistic Regression  Decision Tree       Ridge   KNeighbor     0.877911   \n",
       "2   Logistic Regression  Decision Tree       Ridge     Bagging     0.877911   \n",
       "3   Logistic Regression  Decision Tree  Extra Tree   KNeighbor     0.877911   \n",
       "4   Logistic Regression  Decision Tree  Extra Tree     Bagging     0.877911   \n",
       "5   Logistic Regression  Decision Tree   KNeighbor     Bagging     0.877911   \n",
       "6   Logistic Regression          Ridge  Extra Tree   KNeighbor     0.877911   \n",
       "7   Logistic Regression          Ridge  Extra Tree     Bagging     0.877911   \n",
       "8   Logistic Regression          Ridge   KNeighbor     Bagging     0.877911   \n",
       "9   Logistic Regression     Extra Tree   KNeighbor     Bagging     0.877911   \n",
       "10        Decision Tree          Ridge  Extra Tree   KNeighbor     0.983063   \n",
       "11        Decision Tree          Ridge  Extra Tree     Bagging     0.983063   \n",
       "12        Decision Tree          Ridge   KNeighbor     Bagging     0.983063   \n",
       "13        Decision Tree     Extra Tree   KNeighbor     Bagging     0.983063   \n",
       "14                Ridge     Extra Tree   KNeighbor     Bagging     0.947717   \n",
       "\n",
       "    Base2 Score  Base3 Score  Meta Score  \n",
       "0      0.983063     0.947717    0.983063  \n",
       "1      0.983063     0.947717    0.984536  \n",
       "2      0.983063     0.947717    0.980854  \n",
       "3      0.983063     0.983800    0.983063  \n",
       "4      0.983063     0.983800    0.981591  \n",
       "5      0.983063     0.913108    0.979381  \n",
       "6      0.947717     0.983800    0.984536  \n",
       "7      0.947717     0.983800    0.981591  \n",
       "8      0.947717     0.913108    0.982327  \n",
       "9      0.983800     0.913108    0.980854  \n",
       "10     0.947717     0.983800    0.983800  \n",
       "11     0.947717     0.983800    0.983800  \n",
       "12     0.947717     0.913108    0.983063  \n",
       "13     0.983800     0.913108    0.983063  \n",
       "14     0.983800     0.913108    0.983800  "
      ]
     },
     "execution_count": 206,
     "metadata": {},
     "output_type": "execute_result"
    }
   ],
   "source": [
    "X_train = data_preped_grp.ix[data_preped_grp['YEAR']!=2011][['PR','D','F','OUTLET','L1']]\n",
    "y_train = data_preped_grp.ix[data_preped_grp['YEAR']!=2011]['L2']\n",
    "X_test = data_preped_grp.ix[data_preped_grp['YEAR']==2011][['PR','D','F','OUTLET','L1']]\n",
    "y_test = data_preped_grp.ix[data_preped_grp['YEAR']==2011]['L2']\n",
    "clf_dict={DTC: 'Decision Tree',LR:'Logistic Regression',RC: 'Ridge', ETC: 'Extra Tree', KNC:'KNeighbor', BC:'Bagging'}\n",
    "score_df = pd.DataFrame(columns=['Base1','Base2','Base3', 'Meta','Base1 Score','Base2 Score','Base3 Score', 'Meta Score'])\n",
    "\n",
    "stack_2_base_score = stack_scoring(clf_dict,score_df, 4, X_train, X_test, y_train, y_test)\n",
    "print \"Best stacked classifier with 2 sub-classifier is: \\n\", stack_2_base_score.loc[stack_2_base_score['Meta Score'].idxmax()]\n",
    "stack_2_base_score"
   ]
  },
  {
   "cell_type": "code",
   "execution_count": 228,
   "metadata": {
    "collapsed": false
   },
   "outputs": [
    {
     "name": "stdout",
     "output_type": "stream",
     "text": [
      "Best stacked classifier with 2 sub-classifier is: \n",
      "Base1                   Lasso\n",
      "Base2          Bayesian Ridge\n",
      "Base3          Random Forrest\n",
      "Meta               Extra Tree\n",
      "Base1 Score          0.692909\n",
      "Base2 Score          0.692657\n",
      "Base3 Score          0.880851\n",
      "Meta Score           0.863544\n",
      "Name: 14, dtype: object\n"
     ]
    },
    {
     "data": {
      "text/html": [
       "<div>\n",
       "<table border=\"1\" class=\"dataframe\">\n",
       "  <thead>\n",
       "    <tr style=\"text-align: right;\">\n",
       "      <th></th>\n",
       "      <th>Base1</th>\n",
       "      <th>Base2</th>\n",
       "      <th>Base3</th>\n",
       "      <th>Meta</th>\n",
       "      <th>Base1 Score</th>\n",
       "      <th>Base2 Score</th>\n",
       "      <th>Base3 Score</th>\n",
       "      <th>Meta Score</th>\n",
       "    </tr>\n",
       "  </thead>\n",
       "  <tbody>\n",
       "    <tr>\n",
       "      <th>0</th>\n",
       "      <td>Decision Tree</td>\n",
       "      <td>Ridge</td>\n",
       "      <td>Lasso</td>\n",
       "      <td>Bayesian Ridge</td>\n",
       "      <td>0.750570</td>\n",
       "      <td>0.692926</td>\n",
       "      <td>0.692909</td>\n",
       "      <td>0.750570</td>\n",
       "    </tr>\n",
       "    <tr>\n",
       "      <th>1</th>\n",
       "      <td>Decision Tree</td>\n",
       "      <td>Ridge</td>\n",
       "      <td>Lasso</td>\n",
       "      <td>Random Forrest</td>\n",
       "      <td>0.750570</td>\n",
       "      <td>0.692926</td>\n",
       "      <td>0.692909</td>\n",
       "      <td>0.751602</td>\n",
       "    </tr>\n",
       "    <tr>\n",
       "      <th>2</th>\n",
       "      <td>Decision Tree</td>\n",
       "      <td>Ridge</td>\n",
       "      <td>Lasso</td>\n",
       "      <td>Extra Tree</td>\n",
       "      <td>0.750570</td>\n",
       "      <td>0.692926</td>\n",
       "      <td>0.692909</td>\n",
       "      <td>0.750624</td>\n",
       "    </tr>\n",
       "    <tr>\n",
       "      <th>3</th>\n",
       "      <td>Decision Tree</td>\n",
       "      <td>Ridge</td>\n",
       "      <td>Bayesian Ridge</td>\n",
       "      <td>Random Forrest</td>\n",
       "      <td>0.750570</td>\n",
       "      <td>0.692926</td>\n",
       "      <td>0.692657</td>\n",
       "      <td>0.751053</td>\n",
       "    </tr>\n",
       "    <tr>\n",
       "      <th>4</th>\n",
       "      <td>Decision Tree</td>\n",
       "      <td>Ridge</td>\n",
       "      <td>Bayesian Ridge</td>\n",
       "      <td>Extra Tree</td>\n",
       "      <td>0.750570</td>\n",
       "      <td>0.692926</td>\n",
       "      <td>0.692657</td>\n",
       "      <td>0.752212</td>\n",
       "    </tr>\n",
       "    <tr>\n",
       "      <th>5</th>\n",
       "      <td>Decision Tree</td>\n",
       "      <td>Ridge</td>\n",
       "      <td>Random Forrest</td>\n",
       "      <td>Extra Tree</td>\n",
       "      <td>0.750570</td>\n",
       "      <td>0.692926</td>\n",
       "      <td>0.880851</td>\n",
       "      <td>0.783937</td>\n",
       "    </tr>\n",
       "    <tr>\n",
       "      <th>6</th>\n",
       "      <td>Decision Tree</td>\n",
       "      <td>Lasso</td>\n",
       "      <td>Bayesian Ridge</td>\n",
       "      <td>Random Forrest</td>\n",
       "      <td>0.750570</td>\n",
       "      <td>0.692909</td>\n",
       "      <td>0.692657</td>\n",
       "      <td>0.751056</td>\n",
       "    </tr>\n",
       "    <tr>\n",
       "      <th>7</th>\n",
       "      <td>Decision Tree</td>\n",
       "      <td>Lasso</td>\n",
       "      <td>Bayesian Ridge</td>\n",
       "      <td>Extra Tree</td>\n",
       "      <td>0.750570</td>\n",
       "      <td>0.692909</td>\n",
       "      <td>0.692657</td>\n",
       "      <td>0.752212</td>\n",
       "    </tr>\n",
       "    <tr>\n",
       "      <th>8</th>\n",
       "      <td>Decision Tree</td>\n",
       "      <td>Lasso</td>\n",
       "      <td>Random Forrest</td>\n",
       "      <td>Extra Tree</td>\n",
       "      <td>0.750570</td>\n",
       "      <td>0.692909</td>\n",
       "      <td>0.880851</td>\n",
       "      <td>0.785596</td>\n",
       "    </tr>\n",
       "    <tr>\n",
       "      <th>9</th>\n",
       "      <td>Decision Tree</td>\n",
       "      <td>Bayesian Ridge</td>\n",
       "      <td>Random Forrest</td>\n",
       "      <td>Extra Tree</td>\n",
       "      <td>0.750570</td>\n",
       "      <td>0.692657</td>\n",
       "      <td>0.880851</td>\n",
       "      <td>0.774660</td>\n",
       "    </tr>\n",
       "    <tr>\n",
       "      <th>10</th>\n",
       "      <td>Ridge</td>\n",
       "      <td>Lasso</td>\n",
       "      <td>Bayesian Ridge</td>\n",
       "      <td>Random Forrest</td>\n",
       "      <td>0.692926</td>\n",
       "      <td>0.692909</td>\n",
       "      <td>0.692657</td>\n",
       "      <td>0.566233</td>\n",
       "    </tr>\n",
       "    <tr>\n",
       "      <th>11</th>\n",
       "      <td>Ridge</td>\n",
       "      <td>Lasso</td>\n",
       "      <td>Bayesian Ridge</td>\n",
       "      <td>Extra Tree</td>\n",
       "      <td>0.692926</td>\n",
       "      <td>0.692909</td>\n",
       "      <td>0.692657</td>\n",
       "      <td>0.328893</td>\n",
       "    </tr>\n",
       "    <tr>\n",
       "      <th>12</th>\n",
       "      <td>Ridge</td>\n",
       "      <td>Lasso</td>\n",
       "      <td>Random Forrest</td>\n",
       "      <td>Extra Tree</td>\n",
       "      <td>0.692926</td>\n",
       "      <td>0.692909</td>\n",
       "      <td>0.880851</td>\n",
       "      <td>0.858073</td>\n",
       "    </tr>\n",
       "    <tr>\n",
       "      <th>13</th>\n",
       "      <td>Ridge</td>\n",
       "      <td>Bayesian Ridge</td>\n",
       "      <td>Random Forrest</td>\n",
       "      <td>Extra Tree</td>\n",
       "      <td>0.692926</td>\n",
       "      <td>0.692657</td>\n",
       "      <td>0.880851</td>\n",
       "      <td>0.857181</td>\n",
       "    </tr>\n",
       "    <tr>\n",
       "      <th>14</th>\n",
       "      <td>Lasso</td>\n",
       "      <td>Bayesian Ridge</td>\n",
       "      <td>Random Forrest</td>\n",
       "      <td>Extra Tree</td>\n",
       "      <td>0.692909</td>\n",
       "      <td>0.692657</td>\n",
       "      <td>0.880851</td>\n",
       "      <td>0.863544</td>\n",
       "    </tr>\n",
       "  </tbody>\n",
       "</table>\n",
       "</div>"
      ],
      "text/plain": [
       "            Base1           Base2           Base3            Meta  \\\n",
       "0   Decision Tree           Ridge           Lasso  Bayesian Ridge   \n",
       "1   Decision Tree           Ridge           Lasso  Random Forrest   \n",
       "2   Decision Tree           Ridge           Lasso      Extra Tree   \n",
       "3   Decision Tree           Ridge  Bayesian Ridge  Random Forrest   \n",
       "4   Decision Tree           Ridge  Bayesian Ridge      Extra Tree   \n",
       "5   Decision Tree           Ridge  Random Forrest      Extra Tree   \n",
       "6   Decision Tree           Lasso  Bayesian Ridge  Random Forrest   \n",
       "7   Decision Tree           Lasso  Bayesian Ridge      Extra Tree   \n",
       "8   Decision Tree           Lasso  Random Forrest      Extra Tree   \n",
       "9   Decision Tree  Bayesian Ridge  Random Forrest      Extra Tree   \n",
       "10          Ridge           Lasso  Bayesian Ridge  Random Forrest   \n",
       "11          Ridge           Lasso  Bayesian Ridge      Extra Tree   \n",
       "12          Ridge           Lasso  Random Forrest      Extra Tree   \n",
       "13          Ridge  Bayesian Ridge  Random Forrest      Extra Tree   \n",
       "14          Lasso  Bayesian Ridge  Random Forrest      Extra Tree   \n",
       "\n",
       "    Base1 Score  Base2 Score  Base3 Score  Meta Score  \n",
       "0      0.750570     0.692926     0.692909    0.750570  \n",
       "1      0.750570     0.692926     0.692909    0.751602  \n",
       "2      0.750570     0.692926     0.692909    0.750624  \n",
       "3      0.750570     0.692926     0.692657    0.751053  \n",
       "4      0.750570     0.692926     0.692657    0.752212  \n",
       "5      0.750570     0.692926     0.880851    0.783937  \n",
       "6      0.750570     0.692909     0.692657    0.751056  \n",
       "7      0.750570     0.692909     0.692657    0.752212  \n",
       "8      0.750570     0.692909     0.880851    0.785596  \n",
       "9      0.750570     0.692657     0.880851    0.774660  \n",
       "10     0.692926     0.692909     0.692657    0.566233  \n",
       "11     0.692926     0.692909     0.692657    0.328893  \n",
       "12     0.692926     0.692909     0.880851    0.858073  \n",
       "13     0.692926     0.692657     0.880851    0.857181  \n",
       "14     0.692909     0.692657     0.880851    0.863544  "
      ]
     },
     "execution_count": 228,
     "metadata": {},
     "output_type": "execute_result"
    }
   ],
   "source": [
    "X_train = data_preped_grp.ix[data_preped_grp['YEAR']!=2011][['PR','D','F','OUTLET','L1']]\n",
    "y_train = data_preped_grp.ix[data_preped_grp['YEAR']!=2011]['DOLLARS']\n",
    "X_test = data_preped_grp.ix[data_preped_grp['YEAR']==2011][['PR','D','F','OUTLET','L1']]\n",
    "y_test = data_preped_grp.ix[data_preped_grp['YEAR']==2011]['DOLLARS']\n",
    "clf_dict={DTR: 'Decision Tree',RR: 'Ridge', ETR: 'Extra Tree', BRR:'Bayesian Ridge', LR:'Lasso', RFR: 'Random Forrest'}\n",
    "score_df = pd.DataFrame(columns=['Base1','Base2','Base3', 'Meta','Base1 Score','Base2 Score','Base3 Score', 'Meta Score'])\n",
    "\n",
    "stack_2_base_score = stack_scoring(clf_dict,score_df, 4, X_train, X_test, y_train, y_test)\n",
    "print \"Best stacked classifier with 2 sub-classifier is: \\n\", stack_2_base_score.loc[stack_2_base_score['Meta Score'].idxmax()]\n",
    "stack_2_base_score"
   ]
  },
  {
   "cell_type": "code",
   "execution_count": null,
   "metadata": {
    "collapsed": true
   },
   "outputs": [],
   "source": []
  }
 ],
 "metadata": {
  "kernelspec": {
   "display_name": "Python 2",
   "language": "python",
   "name": "python2"
  },
  "language_info": {
   "codemirror_mode": {
    "name": "ipython",
    "version": 2
   },
   "file_extension": ".py",
   "mimetype": "text/x-python",
   "name": "python",
   "nbconvert_exporter": "python",
   "pygments_lexer": "ipython2",
   "version": "2.7.10"
  }
 },
 "nbformat": 4,
 "nbformat_minor": 0
}
