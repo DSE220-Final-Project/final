{
 "cells": [
  {
   "cell_type": "code",
   "execution_count": 1,
   "metadata": {
    "collapsed": false
   },
   "outputs": [
    {
     "name": "stdout",
     "output_type": "stream",
     "text": [
      "/Users/Deepthi/Documents/DSE/Q3_DSE220 - Machine Learning/IRI Data - Project/Data/Processed data\n"
     ]
    }
   ],
   "source": [
    "%cd /Users/Deepthi/Documents/DSE/Q3_DSE220 - Machine Learning/IRI Data - Project/Data/Processed data"
   ]
  },
  {
   "cell_type": "code",
   "execution_count": 2,
   "metadata": {
    "collapsed": false
   },
   "outputs": [
    {
     "name": "stdout",
     "output_type": "stream",
     "text": [
      "IRI week translation_2008_2017.csv     IRI week translation_2008_2017.xls\r\n",
      "IRI week translation_2008_2017.numbers panel_demo_store_8_11.csv\r\n"
     ]
    }
   ],
   "source": [
    "!ls"
   ]
  },
  {
   "cell_type": "markdown",
   "metadata": {},
   "source": [
    "### Import Libraries"
   ]
  },
  {
   "cell_type": "code",
   "execution_count": 3,
   "metadata": {
    "collapsed": true
   },
   "outputs": [],
   "source": [
    "# Import libraries\n",
    "import pandas as pd\n",
    "import matplotlib.pyplot as plt\n",
    "from sklearn.tree import DecisionTreeClassifier\n",
    "from sklearn.cross_validation import train_test_split\n",
    "import numpy as np\n",
    "from sklearn import preprocessing\n",
    "from sklearn.ensemble import RandomForestClassifier\n",
    "\n",
    "%matplotlib inline"
   ]
  },
  {
   "cell_type": "markdown",
   "metadata": {},
   "source": [
    "### Get data"
   ]
  },
  {
   "cell_type": "code",
   "execution_count": 4,
   "metadata": {
    "collapsed": false
   },
   "outputs": [],
   "source": [
    "# Panel data from Alex\n",
    "panel_demo_store_8_11 = pd.read_csv('panel_demo_store_8_11.csv')"
   ]
  },
  {
   "cell_type": "code",
   "execution_count": 5,
   "metadata": {
    "collapsed": true
   },
   "outputs": [],
   "source": [
    "# Week translation to get the quarter - I modified this data in excel to include quarter numbers\n",
    "week_transaltion=pd.read_csv('IRI week translation_2008_2017.csv')"
   ]
  },
  {
   "cell_type": "code",
   "execution_count": 6,
   "metadata": {
    "collapsed": false,
    "scrolled": true
   },
   "outputs": [],
   "source": [
    "# panel_demo_store_8_11.columns"
   ]
  },
  {
   "cell_type": "markdown",
   "metadata": {},
   "source": [
    "### Data Clean up"
   ]
  },
  {
   "cell_type": "code",
   "execution_count": 7,
   "metadata": {
    "collapsed": false
   },
   "outputs": [],
   "source": [
    "panel_demo_store_8_11 = panel_demo_store_8_11.fillna(0) ## Treat NaN\n",
    "panel_demo_store_8_11.replace('99',0,inplace=True) ## Treat the extreme value 99 \n",
    "panel_demo_store_8_11.replace('98',0,inplace=True) ## Treat the extreme value 98\n",
    "panel_demo_store_8_11 = panel_demo_store_8_11.convert_objects(convert_numeric=True) ## Convert all the columns to numeric values\n",
    "panel_demo_store_8_11 = panel_demo_store_8_11.fillna(0) ## Replace NaNs\n",
    "panel_demo_store_8_11['age_group_applied_to_male_hh'].replace(7,0,inplace=True) ## Convert the extreme value 7 to 0 to keep NAs consistent\n",
    "panel_demo_store_8_11['age_group_applied_to_female_hh'].replace(7,0,inplace=True) ## Convert the extreme value 7 to 0 to keep NAs consistent"
   ]
  },
  {
   "cell_type": "markdown",
   "metadata": {},
   "source": [
    "### Create 'Day of the week' flag"
   ]
  },
  {
   "cell_type": "code",
   "execution_count": 8,
   "metadata": {
    "collapsed": false,
    "scrolled": true
   },
   "outputs": [],
   "source": [
    "mon = pd.DataFrame(zip(range(0,1440),['01_Monday']*1440,range(0,1440)))\n",
    "tue = pd.DataFrame(zip(range(1440,1440*2),['02_Tuesday']*1440,range(0,1440)))\n",
    "wed = pd.DataFrame(zip(range(1440*2,1440*3),['03_Wednesday']*1440,range(0,1440)))\n",
    "thu = pd.DataFrame(zip(range(1440*3,1440*4),['04_Thursday']*1440,range(0,1440)))\n",
    "fri = pd.DataFrame(zip(range(1440*4,1440*5),['05_Friday']*1440,range(0,1440)))\n",
    "sat = pd.DataFrame(zip(range(1440*5,1440*6),['06_Saturay']*1440,range(0,1440)))\n",
    "sun = pd.DataFrame(zip(range(1440*6,1440*7),['07_Sunday']*1440,range(0,1440)))\n",
    "\n",
    "frames = [mon,tue,wed,thu,fri,sat,sun]"
   ]
  },
  {
   "cell_type": "code",
   "execution_count": 9,
   "metadata": {
    "collapsed": false
   },
   "outputs": [],
   "source": [
    "final_week_days = pd.concat(frames)"
   ]
  },
  {
   "cell_type": "markdown",
   "metadata": {},
   "source": [
    "### Create 'Hour' flag"
   ]
  },
  {
   "cell_type": "code",
   "execution_count": 10,
   "metadata": {
    "collapsed": false
   },
   "outputs": [],
   "source": [
    "final_week_days.columns = ['minute','day_of_the_week','minute_by_day']\n",
    "final_week_days['hour'] = (final_week_days['minute_by_day']/60).round()\n",
    "temp = panel_demo_store_8_11.copy()\n",
    "temp2 = pd.merge(temp,week_transaltion,on='week')\n",
    "with_week_day = pd.merge(temp2,final_week_days, on = 'minute')\n",
    "with_week_day['hour'].replace(0,24,inplace=True) ## Convert the extreme value 7 to 0 to keep NAs consistent"
   ]
  },
  {
   "cell_type": "code",
   "execution_count": 11,
   "metadata": {
    "collapsed": false
   },
   "outputs": [
    {
     "data": {
      "text/plain": [
       "<matplotlib.axes._subplots.AxesSubplot at 0x112a05310>"
      ]
     },
     "execution_count": 11,
     "metadata": {},
     "output_type": "execute_result"
    },
    {
     "data": {
      "image/png": "[encoded data removed]",
      "text/plain": [
       "<matplotlib.figure.Figure at 0x112a1fed0>"
      ]
     },
     "metadata": {},
     "output_type": "display_data"
    }
   ],
   "source": [
    "## Histogram by hour of the day\n",
    "with_week_day['hour'].hist()"
   ]
  },
  {
   "cell_type": "markdown",
   "metadata": {},
   "source": [
    "### Create 'Time of the day' flag\n",
    "\n",
    "I tried to group the hours into different buckets. But 'office hours' seemed to work the best"
   ]
  },
  {
   "cell_type": "code",
   "execution_count": 12,
   "metadata": {
    "collapsed": false
   },
   "outputs": [],
   "source": [
    "def func(row):\n",
    "    if row['hour'] in ([0,1,2,3,4,5,6,7,8,9]):\n",
    "        return 'before_office_hours'\n",
    "    elif row['hour'] in ([10,11,12,13,14,15,16,17]):\n",
    "        return 'during_office_hours'\n",
    "    elif row['hour'] in ([18,19,20,21,22,23,24]):\n",
    "        return 'after_office_hours'\n",
    "\n",
    "with_week_day['time_of_the_day'] = with_week_day.apply(func,axis=1) "
   ]
  },
  {
   "cell_type": "code",
   "execution_count": 13,
   "metadata": {
    "collapsed": false
   },
   "outputs": [
    {
     "data": {
      "image/png": "[encoded data removed]",
      "text/plain": [
       "<matplotlib.figure.Figure at 0x119aeb410>"
      ]
     },
     "metadata": {},
     "output_type": "display_data"
    }
   ],
   "source": [
    "temp2 = with_week_day['day_of_the_week'].copy()\n",
    "\n",
    "temp3 = pd.DataFrame(temp2.value_counts()).reset_index()\n",
    "temp3.columns = ['day_of_the_week','count']\n",
    "temp3.sort('day_of_the_week',inplace = True)\n",
    "\n",
    "temp3.plot(kind='bar',x='day_of_the_week')\n",
    "plt.show()"
   ]
  },
  {
   "cell_type": "markdown",
   "metadata": {},
   "source": [
    "### Create Quarter flag"
   ]
  },
  {
   "cell_type": "code",
   "execution_count": 14,
   "metadata": {
    "collapsed": false
   },
   "outputs": [
    {
     "data": {
      "image/png": "[encoded data removed]",
      "text/plain": [
       "<matplotlib.figure.Figure at 0x113118210>"
      ]
     },
     "metadata": {},
     "output_type": "display_data"
    }
   ],
   "source": [
    "temp2 = with_week_day['quarter'].copy()\n",
    "\n",
    "temp3 = pd.DataFrame(temp2.value_counts()).reset_index()\n",
    "temp3.columns = ['quarter','count']\n",
    "temp3.sort('quarter',inplace = True)\n",
    "\n",
    "temp3.plot(kind='bar',x='quarter')\n",
    "plt.show()"
   ]
  },
  {
   "cell_type": "markdown",
   "metadata": {},
   "source": [
    "### Combine some of the features"
   ]
  },
  {
   "cell_type": "code",
   "execution_count": 27,
   "metadata": {
    "collapsed": false,
    "scrolled": true
   },
   "outputs": [],
   "source": [
    "data_for_modeling2 = with_week_day[['panid', 'l2', 'marketname','outlet','day_of_the_week','hour','dollars','family_size'\n",
    "                                   ,'age_group_applied_to_male_hh','age_group_applied_to_female_hh','product_type',\n",
    "                                  'time_of_the_day','combined_pre_tax_income_of_hh','education_level_reached_by_male_hh',\n",
    "                                  'education_level_reached_by_female_hh','occupation_code_of_female_hh','occupation_code_of_male_hh',\n",
    "                                  'quarter','all_tvs','cabl_tvs']]"
   ]
  },
  {
   "cell_type": "code",
   "execution_count": 16,
   "metadata": {
    "collapsed": true
   },
   "outputs": [],
   "source": [
    "data_for_modeling = data_for_modeling2.copy()"
   ]
  },
  {
   "cell_type": "code",
   "execution_count": 17,
   "metadata": {
    "collapsed": false,
    "scrolled": true
   },
   "outputs": [],
   "source": [
    "data_for_modeling['income_per_person'] = data_for_modeling['combined_pre_tax_income_of_hh']/(data_for_modeling['family_size']+1)\n",
    "data_for_modeling['age_group'] = data_for_modeling[['age_group_applied_to_male_hh','age_group_applied_to_female_hh']].mean(axis=1)\n",
    "data_for_modeling['education'] = data_for_modeling[['education_level_reached_by_male_hh','education_level_reached_by_female_hh']].mean(axis=1)\n",
    "data_for_modeling['occupation'] = data_for_modeling[['occupation_code_of_male_hh','occupation_code_of_female_hh']].mean(axis=1)\n",
    "data_for_modeling['number_of_tvs'] = data_for_modeling[['all_tvs','cabl_tvs']].mean(axis=1)"
   ]
  },
  {
   "cell_type": "code",
   "execution_count": 19,
   "metadata": {
    "collapsed": false
   },
   "outputs": [],
   "source": [
    "data_for_modeling[['income_per_person','age_group','education','occupation','number_of_tvs']] = data_for_modeling[['income_per_person','age_group','education','occupation','number_of_tvs']].apply(np.round,decimals=1)"
   ]
  },
  {
   "cell_type": "markdown",
   "metadata": {},
   "source": [
    "### One hot encoding"
   ]
  },
  {
   "cell_type": "code",
   "execution_count": 20,
   "metadata": {
    "collapsed": false,
    "scrolled": true
   },
   "outputs": [],
   "source": [
    "## One hot encoding\n",
    "\n",
    "for_one_hot = data_for_modeling[['income_per_person','dollars','outlet', 'day_of_the_week','time_of_the_day',\n",
    "                                   'age_group','education','occupation','number_of_tvs'\n",
    "                                ,'marketname',\n",
    "                                'quarter']].copy()\n",
    "\n",
    "for_one_hot['income_per_person'] = for_one_hot['income_per_person'].astype(str)\n",
    "for_one_hot['age_group'] = for_one_hot['age_group'].astype(str)\n",
    "for_one_hot['education'] = for_one_hot['education'].astype(str)\n",
    "for_one_hot['occupation'] = for_one_hot['occupation'].astype(str)\n",
    "for_one_hot['number_of_tvs'] = for_one_hot['number_of_tvs'].astype(str)\n",
    "for_one_hot['quarter'] = for_one_hot['quarter'].astype(str)\n",
    "\n",
    "\n",
    "after_one_hot = pd.get_dummies(for_one_hot)"
   ]
  },
  {
   "cell_type": "markdown",
   "metadata": {},
   "source": [
    "###  Handle NANs - Peyman's code"
   ]
  },
  {
   "cell_type": "code",
   "execution_count": 22,
   "metadata": {
    "collapsed": false
   },
   "outputs": [],
   "source": [
    "\n",
    "\n",
    "def data_prep (data):\n",
    "    # determining the non-numeric columns and transforming them into numeric using LabelEncoder() method\n",
    "    real_or_str=data.applymap(np.isreal).all(0)\n",
    "    non_num_feature=real_or_str[~real_or_str].keys()\n",
    "    print \"Non-numeric features are: \", non_num_feature\n",
    "    le = preprocessing.LabelEncoder()\n",
    "    for col in non_num_feature:\n",
    "        #transform the non-numeric columns to numeric values using \n",
    "        #LabelEncoder method from SKLearn#\n",
    "        data.ix[:,col]=le.fit_transform(data.ix[:,col])\n",
    "    return data"
   ]
  },
  {
   "cell_type": "code",
   "execution_count": 23,
   "metadata": {
    "collapsed": false,
    "scrolled": true
   },
   "outputs": [
    {
     "name": "stdout",
     "output_type": "stream",
     "text": [
      "Non-numeric features are:  Index([], dtype='object')\n"
     ]
    },
    {
     "data": {
      "text/html": [
       "<div>\n",
       "<table border=\"1\" class=\"dataframe\">\n",
       "  <thead>\n",
       "    <tr style=\"text-align: right;\">\n",
       "      <th></th>\n",
       "      <th>dollars</th>\n",
       "      <th>income_per_person_0.0</th>\n",
       "      <th>income_per_person_0.1</th>\n",
       "      <th>income_per_person_0.2</th>\n",
       "      <th>income_per_person_0.3</th>\n",
       "      <th>income_per_person_0.4</th>\n",
       "      <th>income_per_person_0.5</th>\n",
       "      <th>income_per_person_0.6</th>\n",
       "      <th>income_per_person_0.7</th>\n",
       "      <th>income_per_person_0.8</th>\n",
       "      <th>...</th>\n",
       "      <th>number_of_tvs_6.0</th>\n",
       "      <th>number_of_tvs_6.5</th>\n",
       "      <th>number_of_tvs_7.0</th>\n",
       "      <th>number_of_tvs_9.0</th>\n",
       "      <th>marketname_EAU CLAIRE</th>\n",
       "      <th>marketname_PITTSFIELD</th>\n",
       "      <th>quarter_Q1</th>\n",
       "      <th>quarter_Q2</th>\n",
       "      <th>quarter_Q3</th>\n",
       "      <th>quarter_Q4</th>\n",
       "    </tr>\n",
       "  </thead>\n",
       "  <tbody>\n",
       "    <tr>\n",
       "      <th>0</th>\n",
       "      <td>4.38</td>\n",
       "      <td>0</td>\n",
       "      <td>0</td>\n",
       "      <td>0</td>\n",
       "      <td>0</td>\n",
       "      <td>0</td>\n",
       "      <td>0</td>\n",
       "      <td>0</td>\n",
       "      <td>0</td>\n",
       "      <td>0</td>\n",
       "      <td>...</td>\n",
       "      <td>0</td>\n",
       "      <td>0</td>\n",
       "      <td>0</td>\n",
       "      <td>0</td>\n",
       "      <td>0</td>\n",
       "      <td>1</td>\n",
       "      <td>0</td>\n",
       "      <td>1</td>\n",
       "      <td>0</td>\n",
       "      <td>0</td>\n",
       "    </tr>\n",
       "    <tr>\n",
       "      <th>1</th>\n",
       "      <td>4.28</td>\n",
       "      <td>0</td>\n",
       "      <td>0</td>\n",
       "      <td>0</td>\n",
       "      <td>0</td>\n",
       "      <td>0</td>\n",
       "      <td>0</td>\n",
       "      <td>0</td>\n",
       "      <td>0</td>\n",
       "      <td>0</td>\n",
       "      <td>...</td>\n",
       "      <td>0</td>\n",
       "      <td>0</td>\n",
       "      <td>0</td>\n",
       "      <td>0</td>\n",
       "      <td>1</td>\n",
       "      <td>0</td>\n",
       "      <td>0</td>\n",
       "      <td>0</td>\n",
       "      <td>0</td>\n",
       "      <td>1</td>\n",
       "    </tr>\n",
       "    <tr>\n",
       "      <th>2</th>\n",
       "      <td>4.10</td>\n",
       "      <td>0</td>\n",
       "      <td>0</td>\n",
       "      <td>0</td>\n",
       "      <td>0</td>\n",
       "      <td>0</td>\n",
       "      <td>0</td>\n",
       "      <td>0</td>\n",
       "      <td>0</td>\n",
       "      <td>0</td>\n",
       "      <td>...</td>\n",
       "      <td>0</td>\n",
       "      <td>0</td>\n",
       "      <td>0</td>\n",
       "      <td>0</td>\n",
       "      <td>1</td>\n",
       "      <td>0</td>\n",
       "      <td>0</td>\n",
       "      <td>1</td>\n",
       "      <td>0</td>\n",
       "      <td>0</td>\n",
       "    </tr>\n",
       "    <tr>\n",
       "      <th>3</th>\n",
       "      <td>3.00</td>\n",
       "      <td>0</td>\n",
       "      <td>0</td>\n",
       "      <td>0</td>\n",
       "      <td>0</td>\n",
       "      <td>0</td>\n",
       "      <td>0</td>\n",
       "      <td>0</td>\n",
       "      <td>0</td>\n",
       "      <td>0</td>\n",
       "      <td>...</td>\n",
       "      <td>0</td>\n",
       "      <td>0</td>\n",
       "      <td>0</td>\n",
       "      <td>0</td>\n",
       "      <td>1</td>\n",
       "      <td>0</td>\n",
       "      <td>0</td>\n",
       "      <td>0</td>\n",
       "      <td>0</td>\n",
       "      <td>1</td>\n",
       "    </tr>\n",
       "    <tr>\n",
       "      <th>4</th>\n",
       "      <td>2.59</td>\n",
       "      <td>0</td>\n",
       "      <td>0</td>\n",
       "      <td>0</td>\n",
       "      <td>0</td>\n",
       "      <td>0</td>\n",
       "      <td>0</td>\n",
       "      <td>0</td>\n",
       "      <td>0</td>\n",
       "      <td>0</td>\n",
       "      <td>...</td>\n",
       "      <td>0</td>\n",
       "      <td>0</td>\n",
       "      <td>0</td>\n",
       "      <td>0</td>\n",
       "      <td>1</td>\n",
       "      <td>0</td>\n",
       "      <td>0</td>\n",
       "      <td>0</td>\n",
       "      <td>0</td>\n",
       "      <td>1</td>\n",
       "    </tr>\n",
       "  </tbody>\n",
       "</table>\n",
       "<p>5 rows × 122 columns</p>\n",
       "</div>"
      ],
      "text/plain": [
       "   dollars  income_per_person_0.0  income_per_person_0.1  \\\n",
       "0     4.38                      0                      0   \n",
       "1     4.28                      0                      0   \n",
       "2     4.10                      0                      0   \n",
       "3     3.00                      0                      0   \n",
       "4     2.59                      0                      0   \n",
       "\n",
       "   income_per_person_0.2  income_per_person_0.3  income_per_person_0.4  \\\n",
       "0                      0                      0                      0   \n",
       "1                      0                      0                      0   \n",
       "2                      0                      0                      0   \n",
       "3                      0                      0                      0   \n",
       "4                      0                      0                      0   \n",
       "\n",
       "   income_per_person_0.5  income_per_person_0.6  income_per_person_0.7  \\\n",
       "0                      0                      0                      0   \n",
       "1                      0                      0                      0   \n",
       "2                      0                      0                      0   \n",
       "3                      0                      0                      0   \n",
       "4                      0                      0                      0   \n",
       "\n",
       "   income_per_person_0.8     ...      number_of_tvs_6.0  number_of_tvs_6.5  \\\n",
       "0                      0     ...                      0                  0   \n",
       "1                      0     ...                      0                  0   \n",
       "2                      0     ...                      0                  0   \n",
       "3                      0     ...                      0                  0   \n",
       "4                      0     ...                      0                  0   \n",
       "\n",
       "   number_of_tvs_7.0  number_of_tvs_9.0  marketname_EAU CLAIRE                \\\n",
       "0                  0                  0                                    0   \n",
       "1                  0                  0                                    1   \n",
       "2                  0                  0                                    1   \n",
       "3                  0                  0                                    1   \n",
       "4                  0                  0                                    1   \n",
       "\n",
       "   marketname_PITTSFIELD                quarter_Q1  quarter_Q2  quarter_Q3  \\\n",
       "0                                    1           0           1           0   \n",
       "1                                    0           0           0           0   \n",
       "2                                    0           0           1           0   \n",
       "3                                    0           0           0           0   \n",
       "4                                    0           0           0           0   \n",
       "\n",
       "   quarter_Q4  \n",
       "0           0  \n",
       "1           1  \n",
       "2           0  \n",
       "3           1  \n",
       "4           1  \n",
       "\n",
       "[5 rows x 122 columns]"
      ]
     },
     "execution_count": 23,
     "metadata": {},
     "output_type": "execute_result"
    }
   ],
   "source": [
    "panel_store_preped=data_prep(after_one_hot)\n",
    "panel_store_preped.head()"
   ]
  },
  {
   "cell_type": "markdown",
   "metadata": {},
   "source": [
    "### Split the data into test and train"
   ]
  },
  {
   "cell_type": "code",
   "execution_count": 28,
   "metadata": {
    "collapsed": false
   },
   "outputs": [
    {
     "name": "stdout",
     "output_type": "stream",
     "text": [
      "(30204, 122)\n"
     ]
    }
   ],
   "source": [
    "X_train, X_test, Y_train, Y_test = train_test_split(panel_store_preped, data_for_modeling['l2'], test_size=0.2, random_state=4)\n",
    "print (X_train.shape)"
   ]
  },
  {
   "cell_type": "markdown",
   "metadata": {},
   "source": [
    "### Fit Decision tree"
   ]
  },
  {
   "cell_type": "code",
   "execution_count": 25,
   "metadata": {
    "collapsed": false
   },
   "outputs": [
    {
     "data": {
      "text/plain": [
       "0.47463912064627201"
      ]
     },
     "execution_count": 25,
     "metadata": {},
     "output_type": "execute_result"
    }
   ],
   "source": [
    "dtree = DecisionTreeClassifier()\n",
    "dtree.fit(X_train, Y_train)\n",
    "dtree.score(X_test, Y_test)"
   ]
  },
  {
   "cell_type": "markdown",
   "metadata": {},
   "source": [
    "### Fit Random forest"
   ]
  },
  {
   "cell_type": "code",
   "execution_count": 26,
   "metadata": {
    "collapsed": false
   },
   "outputs": [
    {
     "data": {
      "text/plain": [
       "0.45212554628526025"
      ]
     },
     "execution_count": 26,
     "metadata": {},
     "output_type": "execute_result"
    }
   ],
   "source": [
    "tree = RandomForestClassifier()\n",
    "tree.fit(X_train, Y_train)\n",
    "tree.score(X_test, Y_test)"
   ]
  }
 ],
 "metadata": {
  "kernelspec": {
   "display_name": "Python 2",
   "language": "python",
   "name": "python2"
  },
  "language_info": {
   "codemirror_mode": {
    "name": "ipython",
    "version": 2
   },
   "file_extension": ".py",
   "mimetype": "text/x-python",
   "name": "python",
   "nbconvert_exporter": "python",
   "pygments_lexer": "ipython2",
   "version": "2.7.11"
  }
 },
 "nbformat": 4,
 "nbformat_minor": 0
}
