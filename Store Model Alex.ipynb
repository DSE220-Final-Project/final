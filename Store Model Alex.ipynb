{
 "cells": [
  {
   "cell_type": "code",
   "execution_count": 51,
   "metadata": {
    "collapsed": false
   },
   "outputs": [
    {
     "name": "stdout",
     "output_type": "stream",
     "text": [
      "Populating the interactive namespace from numpy and matplotlib\n"
     ]
    }
   ],
   "source": [
    "from xgboost import XGBClassifier\n",
    "from xgboost import DMatrix\n",
    "from sklearn.tree import DecisionTreeClassifier\n",
    "from sklearn.ensemble import RandomForestClassifier\n",
    "from sklearn.cross_validation import train_test_split\n",
    "from sklearn.preprocessing import scale\n",
    "from sklearn import datasets\n",
    "from sklearn import decomposition\n",
    "from sklearn.feature_selection import SelectKBest\n",
    "from sklearn.feature_selection import chi2\n",
    "from sklearn.svm import SVC\n",
    "import pandas as pd\n",
    "%pylab inline\n",
    "from pandas.tools.plotting import scatter_matrix"
   ]
  },
  {
   "cell_type": "code",
   "execution_count": 2,
   "metadata": {
    "collapsed": false
   },
   "outputs": [
    {
     "name": "stderr",
     "output_type": "stream",
     "text": [
      "/usr/local/lib/python2.7/site-packages/IPython/core/interactiveshell.py:2902: DtypeWarning: Columns (10) have mixed types. Specify dtype option on import or set low_memory=False.\n",
      "  interactivity=interactivity, compiler=compiler, result=result)\n"
     ]
    }
   ],
   "source": [
    "result = pd.read_csv(\"/Users/alexegg/Downloads/panel_stores_products_8_11.csv\")"
   ]
  },
  {
   "cell_type": "code",
   "execution_count": 4,
   "metadata": {
    "collapsed": false
   },
   "outputs": [],
   "source": [
    "df=result"
   ]
  },
  {
   "cell_type": "code",
   "execution_count": 5,
   "metadata": {
    "collapsed": false
   },
   "outputs": [],
   "source": [
    "df.set_index(\"panid\", inplace=True)\n",
    "df.ou.fillna(\"GR\", inplace=True)"
   ]
  },
  {
   "cell_type": "code",
   "execution_count": 6,
   "metadata": {
    "collapsed": false
   },
   "outputs": [
    {
     "data": {
      "text/html": [
       "<div>\n",
       "<table border=\"1\" class=\"dataframe\">\n",
       "  <thead>\n",
       "    <tr style=\"text-align: right;\">\n",
       "      <th></th>\n",
       "      <th>week</th>\n",
       "      <th>minute</th>\n",
       "      <th>units</th>\n",
       "      <th>outlet</th>\n",
       "      <th>dollars</th>\n",
       "      <th>iri_key</th>\n",
       "      <th>colupc</th>\n",
       "      <th>ou</th>\n",
       "      <th>est_acv</th>\n",
       "      <th>marketname</th>\n",
       "      <th>...</th>\n",
       "      <th>events</th>\n",
       "      <th>year</th>\n",
       "      <th>week_number</th>\n",
       "      <th>quarter</th>\n",
       "      <th>day_of_week</th>\n",
       "      <th>minute_by_day</th>\n",
       "      <th>hour</th>\n",
       "      <th>time_of_day</th>\n",
       "      <th>time_of_day_2</th>\n",
       "      <th>weekday_weekend</th>\n",
       "    </tr>\n",
       "    <tr>\n",
       "      <th>panid</th>\n",
       "      <th></th>\n",
       "      <th></th>\n",
       "      <th></th>\n",
       "      <th></th>\n",
       "      <th></th>\n",
       "      <th></th>\n",
       "      <th></th>\n",
       "      <th></th>\n",
       "      <th></th>\n",
       "      <th></th>\n",
       "      <th></th>\n",
       "      <th></th>\n",
       "      <th></th>\n",
       "      <th></th>\n",
       "      <th></th>\n",
       "      <th></th>\n",
       "      <th></th>\n",
       "      <th></th>\n",
       "      <th></th>\n",
       "      <th></th>\n",
       "      <th></th>\n",
       "    </tr>\n",
       "  </thead>\n",
       "  <tbody>\n",
       "    <tr>\n",
       "      <th>1116608</th>\n",
       "      <td>1607</td>\n",
       "      <td>9587</td>\n",
       "      <td>2</td>\n",
       "      <td>DK</td>\n",
       "      <td>4.38</td>\n",
       "      <td>642166</td>\n",
       "      <td>11600014690</td>\n",
       "      <td>DR</td>\n",
       "      <td>1.674999</td>\n",
       "      <td>PITTSFIELD</td>\n",
       "      <td>...</td>\n",
       "      <td>4</td>\n",
       "      <td>10</td>\n",
       "      <td>25</td>\n",
       "      <td>Q2</td>\n",
       "      <td>07_Sunday</td>\n",
       "      <td>947</td>\n",
       "      <td>16</td>\n",
       "      <td>02_during_office_hours</td>\n",
       "      <td>03_afternoon</td>\n",
       "      <td>weekend</td>\n",
       "    </tr>\n",
       "    <tr>\n",
       "      <th>1408492</th>\n",
       "      <td>1632</td>\n",
       "      <td>8079</td>\n",
       "      <td>1</td>\n",
       "      <td>DK</td>\n",
       "      <td>1.12</td>\n",
       "      <td>642166</td>\n",
       "      <td>11600015840</td>\n",
       "      <td>DR</td>\n",
       "      <td>1.674999</td>\n",
       "      <td>PITTSFIELD</td>\n",
       "      <td>...</td>\n",
       "      <td>4</td>\n",
       "      <td>10</td>\n",
       "      <td>50</td>\n",
       "      <td>Q4</td>\n",
       "      <td>06_Saturay</td>\n",
       "      <td>879</td>\n",
       "      <td>15</td>\n",
       "      <td>02_during_office_hours</td>\n",
       "      <td>03_afternoon</td>\n",
       "      <td>weekend</td>\n",
       "    </tr>\n",
       "    <tr>\n",
       "      <th>1809632</th>\n",
       "      <td>1584</td>\n",
       "      <td>6998</td>\n",
       "      <td>2</td>\n",
       "      <td>DK</td>\n",
       "      <td>2.72</td>\n",
       "      <td>642166</td>\n",
       "      <td>11600015840</td>\n",
       "      <td>DR</td>\n",
       "      <td>1.674999</td>\n",
       "      <td>PITTSFIELD</td>\n",
       "      <td>...</td>\n",
       "      <td>4</td>\n",
       "      <td>10</td>\n",
       "      <td>2</td>\n",
       "      <td>Q1</td>\n",
       "      <td>05_Friday</td>\n",
       "      <td>1238</td>\n",
       "      <td>21</td>\n",
       "      <td>03_after_office_hours</td>\n",
       "      <td>05_night</td>\n",
       "      <td>weekday</td>\n",
       "    </tr>\n",
       "    <tr>\n",
       "      <th>1809632</th>\n",
       "      <td>1604</td>\n",
       "      <td>6626</td>\n",
       "      <td>4</td>\n",
       "      <td>DK</td>\n",
       "      <td>5.32</td>\n",
       "      <td>642166</td>\n",
       "      <td>11600015990</td>\n",
       "      <td>DR</td>\n",
       "      <td>1.674999</td>\n",
       "      <td>PITTSFIELD</td>\n",
       "      <td>...</td>\n",
       "      <td>4</td>\n",
       "      <td>10</td>\n",
       "      <td>22</td>\n",
       "      <td>Q2</td>\n",
       "      <td>05_Friday</td>\n",
       "      <td>866</td>\n",
       "      <td>15</td>\n",
       "      <td>02_during_office_hours</td>\n",
       "      <td>03_afternoon</td>\n",
       "      <td>weekday</td>\n",
       "    </tr>\n",
       "    <tr>\n",
       "      <th>1163584</th>\n",
       "      <td>1615</td>\n",
       "      <td>651</td>\n",
       "      <td>2</td>\n",
       "      <td>DK</td>\n",
       "      <td>3.00</td>\n",
       "      <td>642166</td>\n",
       "      <td>11600016490</td>\n",
       "      <td>DR</td>\n",
       "      <td>1.674999</td>\n",
       "      <td>PITTSFIELD</td>\n",
       "      <td>...</td>\n",
       "      <td>4</td>\n",
       "      <td>10</td>\n",
       "      <td>33</td>\n",
       "      <td>Q3</td>\n",
       "      <td>01_Monday</td>\n",
       "      <td>651</td>\n",
       "      <td>11</td>\n",
       "      <td>02_during_office_hours</td>\n",
       "      <td>02_between_10_and_noon</td>\n",
       "      <td>weekday</td>\n",
       "    </tr>\n",
       "  </tbody>\n",
       "</table>\n",
       "<p>5 rows × 30 columns</p>\n",
       "</div>"
      ],
      "text/plain": [
       "         week  minute  units outlet  dollars  iri_key       colupc  ou  \\\n",
       "panid                                                                    \n",
       "1116608  1607    9587      2     DK     4.38   642166  11600014690  DR   \n",
       "1408492  1632    8079      1     DK     1.12   642166  11600015840  DR   \n",
       "1809632  1584    6998      2     DK     2.72   642166  11600015840  DR   \n",
       "1809632  1604    6626      4     DK     5.32   642166  11600015990  DR   \n",
       "1163584  1615     651      2     DK     3.00   642166  11600016490  DR   \n",
       "\n",
       "          est_acv                marketname       ...        events  year  \\\n",
       "panid                                             ...                       \n",
       "1116608  1.674999  PITTSFIELD                     ...             4    10   \n",
       "1408492  1.674999  PITTSFIELD                     ...             4    10   \n",
       "1809632  1.674999  PITTSFIELD                     ...             4    10   \n",
       "1809632  1.674999  PITTSFIELD                     ...             4    10   \n",
       "1163584  1.674999  PITTSFIELD                     ...             4    10   \n",
       "\n",
       "         week_number quarter day_of_week minute_by_day hour  \\\n",
       "panid                                                         \n",
       "1116608           25      Q2   07_Sunday           947   16   \n",
       "1408492           50      Q4  06_Saturay           879   15   \n",
       "1809632            2      Q1   05_Friday          1238   21   \n",
       "1809632           22      Q2   05_Friday           866   15   \n",
       "1163584           33      Q3   01_Monday           651   11   \n",
       "\n",
       "                    time_of_day           time_of_day_2 weekday_weekend  \n",
       "panid                                                                    \n",
       "1116608  02_during_office_hours            03_afternoon         weekend  \n",
       "1408492  02_during_office_hours            03_afternoon         weekend  \n",
       "1809632   03_after_office_hours                05_night         weekday  \n",
       "1809632  02_during_office_hours            03_afternoon         weekday  \n",
       "1163584  02_during_office_hours  02_between_10_and_noon         weekday  \n",
       "\n",
       "[5 rows x 30 columns]"
      ]
     },
     "execution_count": 6,
     "metadata": {},
     "output_type": "execute_result"
    }
   ],
   "source": [
    "df.head()"
   ]
  },
  {
   "cell_type": "code",
   "execution_count": 7,
   "metadata": {
    "collapsed": false
   },
   "outputs": [
    {
     "name": "stdout",
     "output_type": "stream",
     "text": [
      "GK    452594\n",
      "DK      5871\n",
      "MK      2560\n",
      "Name: outlet, dtype: int64\n"
     ]
    }
   ],
   "source": [
    "print df.outlet.value_counts()\n",
    "outlets=pd.get_dummies(df.ou)"
   ]
  },
  {
   "cell_type": "code",
   "execution_count": 45,
   "metadata": {
    "collapsed": false
   },
   "outputs": [],
   "source": [
    "features = df[[\"week_number\", \"iri_key\", \"ou\", \"day_of_week\"]]\n",
    "target = df[[\"l2\"]]"
   ]
  },
  {
   "cell_type": "code",
   "execution_count": 46,
   "metadata": {
    "collapsed": false
   },
   "outputs": [
    {
     "data": {
      "text/html": [
       "<div>\n",
       "<table border=\"1\" class=\"dataframe\">\n",
       "  <thead>\n",
       "    <tr style=\"text-align: right;\">\n",
       "      <th></th>\n",
       "      <th>week_number</th>\n",
       "      <th>iri_key</th>\n",
       "      <th>ou_DK</th>\n",
       "      <th>ou_DR</th>\n",
       "      <th>ou_GK</th>\n",
       "      <th>ou_GR</th>\n",
       "      <th>ou_MK</th>\n",
       "    </tr>\n",
       "    <tr>\n",
       "      <th>panid</th>\n",
       "      <th></th>\n",
       "      <th></th>\n",
       "      <th></th>\n",
       "      <th></th>\n",
       "      <th></th>\n",
       "      <th></th>\n",
       "      <th></th>\n",
       "    </tr>\n",
       "  </thead>\n",
       "  <tbody>\n",
       "    <tr>\n",
       "      <th>1116608</th>\n",
       "      <td>25</td>\n",
       "      <td>642166</td>\n",
       "      <td>0</td>\n",
       "      <td>1</td>\n",
       "      <td>0</td>\n",
       "      <td>0</td>\n",
       "      <td>0</td>\n",
       "    </tr>\n",
       "    <tr>\n",
       "      <th>1408492</th>\n",
       "      <td>50</td>\n",
       "      <td>642166</td>\n",
       "      <td>0</td>\n",
       "      <td>1</td>\n",
       "      <td>0</td>\n",
       "      <td>0</td>\n",
       "      <td>0</td>\n",
       "    </tr>\n",
       "    <tr>\n",
       "      <th>1809632</th>\n",
       "      <td>2</td>\n",
       "      <td>642166</td>\n",
       "      <td>0</td>\n",
       "      <td>1</td>\n",
       "      <td>0</td>\n",
       "      <td>0</td>\n",
       "      <td>0</td>\n",
       "    </tr>\n",
       "    <tr>\n",
       "      <th>1809632</th>\n",
       "      <td>22</td>\n",
       "      <td>642166</td>\n",
       "      <td>0</td>\n",
       "      <td>1</td>\n",
       "      <td>0</td>\n",
       "      <td>0</td>\n",
       "      <td>0</td>\n",
       "    </tr>\n",
       "    <tr>\n",
       "      <th>1163584</th>\n",
       "      <td>33</td>\n",
       "      <td>642166</td>\n",
       "      <td>0</td>\n",
       "      <td>1</td>\n",
       "      <td>0</td>\n",
       "      <td>0</td>\n",
       "      <td>0</td>\n",
       "    </tr>\n",
       "  </tbody>\n",
       "</table>\n",
       "</div>"
      ],
      "text/plain": [
       "         week_number  iri_key  ou_DK  ou_DR  ou_GK  ou_GR  ou_MK\n",
       "panid                                                           \n",
       "1116608           25   642166      0      1      0      0      0\n",
       "1408492           50   642166      0      1      0      0      0\n",
       "1809632            2   642166      0      1      0      0      0\n",
       "1809632           22   642166      0      1      0      0      0\n",
       "1163584           33   642166      0      1      0      0      0"
      ]
     },
     "execution_count": 46,
     "metadata": {},
     "output_type": "execute_result"
    }
   ],
   "source": [
    "oh=pd.get_dummies(features[[\"ou\"]])\n",
    "\n",
    "features_2 = pd.concat([features[[\"week_number\", \"iri_key\"]], oh], axis=1)\n",
    "features_2.head()"
   ]
  },
  {
   "cell_type": "code",
   "execution_count": null,
   "metadata": {
    "collapsed": true
   },
   "outputs": [],
   "source": []
  },
  {
   "cell_type": "code",
   "execution_count": 47,
   "metadata": {
    "collapsed": false
   },
   "outputs": [],
   "source": [
    "scaled = scale(features_2)"
   ]
  },
  {
   "cell_type": "code",
   "execution_count": 48,
   "metadata": {
    "collapsed": false
   },
   "outputs": [
    {
     "name": "stdout",
     "output_type": "stream",
     "text": [
      "(345768, 7)\n"
     ]
    }
   ],
   "source": [
    "X_train, X_test, Y_train, Y_test = train_test_split(scaled, target, test_size=0.25, random_state=4)\n",
    "print (X_train.shape)"
   ]
  },
  {
   "cell_type": "markdown",
   "metadata": {},
   "source": [
    "so now I can predict what somebody will buy if they if they walk into "
   ]
  },
  {
   "cell_type": "code",
   "execution_count": 49,
   "metadata": {
    "collapsed": false
   },
   "outputs": [
    {
     "data": {
      "text/plain": [
       "0.42376601854984947"
      ]
     },
     "execution_count": 49,
     "metadata": {},
     "output_type": "execute_result"
    }
   ],
   "source": [
    "dtree = DecisionTreeClassifier()\n",
    "dtree.fit(X_train, Y_train)\n",
    "dtree.score(X_test, Y_test)"
   ]
  },
  {
   "cell_type": "code",
   "execution_count": 50,
   "metadata": {
    "collapsed": false
   },
   "outputs": [
    {
     "name": "stderr",
     "output_type": "stream",
     "text": [
      "/usr/local/lib/python2.7/site-packages/ipykernel/__main__.py:2: DataConversionWarning: A column-vector y was passed when a 1d array was expected. Please change the shape of y to (n_samples,), for example using ravel().\n",
      "  from ipykernel import kernelapp as app\n"
     ]
    },
    {
     "data": {
      "text/plain": [
       "0.42357514077236091"
      ]
     },
     "execution_count": 50,
     "metadata": {},
     "output_type": "execute_result"
    }
   ],
   "source": [
    "rf = RandomForestClassifier()\n",
    "rf.fit(X_train, Y_train)\n",
    "rf.score(X_test, Y_test)"
   ]
  },
  {
   "cell_type": "code",
   "execution_count": null,
   "metadata": {
    "collapsed": false
   },
   "outputs": [],
   "source": []
  },
  {
   "cell_type": "code",
   "execution_count": null,
   "metadata": {
    "collapsed": true
   },
   "outputs": [],
   "source": []
  }
 ],
 "metadata": {
  "kernelspec": {
   "display_name": "Python 2",
   "language": "python",
   "name": "python2"
  },
  "language_info": {
   "codemirror_mode": {
    "name": "ipython",
    "version": 2
   },
   "file_extension": ".py",
   "mimetype": "text/x-python",
   "name": "python",
   "nbconvert_exporter": "python",
   "pygments_lexer": "ipython2",
   "version": "2.7.11"
  }
 },
 "nbformat": 4,
 "nbformat_minor": 0
}
