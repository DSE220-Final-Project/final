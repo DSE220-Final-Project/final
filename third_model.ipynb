{
 "cells": [
  {
   "cell_type": "markdown",
   "metadata": {},
   "source": [
    "# Hypothesis\n",
    "\n",
    "Given a users past shopping activity, we can accurately predict future purchases.\n",
    "\n",
    "Initially, the model is based on:\n",
    "\n",
    "* part of day (morning, eventing, afternoon, night)\n",
    "* day (mon, tues...)\n",
    "* amount spent\n",
    "* market (Eua Claire, or Pittsville)\n",
    "* Type of store (drug or supermarket)\n",
    "* UPC (target, what product the user purchases)\n",
    "\n",
    "Moving foward we can introduce demographic information into our model to improve accuracy."
   ]
  },
  {
   "cell_type": "code",
   "execution_count": 200,
   "metadata": {
    "collapsed": false
   },
   "outputs": [
    {
     "name": "stdout",
     "output_type": "stream",
     "text": [
      "Populating the interactive namespace from numpy and matplotlib\n"
     ]
    },
    {
     "name": "stderr",
     "output_type": "stream",
     "text": [
      "WARNING: pylab import has clobbered these variables: ['prod', 'datetime']\n",
      "`%matplotlib` prevents importing * from pylab and numpy\n"
     ]
    }
   ],
   "source": [
    "from sklearn.tree import DecisionTreeClassifier, DecisionTreeRegressor\n",
    "from sklearn.ensemble import RandomForestClassifier, RandomForestRegressor, AdaBoostClassifier, BaggingClassifier\n",
    "from sklearn.cross_validation import train_test_split\n",
    "from sklearn.preprocessing import scale\n",
    "from sklearn import datasets\n",
    "import pandas as pd\n",
    "from sklearn import preprocessing, cross_validation\n",
    "from pandas.tools.plotting import scatter_matrix\n",
    "from sklearn import grid_search\n",
    "from sklearn import linear_model\n",
    "from sklearn.neighbors import KNeighborsClassifier\n",
    "from sklearn.tree import DecisionTreeRegressor, ExtraTreeRegressor, DecisionTreeClassifier, ExtraTreeClassifier\n",
    "from itertools import combinations\n",
    "from sklearn import decomposition\n",
    "from sklearn.metrics import mean_squared_error\n",
    "from collections import Counter\n",
    "\n",
    "%pylab inline\n",
    "pd.set_option('display.max_columns', 500)"
   ]
  },
  {
   "cell_type": "code",
   "execution_count": 40,
   "metadata": {
    "collapsed": true
   },
   "outputs": [],
   "source": [
    "dr_sampling_rate=0.3\n",
    "gr_sampling_rate=0.01"
   ]
  },
  {
   "cell_type": "code",
   "execution_count": 37,
   "metadata": {
    "collapsed": false
   },
   "outputs": [],
   "source": [
    "# local\n",
    "saltsnck_dr_8=pd.read_fwf('saltsnck_drug_1479_1530').sample(frac=dr_sampling_rate)\n",
    "saltsnck_dr_9=pd.read_fwf('saltsnck_drug_1531_1582').sample(frac=dr_sampling_rate)\n",
    "saltsnck_dr_10=pd.read_fwf('saltsnck_drug_1583_1634').sample(frac=dr_sampling_rate)\n",
    "saltsnck_dr_11=pd.read_fwf('saltsnck_drug_1635_1686').sample(frac=dr_sampling_rate)\n",
    "saltsnck_dr_8_11=pd.concat([saltsnck_dr_8,saltsnck_dr_9,saltsnck_dr_10,saltsnck_dr_11]).reset_index(drop=True)\n",
    "saltsnck_dr_8_11['OUTLET']='dr'"
   ]
  },
  {
   "cell_type": "code",
   "execution_count": null,
   "metadata": {
    "collapsed": false
   },
   "outputs": [],
   "source": [
    "saltsnck_gr_8=pd.read_fwf('saltsnck_groc_1479_1530').sample(frac=gr_sampling_rate)\n",
    "saltsnck_gr_9=pd.read_fwf('saltsnck_groc_1531_1582').sample(frac=gr_sampling_rate)\n",
    "saltsnck_gr_10=pd.read_fwf('saltsnck_groc_1583_1634').sample(frac=gr_sampling_rate)\n",
    "saltsnck_gr_11=pd.read_fwf('saltsnck_groc_1635_1686').sample(frac=gr_sampling_rate)\n",
    "saltsnck_gr_8_11=pd.concat([saltsnck_gr_8,saltsnck_gr_9,saltsnck_gr_10,saltsnck_gr_11]).reset_index(drop=True)\n",
    "saltsnck_gr_8_11['OUTLET']='gr'"
   ]
  },
  {
   "cell_type": "code",
   "execution_count": 160,
   "metadata": {
    "collapsed": false,
    "scrolled": true
   },
   "outputs": [
    {
     "data": {
      "text/html": [
       "<div>\n",
       "<table border=\"1\" class=\"dataframe\">\n",
       "  <thead>\n",
       "    <tr style=\"text-align: right;\">\n",
       "      <th></th>\n",
       "      <th>IRI_KEY</th>\n",
       "      <th>WEEK</th>\n",
       "      <th>SY</th>\n",
       "      <th>GE</th>\n",
       "      <th>VEND</th>\n",
       "      <th>ITEM</th>\n",
       "      <th>UNITS</th>\n",
       "      <th>DOLLARS</th>\n",
       "      <th>F</th>\n",
       "      <th>D</th>\n",
       "      <th>PR</th>\n",
       "      <th>OUTLET</th>\n",
       "    </tr>\n",
       "  </thead>\n",
       "  <tbody>\n",
       "    <tr>\n",
       "      <th>0</th>\n",
       "      <td>1131996</td>\n",
       "      <td>1489</td>\n",
       "      <td>0</td>\n",
       "      <td>1</td>\n",
       "      <td>28400</td>\n",
       "      <td>6450</td>\n",
       "      <td>13</td>\n",
       "      <td>12.87</td>\n",
       "      <td>NONE</td>\n",
       "      <td>1</td>\n",
       "      <td>1</td>\n",
       "      <td>dr</td>\n",
       "    </tr>\n",
       "    <tr>\n",
       "      <th>1</th>\n",
       "      <td>8042848</td>\n",
       "      <td>1496</td>\n",
       "      <td>0</td>\n",
       "      <td>1</td>\n",
       "      <td>37000</td>\n",
       "      <td>37705</td>\n",
       "      <td>2</td>\n",
       "      <td>2.98</td>\n",
       "      <td>NONE</td>\n",
       "      <td>2</td>\n",
       "      <td>1</td>\n",
       "      <td>dr</td>\n",
       "    </tr>\n",
       "    <tr>\n",
       "      <th>2</th>\n",
       "      <td>8041943</td>\n",
       "      <td>1527</td>\n",
       "      <td>0</td>\n",
       "      <td>1</td>\n",
       "      <td>28400</td>\n",
       "      <td>6461</td>\n",
       "      <td>6</td>\n",
       "      <td>17.94</td>\n",
       "      <td>B</td>\n",
       "      <td>2</td>\n",
       "      <td>1</td>\n",
       "      <td>dr</td>\n",
       "    </tr>\n",
       "    <tr>\n",
       "      <th>3</th>\n",
       "      <td>8029617</td>\n",
       "      <td>1498</td>\n",
       "      <td>0</td>\n",
       "      <td>2</td>\n",
       "      <td>74690</td>\n",
       "      <td>5539</td>\n",
       "      <td>2</td>\n",
       "      <td>4.98</td>\n",
       "      <td>NONE</td>\n",
       "      <td>0</td>\n",
       "      <td>0</td>\n",
       "      <td>dr</td>\n",
       "    </tr>\n",
       "    <tr>\n",
       "      <th>4</th>\n",
       "      <td>8004916</td>\n",
       "      <td>1502</td>\n",
       "      <td>0</td>\n",
       "      <td>1</td>\n",
       "      <td>28400</td>\n",
       "      <td>6497</td>\n",
       "      <td>5</td>\n",
       "      <td>4.95</td>\n",
       "      <td>NONE</td>\n",
       "      <td>0</td>\n",
       "      <td>0</td>\n",
       "      <td>dr</td>\n",
       "    </tr>\n",
       "  </tbody>\n",
       "</table>\n",
       "</div>"
      ],
      "text/plain": [
       "   IRI_KEY  WEEK  SY  GE   VEND   ITEM  UNITS  DOLLARS     F  D  PR OUTLET\n",
       "0  1131996  1489   0   1  28400   6450     13    12.87  NONE  1   1     dr\n",
       "1  8042848  1496   0   1  37000  37705      2     2.98  NONE  2   1     dr\n",
       "2  8041943  1527   0   1  28400   6461      6    17.94     B  2   1     dr\n",
       "3  8029617  1498   0   2  74690   5539      2     4.98  NONE  0   0     dr\n",
       "4  8004916  1502   0   1  28400   6497      5     4.95  NONE  0   0     dr"
      ]
     },
     "execution_count": 160,
     "metadata": {},
     "output_type": "execute_result"
    }
   ],
   "source": [
    "saltsnck_8_11=pd.concat([saltsnck_dr_8_11,saltsnck_gr_8_11])\n",
    "saltsnck_8_11.head()"
   ]
  },
  {
   "cell_type": "code",
   "execution_count": 148,
   "metadata": {
    "collapsed": false
   },
   "outputs": [
    {
     "data": {
      "text/plain": [
       "(2042040, 12)"
      ]
     },
     "execution_count": 148,
     "metadata": {},
     "output_type": "execute_result"
    }
   ],
   "source": [
    "saltsnck_8_11.shape"
   ]
  },
  {
   "cell_type": "code",
   "execution_count": 165,
   "metadata": {
    "collapsed": true
   },
   "outputs": [],
   "source": [
    "# explicit mapping of F feature to reflect the ad size/importance\n",
    "saltsnck_8_11.ix[saltsnck_8_11.F=='NONE', 'F'] = 1\n",
    "saltsnck_8_11.ix[saltsnck_8_11.F=='C', 'F'] = 2\n",
    "saltsnck_8_11.ix[saltsnck_8_11.F=='B', 'F'] = 3\n",
    "saltsnck_8_11.ix[saltsnck_8_11.F=='A', 'F'] = 4\n",
    "saltsnck_8_11.ix[saltsnck_8_11.F=='A+', 'F'] = 5"
   ]
  },
  {
   "cell_type": "code",
   "execution_count": 44,
   "metadata": {
    "collapsed": false
   },
   "outputs": [
    {
     "data": {
      "text/html": [
       "<div>\n",
       "<table border=\"1\" class=\"dataframe\">\n",
       "  <thead>\n",
       "    <tr style=\"text-align: right;\">\n",
       "      <th></th>\n",
       "      <th>SY</th>\n",
       "      <th>GE</th>\n",
       "      <th>VEND</th>\n",
       "      <th>ITEM</th>\n",
       "      <th>L2</th>\n",
       "    </tr>\n",
       "  </thead>\n",
       "  <tbody>\n",
       "    <tr>\n",
       "      <th>0</th>\n",
       "      <td>0</td>\n",
       "      <td>1</td>\n",
       "      <td>72556</td>\n",
       "      <td>50003</td>\n",
       "      <td>POTATO CHIPS</td>\n",
       "    </tr>\n",
       "  </tbody>\n",
       "</table>\n",
       "</div>"
      ],
      "text/plain": [
       "   SY  GE   VEND   ITEM            L2\n",
       "0   0   1  72556  50003  POTATO CHIPS"
      ]
     },
     "execution_count": 44,
     "metadata": {},
     "output_type": "execute_result"
    }
   ],
   "source": [
    "prod = pd.read_excel('prod11_saltsnck.xlsx')[['SY','GE','VEND','ITEM','L2']]\n",
    "prod.head(1)"
   ]
  },
  {
   "cell_type": "code",
   "execution_count": 166,
   "metadata": {
    "collapsed": false
   },
   "outputs": [
    {
     "data": {
      "text/html": [
       "<div>\n",
       "<table border=\"1\" class=\"dataframe\">\n",
       "  <thead>\n",
       "    <tr style=\"text-align: right;\">\n",
       "      <th></th>\n",
       "      <th>IRI_KEY</th>\n",
       "      <th>WEEK</th>\n",
       "      <th>UNITS</th>\n",
       "      <th>DOLLARS</th>\n",
       "      <th>F</th>\n",
       "      <th>D</th>\n",
       "      <th>PR</th>\n",
       "      <th>OUTLET</th>\n",
       "      <th>L2</th>\n",
       "    </tr>\n",
       "  </thead>\n",
       "  <tbody>\n",
       "    <tr>\n",
       "      <th>0</th>\n",
       "      <td>1131996</td>\n",
       "      <td>1489</td>\n",
       "      <td>13</td>\n",
       "      <td>12.87</td>\n",
       "      <td>1</td>\n",
       "      <td>1</td>\n",
       "      <td>1</td>\n",
       "      <td>dr</td>\n",
       "      <td>TORTILLA/TOSTADA CHIPS</td>\n",
       "    </tr>\n",
       "    <tr>\n",
       "      <th>1</th>\n",
       "      <td>8026464</td>\n",
       "      <td>1519</td>\n",
       "      <td>6</td>\n",
       "      <td>5.94</td>\n",
       "      <td>1</td>\n",
       "      <td>1</td>\n",
       "      <td>0</td>\n",
       "      <td>dr</td>\n",
       "      <td>TORTILLA/TOSTADA CHIPS</td>\n",
       "    </tr>\n",
       "    <tr>\n",
       "      <th>2</th>\n",
       "      <td>643033</td>\n",
       "      <td>1517</td>\n",
       "      <td>1</td>\n",
       "      <td>0.86</td>\n",
       "      <td>1</td>\n",
       "      <td>0</td>\n",
       "      <td>1</td>\n",
       "      <td>dr</td>\n",
       "      <td>TORTILLA/TOSTADA CHIPS</td>\n",
       "    </tr>\n",
       "    <tr>\n",
       "      <th>3</th>\n",
       "      <td>1108960</td>\n",
       "      <td>1483</td>\n",
       "      <td>7</td>\n",
       "      <td>6.93</td>\n",
       "      <td>1</td>\n",
       "      <td>0</td>\n",
       "      <td>0</td>\n",
       "      <td>dr</td>\n",
       "      <td>TORTILLA/TOSTADA CHIPS</td>\n",
       "    </tr>\n",
       "    <tr>\n",
       "      <th>4</th>\n",
       "      <td>8013058</td>\n",
       "      <td>1494</td>\n",
       "      <td>1</td>\n",
       "      <td>0.99</td>\n",
       "      <td>1</td>\n",
       "      <td>0</td>\n",
       "      <td>0</td>\n",
       "      <td>dr</td>\n",
       "      <td>TORTILLA/TOSTADA CHIPS</td>\n",
       "    </tr>\n",
       "  </tbody>\n",
       "</table>\n",
       "</div>"
      ],
      "text/plain": [
       "   IRI_KEY  WEEK  UNITS  DOLLARS  F  D  PR OUTLET                      L2\n",
       "0  1131996  1489     13    12.87  1  1   1     dr  TORTILLA/TOSTADA CHIPS\n",
       "1  8026464  1519      6     5.94  1  1   0     dr  TORTILLA/TOSTADA CHIPS\n",
       "2   643033  1517      1     0.86  1  0   1     dr  TORTILLA/TOSTADA CHIPS\n",
       "3  1108960  1483      7     6.93  1  0   0     dr  TORTILLA/TOSTADA CHIPS\n",
       "4  8013058  1494      1     0.99  1  0   0     dr  TORTILLA/TOSTADA CHIPS"
      ]
     },
     "execution_count": 166,
     "metadata": {},
     "output_type": "execute_result"
    }
   ],
   "source": [
    "saltsnck_prod_8_11 = pd.merge(saltsnck_8_11, prod, on=['SY', 'GE','VEND','ITEM'])\n",
    "saltsnck_prod_8_11.drop(['SY', 'GE','VEND','ITEM'],axis=1, inplace=True)\n",
    "saltsnck_prod_8_11.head()"
   ]
  },
  {
   "cell_type": "code",
   "execution_count": 46,
   "metadata": {
    "collapsed": false
   },
   "outputs": [
    {
     "name": "stdout",
     "output_type": "stream",
     "text": [
      "week_season_translation.shape = (522, 4)\n"
     ]
    },
    {
     "data": {
      "text/html": [
       "<div>\n",
       "<table border=\"1\" class=\"dataframe\">\n",
       "  <thead>\n",
       "    <tr style=\"text-align: right;\">\n",
       "      <th></th>\n",
       "      <th>WEEK</th>\n",
       "      <th>season</th>\n",
       "      <th>YEAR</th>\n",
       "      <th>MONTH</th>\n",
       "    </tr>\n",
       "  </thead>\n",
       "  <tbody>\n",
       "    <tr>\n",
       "      <th>0</th>\n",
       "      <td>1479</td>\n",
       "      <td>winter</td>\n",
       "      <td>2007</td>\n",
       "      <td>12</td>\n",
       "    </tr>\n",
       "    <tr>\n",
       "      <th>1</th>\n",
       "      <td>1480</td>\n",
       "      <td>winter</td>\n",
       "      <td>2008</td>\n",
       "      <td>1</td>\n",
       "    </tr>\n",
       "    <tr>\n",
       "      <th>2</th>\n",
       "      <td>1481</td>\n",
       "      <td>winter</td>\n",
       "      <td>2008</td>\n",
       "      <td>1</td>\n",
       "    </tr>\n",
       "    <tr>\n",
       "      <th>3</th>\n",
       "      <td>1482</td>\n",
       "      <td>winter</td>\n",
       "      <td>2008</td>\n",
       "      <td>1</td>\n",
       "    </tr>\n",
       "    <tr>\n",
       "      <th>4</th>\n",
       "      <td>1483</td>\n",
       "      <td>winter</td>\n",
       "      <td>2008</td>\n",
       "      <td>1</td>\n",
       "    </tr>\n",
       "  </tbody>\n",
       "</table>\n",
       "</div>"
      ],
      "text/plain": [
       "   WEEK  season  YEAR  MONTH\n",
       "0  1479  winter  2007     12\n",
       "1  1480  winter  2008      1\n",
       "2  1481  winter  2008      1\n",
       "3  1482  winter  2008      1\n",
       "4  1483  winter  2008      1"
      ]
     },
     "execution_count": 46,
     "metadata": {},
     "output_type": "execute_result"
    }
   ],
   "source": [
    "from datetime import date, datetime\n",
    "week_season_translation=pd.read_excel('IRI week translation_2008_2017.xls')\n",
    "week_season_translation = week_season_translation[\\\n",
    "    ['IRI Week', u'Calendar week starting on',u'Calendar week ending on']]\n",
    "\n",
    "# if the date falls between March 21 and June 20, it is spring. Regardless of the year. \n",
    "Y = 2000 # dummy leap year to allow input X-02-29 (leap day)\n",
    "seasons = [('winter', (date(Y,  1,  1),  date(Y,  3, 20))),\n",
    "           ('spring', (date(Y,  3, 21),  date(Y,  6, 20))),\n",
    "           ('summer', (date(Y,  6, 21),  date(Y,  9, 22))),\n",
    "           ('fall', (date(Y,  9, 23),  date(Y, 12, 20))),\n",
    "           ('winter', (date(Y, 12, 21),  date(Y, 12, 31)))]\n",
    "    \n",
    "def get_season(rawDate):\n",
    "    aDate = rawDate\n",
    "    #datetime.strptime(rawDate, '%Y-%m-%d')\n",
    "    if isinstance(aDate, datetime):\n",
    "        aDate = aDate.date()\n",
    "    aDate = aDate.replace(year=Y)\n",
    "    \n",
    "    return next(season for season, (start, end) in seasons\n",
    "                if start <= aDate <= end)\n",
    "\n",
    "week_season_translation['season'] = week_season_translation['Calendar week starting on']\n",
    "week_season_translation['season'] = week_season_translation['season'].apply(get_season)\n",
    "print \"week_season_translation.shape =\", week_season_translation.shape\n",
    "week_season_translation.rename(columns={'IRI Week':'WEEK'}, inplace=True)\n",
    "week_season_translation['YEAR']=week_season_translation['Calendar week starting on'].apply(lambda x:x.year)\n",
    "week_season_translation['MONTH']=week_season_translation['Calendar week starting on'].apply(lambda x:x.month)\n",
    "week_season_translation.drop(['Calendar week starting on','Calendar week ending on'], axis=1, inplace=True)\n",
    "week_season_translation.head()"
   ]
  },
  {
   "cell_type": "code",
   "execution_count": 167,
   "metadata": {
    "collapsed": false
   },
   "outputs": [
    {
     "data": {
      "text/html": [
       "<div>\n",
       "<table border=\"1\" class=\"dataframe\">\n",
       "  <thead>\n",
       "    <tr style=\"text-align: right;\">\n",
       "      <th></th>\n",
       "      <th>IRI_KEY</th>\n",
       "      <th>WEEK</th>\n",
       "      <th>UNITS</th>\n",
       "      <th>DOLLARS</th>\n",
       "      <th>F</th>\n",
       "      <th>D</th>\n",
       "      <th>PR</th>\n",
       "      <th>OUTLET</th>\n",
       "      <th>L2</th>\n",
       "      <th>season</th>\n",
       "      <th>YEAR</th>\n",
       "      <th>MONTH</th>\n",
       "    </tr>\n",
       "  </thead>\n",
       "  <tbody>\n",
       "    <tr>\n",
       "      <th>0</th>\n",
       "      <td>1131996</td>\n",
       "      <td>1489</td>\n",
       "      <td>13</td>\n",
       "      <td>12.87</td>\n",
       "      <td>1</td>\n",
       "      <td>1</td>\n",
       "      <td>1</td>\n",
       "      <td>dr</td>\n",
       "      <td>TORTILLA/TOSTADA CHIPS</td>\n",
       "      <td>winter</td>\n",
       "      <td>2008</td>\n",
       "      <td>3</td>\n",
       "    </tr>\n",
       "    <tr>\n",
       "      <th>1</th>\n",
       "      <td>8026909</td>\n",
       "      <td>1489</td>\n",
       "      <td>5</td>\n",
       "      <td>4.95</td>\n",
       "      <td>1</td>\n",
       "      <td>1</td>\n",
       "      <td>0</td>\n",
       "      <td>dr</td>\n",
       "      <td>TORTILLA/TOSTADA CHIPS</td>\n",
       "      <td>winter</td>\n",
       "      <td>2008</td>\n",
       "      <td>3</td>\n",
       "    </tr>\n",
       "    <tr>\n",
       "      <th>2</th>\n",
       "      <td>8004374</td>\n",
       "      <td>1489</td>\n",
       "      <td>7</td>\n",
       "      <td>6.93</td>\n",
       "      <td>1</td>\n",
       "      <td>0</td>\n",
       "      <td>0</td>\n",
       "      <td>dr</td>\n",
       "      <td>TORTILLA/TOSTADA CHIPS</td>\n",
       "      <td>winter</td>\n",
       "      <td>2008</td>\n",
       "      <td>3</td>\n",
       "    </tr>\n",
       "    <tr>\n",
       "      <th>3</th>\n",
       "      <td>681547</td>\n",
       "      <td>1489</td>\n",
       "      <td>4</td>\n",
       "      <td>3.96</td>\n",
       "      <td>1</td>\n",
       "      <td>0</td>\n",
       "      <td>0</td>\n",
       "      <td>dr</td>\n",
       "      <td>TORTILLA/TOSTADA CHIPS</td>\n",
       "      <td>winter</td>\n",
       "      <td>2008</td>\n",
       "      <td>3</td>\n",
       "    </tr>\n",
       "    <tr>\n",
       "      <th>4</th>\n",
       "      <td>932621</td>\n",
       "      <td>1489</td>\n",
       "      <td>2</td>\n",
       "      <td>1.98</td>\n",
       "      <td>1</td>\n",
       "      <td>2</td>\n",
       "      <td>0</td>\n",
       "      <td>dr</td>\n",
       "      <td>TORTILLA/TOSTADA CHIPS</td>\n",
       "      <td>winter</td>\n",
       "      <td>2008</td>\n",
       "      <td>3</td>\n",
       "    </tr>\n",
       "  </tbody>\n",
       "</table>\n",
       "</div>"
      ],
      "text/plain": [
       "   IRI_KEY  WEEK  UNITS  DOLLARS  F  D  PR OUTLET                      L2  \\\n",
       "0  1131996  1489     13    12.87  1  1   1     dr  TORTILLA/TOSTADA CHIPS   \n",
       "1  8026909  1489      5     4.95  1  1   0     dr  TORTILLA/TOSTADA CHIPS   \n",
       "2  8004374  1489      7     6.93  1  0   0     dr  TORTILLA/TOSTADA CHIPS   \n",
       "3   681547  1489      4     3.96  1  0   0     dr  TORTILLA/TOSTADA CHIPS   \n",
       "4   932621  1489      2     1.98  1  2   0     dr  TORTILLA/TOSTADA CHIPS   \n",
       "\n",
       "   season  YEAR  MONTH  \n",
       "0  winter  2008      3  \n",
       "1  winter  2008      3  \n",
       "2  winter  2008      3  \n",
       "3  winter  2008      3  \n",
       "4  winter  2008      3  "
      ]
     },
     "execution_count": 167,
     "metadata": {},
     "output_type": "execute_result"
    }
   ],
   "source": [
    "saltsnck_final=pd.merge(saltsnck_prod_8_11,week_season_translation,on='WEEK')\n",
    "saltsnck_final.head()"
   ]
  },
  {
   "cell_type": "markdown",
   "metadata": {},
   "source": [
    "# Data Cleaning"
   ]
  },
  {
   "cell_type": "markdown",
   "metadata": {},
   "source": [
    "## Handling NaNs"
   ]
  },
  {
   "cell_type": "code",
   "execution_count": 48,
   "metadata": {
    "collapsed": false
   },
   "outputs": [
    {
     "data": {
      "text/plain": [
       "IRI_KEY    0\n",
       "WEEK       0\n",
       "UNITS      0\n",
       "DOLLARS    0\n",
       "F          0\n",
       "D          0\n",
       "PR         0\n",
       "OUTLET     0\n",
       "L2         0\n",
       "season     0\n",
       "YEAR       0\n",
       "MONTH      0\n",
       "dtype: int64"
      ]
     },
     "execution_count": 48,
     "metadata": {},
     "output_type": "execute_result"
    }
   ],
   "source": [
    "# looking at the number of NaNs for each column #\n",
    "saltsnck_final.isnull().sum()"
   ]
  },
  {
   "cell_type": "code",
   "execution_count": 49,
   "metadata": {
    "collapsed": true
   },
   "outputs": [],
   "source": [
    "def data_prep (data):\n",
    "    # determining the non-numeric columns and transforming them into numeric using LabelEncoder() method\n",
    "    real_or_str=data.applymap(np.isreal).all(0)\n",
    "    non_num_feature=real_or_str[~real_or_str].keys()\n",
    "    print \"Non-numeric features are: \", non_num_feature\n",
    "    le = preprocessing.LabelEncoder()\n",
    "    for col in non_num_feature:\n",
    "        #fill the NaN in non-numeric columns with the most used element#\n",
    "        data.ix[:,col]=data.ix[:,col].fillna(data[col].describe().top)\n",
    "        #transform the non-numeric columns to numeric values using \n",
    "        #LabelEncoder method from SKLearn#\n",
    "        data.ix[:,col]=le.fit_transform(data.ix[:,col])\n",
    "    #Filling in NaN values of numeric features with the mean value of the feature\n",
    "    data=data.fillna(data.mean())\n",
    "    return data"
   ]
  },
  {
   "cell_type": "code",
   "execution_count": 168,
   "metadata": {
    "collapsed": false
   },
   "outputs": [
    {
     "name": "stdout",
     "output_type": "stream",
     "text": [
      "Non-numeric features are:  Index([u'OUTLET', u'L2', u'season'], dtype='object')\n"
     ]
    },
    {
     "data": {
      "text/html": [
       "<div>\n",
       "<table border=\"1\" class=\"dataframe\">\n",
       "  <thead>\n",
       "    <tr style=\"text-align: right;\">\n",
       "      <th></th>\n",
       "      <th>IRI_KEY</th>\n",
       "      <th>WEEK</th>\n",
       "      <th>UNITS</th>\n",
       "      <th>DOLLARS</th>\n",
       "      <th>F</th>\n",
       "      <th>D</th>\n",
       "      <th>PR</th>\n",
       "      <th>OUTLET</th>\n",
       "      <th>L2</th>\n",
       "      <th>season</th>\n",
       "      <th>YEAR</th>\n",
       "      <th>MONTH</th>\n",
       "    </tr>\n",
       "  </thead>\n",
       "  <tbody>\n",
       "    <tr>\n",
       "      <th>0</th>\n",
       "      <td>1131996</td>\n",
       "      <td>1489</td>\n",
       "      <td>13</td>\n",
       "      <td>12.87</td>\n",
       "      <td>1</td>\n",
       "      <td>1</td>\n",
       "      <td>1</td>\n",
       "      <td>0</td>\n",
       "      <td>7</td>\n",
       "      <td>3</td>\n",
       "      <td>2008</td>\n",
       "      <td>3</td>\n",
       "    </tr>\n",
       "    <tr>\n",
       "      <th>1</th>\n",
       "      <td>8026909</td>\n",
       "      <td>1489</td>\n",
       "      <td>5</td>\n",
       "      <td>4.95</td>\n",
       "      <td>1</td>\n",
       "      <td>1</td>\n",
       "      <td>0</td>\n",
       "      <td>0</td>\n",
       "      <td>7</td>\n",
       "      <td>3</td>\n",
       "      <td>2008</td>\n",
       "      <td>3</td>\n",
       "    </tr>\n",
       "    <tr>\n",
       "      <th>2</th>\n",
       "      <td>8004374</td>\n",
       "      <td>1489</td>\n",
       "      <td>7</td>\n",
       "      <td>6.93</td>\n",
       "      <td>1</td>\n",
       "      <td>0</td>\n",
       "      <td>0</td>\n",
       "      <td>0</td>\n",
       "      <td>7</td>\n",
       "      <td>3</td>\n",
       "      <td>2008</td>\n",
       "      <td>3</td>\n",
       "    </tr>\n",
       "    <tr>\n",
       "      <th>3</th>\n",
       "      <td>681547</td>\n",
       "      <td>1489</td>\n",
       "      <td>4</td>\n",
       "      <td>3.96</td>\n",
       "      <td>1</td>\n",
       "      <td>0</td>\n",
       "      <td>0</td>\n",
       "      <td>0</td>\n",
       "      <td>7</td>\n",
       "      <td>3</td>\n",
       "      <td>2008</td>\n",
       "      <td>3</td>\n",
       "    </tr>\n",
       "    <tr>\n",
       "      <th>4</th>\n",
       "      <td>932621</td>\n",
       "      <td>1489</td>\n",
       "      <td>2</td>\n",
       "      <td>1.98</td>\n",
       "      <td>1</td>\n",
       "      <td>2</td>\n",
       "      <td>0</td>\n",
       "      <td>0</td>\n",
       "      <td>7</td>\n",
       "      <td>3</td>\n",
       "      <td>2008</td>\n",
       "      <td>3</td>\n",
       "    </tr>\n",
       "  </tbody>\n",
       "</table>\n",
       "</div>"
      ],
      "text/plain": [
       "   IRI_KEY  WEEK  UNITS  DOLLARS  F  D  PR  OUTLET  L2  season  YEAR  MONTH\n",
       "0  1131996  1489     13    12.87  1  1   1       0   7       3  2008      3\n",
       "1  8026909  1489      5     4.95  1  1   0       0   7       3  2008      3\n",
       "2  8004374  1489      7     6.93  1  0   0       0   7       3  2008      3\n",
       "3   681547  1489      4     3.96  1  0   0       0   7       3  2008      3\n",
       "4   932621  1489      2     1.98  1  2   0       0   7       3  2008      3"
      ]
     },
     "execution_count": 168,
     "metadata": {},
     "output_type": "execute_result"
    }
   ],
   "source": [
    "saltsnck_preped=data_prep(saltsnck_final)\n",
    "saltsnck_preped.head()"
   ]
  },
  {
   "cell_type": "code",
   "execution_count": 206,
   "metadata": {
    "collapsed": false
   },
   "outputs": [
    {
     "data": {
      "text/html": [
       "<div>\n",
       "<table border=\"1\" class=\"dataframe\">\n",
       "  <thead>\n",
       "    <tr style=\"text-align: right;\">\n",
       "      <th></th>\n",
       "      <th>PR</th>\n",
       "      <th>D</th>\n",
       "      <th>F</th>\n",
       "      <th>DOLLARS</th>\n",
       "      <th>L2</th>\n",
       "      <th>UNITS</th>\n",
       "    </tr>\n",
       "  </thead>\n",
       "  <tbody>\n",
       "    <tr>\n",
       "      <th>0</th>\n",
       "      <td>272</td>\n",
       "      <td>87</td>\n",
       "      <td>1422</td>\n",
       "      <td>5657.49</td>\n",
       "      <td>4</td>\n",
       "      <td>4017</td>\n",
       "    </tr>\n",
       "    <tr>\n",
       "      <th>1</th>\n",
       "      <td>297</td>\n",
       "      <td>249</td>\n",
       "      <td>1646</td>\n",
       "      <td>7526.94</td>\n",
       "      <td>4</td>\n",
       "      <td>4781</td>\n",
       "    </tr>\n",
       "    <tr>\n",
       "      <th>2</th>\n",
       "      <td>378</td>\n",
       "      <td>110</td>\n",
       "      <td>1818</td>\n",
       "      <td>7770.60</td>\n",
       "      <td>4</td>\n",
       "      <td>5319</td>\n",
       "    </tr>\n",
       "    <tr>\n",
       "      <th>3</th>\n",
       "      <td>402</td>\n",
       "      <td>198</td>\n",
       "      <td>1894</td>\n",
       "      <td>8529.51</td>\n",
       "      <td>4</td>\n",
       "      <td>5058</td>\n",
       "    </tr>\n",
       "    <tr>\n",
       "      <th>4</th>\n",
       "      <td>6</td>\n",
       "      <td>0</td>\n",
       "      <td>17</td>\n",
       "      <td>99.82</td>\n",
       "      <td>4</td>\n",
       "      <td>49</td>\n",
       "    </tr>\n",
       "  </tbody>\n",
       "</table>\n",
       "</div>"
      ],
      "text/plain": [
       "    PR    D     F  DOLLARS  L2  UNITS\n",
       "0  272   87  1422  5657.49   4   4017\n",
       "1  297  249  1646  7526.94   4   4781\n",
       "2  378  110  1818  7770.60   4   5319\n",
       "3  402  198  1894  8529.51   4   5058\n",
       "4    6    0    17    99.82   4     49"
      ]
     },
     "execution_count": 206,
     "metadata": {},
     "output_type": "execute_result"
    }
   ],
   "source": [
    "saltsnck_preped_grp=saltsnck_preped.groupby(['IRI_KEY','YEAR']).agg({'L2': lambda x:Counter(x).most_common()[0][0],\\\n",
    "                                                    'F':'sum', 'D':'sum', 'PR':'sum', 'UNITS':'sum','DOLLARS':'sum'}).reset_index(drop=True)\n",
    "saltsnck_preped_grp.head(5)"
   ]
  },
  {
   "cell_type": "code",
   "execution_count": 207,
   "metadata": {
    "collapsed": false,
    "scrolled": true
   },
   "outputs": [
    {
     "data": {
      "text/html": [
       "<div>\n",
       "<table border=\"1\" class=\"dataframe\">\n",
       "  <thead>\n",
       "    <tr style=\"text-align: right;\">\n",
       "      <th></th>\n",
       "      <th>PR</th>\n",
       "      <th>D</th>\n",
       "      <th>F</th>\n",
       "      <th>DOLLARS</th>\n",
       "      <th>L2</th>\n",
       "      <th>UNITS</th>\n",
       "    </tr>\n",
       "  </thead>\n",
       "  <tbody>\n",
       "    <tr>\n",
       "      <th>count</th>\n",
       "      <td>2436.000000</td>\n",
       "      <td>2436.000000</td>\n",
       "      <td>2436.000000</td>\n",
       "      <td>2436.000000</td>\n",
       "      <td>2436.000000</td>\n",
       "      <td>2436.000000</td>\n",
       "    </tr>\n",
       "    <tr>\n",
       "      <th>mean</th>\n",
       "      <td>232.357143</td>\n",
       "      <td>290.993842</td>\n",
       "      <td>1051.940066</td>\n",
       "      <td>5472.646478</td>\n",
       "      <td>3.972085</td>\n",
       "      <td>3300.191708</td>\n",
       "    </tr>\n",
       "    <tr>\n",
       "      <th>std</th>\n",
       "      <td>174.799432</td>\n",
       "      <td>269.176343</td>\n",
       "      <td>763.192967</td>\n",
       "      <td>6236.085706</td>\n",
       "      <td>0.621352</td>\n",
       "      <td>3760.482251</td>\n",
       "    </tr>\n",
       "    <tr>\n",
       "      <th>min</th>\n",
       "      <td>0.000000</td>\n",
       "      <td>0.000000</td>\n",
       "      <td>1.000000</td>\n",
       "      <td>0.500000</td>\n",
       "      <td>0.000000</td>\n",
       "      <td>1.000000</td>\n",
       "    </tr>\n",
       "    <tr>\n",
       "      <th>25%</th>\n",
       "      <td>36.750000</td>\n",
       "      <td>29.750000</td>\n",
       "      <td>174.000000</td>\n",
       "      <td>567.777500</td>\n",
       "      <td>4.000000</td>\n",
       "      <td>367.750000</td>\n",
       "    </tr>\n",
       "    <tr>\n",
       "      <th>50%</th>\n",
       "      <td>230.000000</td>\n",
       "      <td>237.000000</td>\n",
       "      <td>1142.000000</td>\n",
       "      <td>4098.465000</td>\n",
       "      <td>4.000000</td>\n",
       "      <td>2395.500000</td>\n",
       "    </tr>\n",
       "    <tr>\n",
       "      <th>75%</th>\n",
       "      <td>368.000000</td>\n",
       "      <td>462.000000</td>\n",
       "      <td>1600.250000</td>\n",
       "      <td>7874.820000</td>\n",
       "      <td>4.000000</td>\n",
       "      <td>4730.250000</td>\n",
       "    </tr>\n",
       "    <tr>\n",
       "      <th>max</th>\n",
       "      <td>983.000000</td>\n",
       "      <td>1578.000000</td>\n",
       "      <td>3608.000000</td>\n",
       "      <td>59545.440000</td>\n",
       "      <td>7.000000</td>\n",
       "      <td>30895.000000</td>\n",
       "    </tr>\n",
       "  </tbody>\n",
       "</table>\n",
       "</div>"
      ],
      "text/plain": [
       "                PR            D            F       DOLLARS           L2  \\\n",
       "count  2436.000000  2436.000000  2436.000000   2436.000000  2436.000000   \n",
       "mean    232.357143   290.993842  1051.940066   5472.646478     3.972085   \n",
       "std     174.799432   269.176343   763.192967   6236.085706     0.621352   \n",
       "min       0.000000     0.000000     1.000000      0.500000     0.000000   \n",
       "25%      36.750000    29.750000   174.000000    567.777500     4.000000   \n",
       "50%     230.000000   237.000000  1142.000000   4098.465000     4.000000   \n",
       "75%     368.000000   462.000000  1600.250000   7874.820000     4.000000   \n",
       "max     983.000000  1578.000000  3608.000000  59545.440000     7.000000   \n",
       "\n",
       "              UNITS  \n",
       "count   2436.000000  \n",
       "mean    3300.191708  \n",
       "std     3760.482251  \n",
       "min        1.000000  \n",
       "25%      367.750000  \n",
       "50%     2395.500000  \n",
       "75%     4730.250000  \n",
       "max    30895.000000  "
      ]
     },
     "execution_count": 207,
     "metadata": {},
     "output_type": "execute_result"
    },
    {
     "data": {
      "image/png": "[encoded data removed]",
      "text/plain": [
       "<matplotlib.figure.Figure at 0x2a2bb0128>"
      ]
     },
     "metadata": {},
     "output_type": "display_data"
    }
   ],
   "source": [
    "# looking at the histogram and statistics of the features to be able to omit features with not enough data #\n",
    "saltsnck_preped_grp.hist(figsize=(20,50), layout=(15,5))\n",
    "saltsnck_preped_grp.describe()"
   ]
  },
  {
   "cell_type": "markdown",
   "metadata": {},
   "source": [
    "# Outlier Detection and Removal\n",
    "\n",
    "**We assume that all features have Gaussian distribution and detect outliers based on the following rule:**\n",
    "\n",
    "Detect a column with extreme outlier if $max (col)> mean(col)+10*\\sigma $ "
   ]
  },
  {
   "cell_type": "code",
   "execution_count": 132,
   "metadata": {
    "collapsed": false
   },
   "outputs": [],
   "source": [
    "def outlier_detector(data):\n",
    "    out_col=[]\n",
    "    data=data.copy()\n",
    "    for col in data.describe().columns:\n",
    "        maxx = data.describe()[col]['max']\n",
    "        minn = data.describe()[col]['min']\n",
    "        mean = data.describe()[col]['mean']\n",
    "        std =  data.describe()[col]['std']\n",
    "\n",
    "        if maxx>(mean+10*std):\n",
    "            out_col.append(col)\n",
    "            print \"outliers for column\", col, \"are\",np.unique(data[col].ix[data[col]>(mean+10*std)].values)\n",
    "            data=data[data[col]<(mean+10*std)]\n",
    "        elif minn<(mean-10*std):\n",
    "            out_col.append(col)\n",
    "            print \"outliers for column\", col, \"are\",np.unique(saltsnck_preped[col].ix[saltsnck_preped[col]>(mean-10*std)].values)\n",
    "            data=data[data[col]>(mean-10*std)]\n",
    "    print \"columns containing outliers are: \",out_col\n",
    "    return data"
   ]
  },
  {
   "cell_type": "code",
   "execution_count": 133,
   "metadata": {
    "collapsed": false
   },
   "outputs": [
    {
     "name": "stdout",
     "output_type": "stream",
     "text": [
      "columns containing outliers are:  []\n"
     ]
    }
   ],
   "source": [
    "saltsnck_preped_grp=outlier_detector(saltsnck_preped_grp)"
   ]
  },
  {
   "cell_type": "markdown",
   "metadata": {},
   "source": [
    "# Creating Model"
   ]
  },
  {
   "cell_type": "code",
   "execution_count": 208,
   "metadata": {
    "collapsed": false
   },
   "outputs": [
    {
     "name": "stderr",
     "output_type": "stream",
     "text": [
      "C:\\Users\\phesami\\AppData\\Local\\Continuum\\Anaconda2\\lib\\site-packages\\ipykernel\\__main__.py:1: FutureWarning: using '-' to provide set differences with Indexes is deprecated, use .difference()\n",
      "  if __name__ == '__main__':\n"
     ]
    },
    {
     "data": {
      "text/html": [
       "<div>\n",
       "<table border=\"1\" class=\"dataframe\">\n",
       "  <thead>\n",
       "    <tr style=\"text-align: right;\">\n",
       "      <th></th>\n",
       "      <th>D</th>\n",
       "      <th>F</th>\n",
       "      <th>PR</th>\n",
       "    </tr>\n",
       "  </thead>\n",
       "  <tbody>\n",
       "    <tr>\n",
       "      <th>0</th>\n",
       "      <td>87</td>\n",
       "      <td>1422</td>\n",
       "      <td>272</td>\n",
       "    </tr>\n",
       "    <tr>\n",
       "      <th>1</th>\n",
       "      <td>249</td>\n",
       "      <td>1646</td>\n",
       "      <td>297</td>\n",
       "    </tr>\n",
       "    <tr>\n",
       "      <th>2</th>\n",
       "      <td>110</td>\n",
       "      <td>1818</td>\n",
       "      <td>378</td>\n",
       "    </tr>\n",
       "    <tr>\n",
       "      <th>3</th>\n",
       "      <td>198</td>\n",
       "      <td>1894</td>\n",
       "      <td>402</td>\n",
       "    </tr>\n",
       "    <tr>\n",
       "      <th>4</th>\n",
       "      <td>0</td>\n",
       "      <td>17</td>\n",
       "      <td>6</td>\n",
       "    </tr>\n",
       "  </tbody>\n",
       "</table>\n",
       "</div>"
      ],
      "text/plain": [
       "     D     F   PR\n",
       "0   87  1422  272\n",
       "1  249  1646  297\n",
       "2  110  1818  378\n",
       "3  198  1894  402\n",
       "4    0    17    6"
      ]
     },
     "execution_count": 208,
     "metadata": {},
     "output_type": "execute_result"
    }
   ],
   "source": [
    "feature_cols = saltsnck_preped_grp.columns-['DOLLARS','UNITS','L2']\n",
    "target_col1 = 'L2'\n",
    "target_col2 = 'DOLLARS'\n",
    "\n",
    "\n",
    "target1 = saltsnck_preped_grp[target_col1]\n",
    "target2 = saltsnck_preped_grp[target_col2]\n",
    "features = saltsnck_preped_grp[feature_cols]\n",
    "\n",
    "features.head()"
   ]
  },
  {
   "cell_type": "markdown",
   "metadata": {},
   "source": [
    "# classifying the product category"
   ]
  },
  {
   "cell_type": "markdown",
   "metadata": {},
   "source": [
    "### Decision Tree"
   ]
  },
  {
   "cell_type": "code",
   "execution_count": 209,
   "metadata": {
    "collapsed": false
   },
   "outputs": [
    {
     "name": "stdout",
     "output_type": "stream",
     "text": [
      "score on train set: 0.991273100616\n",
      "score on test set: 0.852459016393\n",
      "CV Variance score: 0.87\n"
     ]
    }
   ],
   "source": [
    "X_train, X_test, y_train, y_test = train_test_split(features, target1, test_size=0.2, random_state=4)\n",
    "dtree = DecisionTreeClassifier()\n",
    "dtree.fit(X_train, y_train)\n",
    "print \"score on train set:\", dtree.score(X_train, y_train)\n",
    "print \"score on test set:\", dtree.score(X_test, y_test)\n",
    "print('CV Variance score: %.2f' % np.mean(cross_validation.cross_val_score(dtree, features, target1, cv=10)))\n"
   ]
  },
  {
   "cell_type": "code",
   "execution_count": 210,
   "metadata": {
    "collapsed": false
   },
   "outputs": [
    {
     "data": {
      "text/plain": [
       "array([ 0.94842586,  0.04472492,  0.00684923])"
      ]
     },
     "execution_count": 210,
     "metadata": {},
     "output_type": "execute_result"
    }
   ],
   "source": [
    "pca = decomposition.PCA()\n",
    "pca.fit(features)\n",
    "features = pca.transform(features)\n",
    "pca.explained_variance_ratio_"
   ]
  },
  {
   "cell_type": "markdown",
   "metadata": {},
   "source": [
    "# predicting the dollar amount"
   ]
  },
  {
   "cell_type": "markdown",
   "metadata": {},
   "source": [
    "### Random Forest"
   ]
  },
  {
   "cell_type": "code",
   "execution_count": 211,
   "metadata": {
    "collapsed": false
   },
   "outputs": [
    {
     "name": "stdout",
     "output_type": "stream",
     "text": [
      "score on train set: 0.964867467163\n",
      "score on test set: 0.873442189191\n",
      "CV Variance score: 0.80\n"
     ]
    }
   ],
   "source": [
    "X_train, X_test, y_train, y_test = train_test_split(features, target2, test_size=0.2, random_state=4)\n",
    "tree = RandomForestRegressor()\n",
    "tree.fit(X_train, y_train)\n",
    "print \"score on train set:\", tree.score(X_train, y_train)\n",
    "print \"score on test set:\", tree.score(X_test, y_test)\n",
    "print('CV Variance score: %.2f' % np.mean(cross_validation.cross_val_score(tree, features, target2, cv=10)))"
   ]
  },
  {
   "cell_type": "markdown",
   "metadata": {},
   "source": [
    "# Stacking"
   ]
  },
  {
   "cell_type": "code",
   "execution_count": null,
   "metadata": {
    "collapsed": true
   },
   "outputs": [],
   "source": [
    "## writing a class with fit/predict/scoring method, to fit the sub-classifiers onto the data and fit\n",
    "# a meta classifier on top of the base classifier and evaluate the performance\n",
    "class stacked_classifier():\n",
    "    def __init__(self, base_classifiers=None, meta_classifier=None):\n",
    "        self.base_classifiers = base_classifiers\n",
    "        self.meta_classifier = meta_classifier\n",
    "\n",
    "\n",
    "    def fit(self, X, y):\n",
    "        for classifier in self.base_classifiers:\n",
    "            classifier.fit(X, y)\n",
    "        X_meta=self.predict_base(X)\n",
    "        self.meta_classifier.fit(X_meta, y)\n",
    "\n",
    "    def predict_base(self, X):\n",
    "        self.predictions = np.zeros(len(X))\n",
    "        for classifier in self.base_classifiers:\n",
    "            self.predictions=np.column_stack([self.predictions, classifier.predict(X)])\n",
    "        return self.predictions\n",
    "        \n",
    "    def scoring(self,X,y):\n",
    "        clf_score=[]\n",
    "        for classifier in self.base_classifiers:\n",
    "            #print \"The score of base classifier\", type(classifier), \"is: \", classifier.score(X, y)\n",
    "            clf_score.append(classifier.score(X, y))\n",
    "        #print \"The score of the final stacked classifier is: \", self.meta_classifier.score(self.predict_base(X),y)\n",
    "        clf_score.append(self.meta_classifier.score(self.predict_base(X),y))\n",
    "        return clf_score"
   ]
  },
  {
   "cell_type": "markdown",
   "metadata": {},
   "source": [
    "# Creating sub and meta classifiers"
   ]
  },
  {
   "cell_type": "code",
   "execution_count": null,
   "metadata": {
    "collapsed": false
   },
   "outputs": [],
   "source": [
    "DTC = DecisionTreeClassifier(random_state=0)\n",
    "LR = linear_model.LogisticRegression()\n",
    "RC =  linear_model.RidgeClassifier(random_state=1)\n",
    "ETC = ExtraTreeClassifier(random_state=32)\n",
    "KNC = KNeighborsClassifier ()\n",
    "BC = BaggingClassifier()"
   ]
  },
  {
   "cell_type": "code",
   "execution_count": null,
   "metadata": {
    "collapsed": false
   },
   "outputs": [],
   "source": [
    "X_train, X_test, y_train, y_test = train_test_split(features, target1, test_size=0.2, random_state=4)"
   ]
  },
  {
   "cell_type": "markdown",
   "metadata": {},
   "source": [
    "# Importing the results of all possible combinations of base+meta classifier into a DataFrame"
   ]
  },
  {
   "cell_type": "code",
   "execution_count": null,
   "metadata": {
    "collapsed": true
   },
   "outputs": [],
   "source": [
    "def stack_scoring(clf_dict, score_df, n):\n",
    "    l=0\n",
    "    for clf in combinations(clf_dict,n):\n",
    "        stacked_clf=stacked_classifier(base_classifiers=clf[0:n-1], meta_classifier=clf[n-1])\n",
    "        stacked_clf.fit(X_train,y_train)\n",
    "        clf_scores=[clf_dict.get(clf[i]) for i in range(n)]+stacked_clf.scoring(X_test,y_test)\n",
    "        score_df.loc[l]= clf_scores\n",
    "        l+=1\n",
    "    return score_df"
   ]
  },
  {
   "cell_type": "code",
   "execution_count": null,
   "metadata": {
    "collapsed": false,
    "scrolled": false
   },
   "outputs": [],
   "source": [
    "clf_dict={DTC: 'Decision Tree',LR:'Logistic Regression',RC: 'Ridge', ETC: 'Extra Tree', KNC:'KNeighbor', BC:'Bagging'}\n",
    "score_df = pd.DataFrame(columns=['Base1','Base2','Base3', 'Meta','Base1 Score','Base2 Score','Base3 Score', 'Meta Score'])\n",
    "\n",
    "stack_2_base_score = stack_scoring(clf_dict,score_df, 4)\n",
    "print \"Best stacked classifier with 2 sub-classifier is: \\n\", stack_2_base_score.loc[stack_2_base_score['Meta Score'].idxmax()]\n",
    "stack_2_base_score"
   ]
  }
 ],
 "metadata": {
  "kernelspec": {
   "display_name": "Python 2",
   "language": "python",
   "name": "python2"
  },
  "language_info": {
   "codemirror_mode": {
    "name": "ipython",
    "version": 2
   },
   "file_extension": ".py",
   "mimetype": "text/x-python",
   "name": "python",
   "nbconvert_exporter": "python",
   "pygments_lexer": "ipython2",
   "version": "2.7.10"
  }
 },
 "nbformat": 4,
 "nbformat_minor": 0
}
